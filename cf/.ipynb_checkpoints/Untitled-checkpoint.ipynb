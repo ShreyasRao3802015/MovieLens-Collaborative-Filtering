{
 "cells": [
  {
   "cell_type": "code",
   "execution_count": 1,
   "id": "3606fc9a-3605-4ed3-a56a-7200915f0c98",
   "metadata": {},
   "outputs": [],
   "source": [
    "import numpy as np\n",
    "import pandas as pd\n",
    "import matplotlib.pyplot as plt\n",
    "import seaborn as sns\n",
    "sns.set(style=\"whitegrid\", palette=\"Set2\")\n",
    "from scipy.sparse import csr_matrix\n",
    "from tqdm import tqdm"
   ]
  },
  {
   "cell_type": "code",
   "execution_count": 2,
   "id": "f7147c25-57e2-4409-8def-5c4c24db0f45",
   "metadata": {},
   "outputs": [
    {
     "name": "stdout",
     "output_type": "stream",
     "text": [
      "Preprocessing data...\n",
      "Number of unique users: 6040\n",
      "Number of unique items: 3706\n",
      "Total ratings: 1000209\n"
     ]
    },
    {
     "data": {
      "text/html": [
       "<div>\n",
       "<style scoped>\n",
       "    .dataframe tbody tr th:only-of-type {\n",
       "        vertical-align: middle;\n",
       "    }\n",
       "\n",
       "    .dataframe tbody tr th {\n",
       "        vertical-align: top;\n",
       "    }\n",
       "\n",
       "    .dataframe thead th {\n",
       "        text-align: right;\n",
       "    }\n",
       "</style>\n",
       "<table border=\"1\" class=\"dataframe\">\n",
       "  <thead>\n",
       "    <tr style=\"text-align: right;\">\n",
       "      <th></th>\n",
       "      <th>user_id</th>\n",
       "      <th>movie_id</th>\n",
       "      <th>rating</th>\n",
       "      <th>timestamp</th>\n",
       "      <th>user_idx</th>\n",
       "      <th>movie_idx</th>\n",
       "    </tr>\n",
       "  </thead>\n",
       "  <tbody>\n",
       "    <tr>\n",
       "      <th>0</th>\n",
       "      <td>1</td>\n",
       "      <td>1193</td>\n",
       "      <td>5</td>\n",
       "      <td>978300760</td>\n",
       "      <td>0</td>\n",
       "      <td>0</td>\n",
       "    </tr>\n",
       "    <tr>\n",
       "      <th>1</th>\n",
       "      <td>1</td>\n",
       "      <td>661</td>\n",
       "      <td>3</td>\n",
       "      <td>978302109</td>\n",
       "      <td>0</td>\n",
       "      <td>1</td>\n",
       "    </tr>\n",
       "    <tr>\n",
       "      <th>2</th>\n",
       "      <td>1</td>\n",
       "      <td>914</td>\n",
       "      <td>3</td>\n",
       "      <td>978301968</td>\n",
       "      <td>0</td>\n",
       "      <td>2</td>\n",
       "    </tr>\n",
       "    <tr>\n",
       "      <th>3</th>\n",
       "      <td>1</td>\n",
       "      <td>3408</td>\n",
       "      <td>4</td>\n",
       "      <td>978300275</td>\n",
       "      <td>0</td>\n",
       "      <td>3</td>\n",
       "    </tr>\n",
       "    <tr>\n",
       "      <th>4</th>\n",
       "      <td>1</td>\n",
       "      <td>2355</td>\n",
       "      <td>5</td>\n",
       "      <td>978824291</td>\n",
       "      <td>0</td>\n",
       "      <td>4</td>\n",
       "    </tr>\n",
       "    <tr>\n",
       "      <th>...</th>\n",
       "      <td>...</td>\n",
       "      <td>...</td>\n",
       "      <td>...</td>\n",
       "      <td>...</td>\n",
       "      <td>...</td>\n",
       "      <td>...</td>\n",
       "    </tr>\n",
       "    <tr>\n",
       "      <th>1000204</th>\n",
       "      <td>6040</td>\n",
       "      <td>1091</td>\n",
       "      <td>1</td>\n",
       "      <td>956716541</td>\n",
       "      <td>6039</td>\n",
       "      <td>772</td>\n",
       "    </tr>\n",
       "    <tr>\n",
       "      <th>1000205</th>\n",
       "      <td>6040</td>\n",
       "      <td>1094</td>\n",
       "      <td>5</td>\n",
       "      <td>956704887</td>\n",
       "      <td>6039</td>\n",
       "      <td>1106</td>\n",
       "    </tr>\n",
       "    <tr>\n",
       "      <th>1000206</th>\n",
       "      <td>6040</td>\n",
       "      <td>562</td>\n",
       "      <td>5</td>\n",
       "      <td>956704746</td>\n",
       "      <td>6039</td>\n",
       "      <td>365</td>\n",
       "    </tr>\n",
       "    <tr>\n",
       "      <th>1000207</th>\n",
       "      <td>6040</td>\n",
       "      <td>1096</td>\n",
       "      <td>4</td>\n",
       "      <td>956715648</td>\n",
       "      <td>6039</td>\n",
       "      <td>152</td>\n",
       "    </tr>\n",
       "    <tr>\n",
       "      <th>1000208</th>\n",
       "      <td>6040</td>\n",
       "      <td>1097</td>\n",
       "      <td>4</td>\n",
       "      <td>956715569</td>\n",
       "      <td>6039</td>\n",
       "      <td>26</td>\n",
       "    </tr>\n",
       "  </tbody>\n",
       "</table>\n",
       "<p>1000209 rows × 6 columns</p>\n",
       "</div>"
      ],
      "text/plain": [
       "         user_id  movie_id  rating  timestamp  user_idx  movie_idx\n",
       "0              1      1193       5  978300760         0          0\n",
       "1              1       661       3  978302109         0          1\n",
       "2              1       914       3  978301968         0          2\n",
       "3              1      3408       4  978300275         0          3\n",
       "4              1      2355       5  978824291         0          4\n",
       "...          ...       ...     ...        ...       ...        ...\n",
       "1000204     6040      1091       1  956716541      6039        772\n",
       "1000205     6040      1094       5  956704887      6039       1106\n",
       "1000206     6040       562       5  956704746      6039        365\n",
       "1000207     6040      1096       4  956715648      6039        152\n",
       "1000208     6040      1097       4  956715569      6039         26\n",
       "\n",
       "[1000209 rows x 6 columns]"
      ]
     },
     "metadata": {},
     "output_type": "display_data"
    }
   ],
   "source": [
    "def preprocess_data(data_path):\n",
    "    print(\"Preprocessing data...\")\n",
    "    r_cols = ['user_id', 'movie_id', 'rating', 'timestamp']\n",
    "    ratings = pd.read_csv(data_path, sep='::', names=r_cols, engine='python', encoding='latin-1')\n",
    "\n",
    "    user_ids = ratings['user_id'].unique().tolist()\n",
    "    user2idx = {user_id: i for i, user_id in enumerate(user_ids)}\n",
    "    ratings['user_idx'] = ratings['user_id'].apply(lambda x: user2idx[x])\n",
    "\n",
    "    movie_ids = ratings['movie_id'].unique().tolist()\n",
    "    movie2idx = {movie_id: i for i, movie_id in enumerate(movie_ids)}\n",
    "    ratings['movie_idx'] = ratings['movie_id'].apply(lambda x: movie2idx[x])\n",
    "\n",
    "    num_users = len(user2idx)\n",
    "    num_items = len(movie2idx)\n",
    "\n",
    "    print(f\"Number of unique users: {num_users}\")\n",
    "    print(f\"Number of unique items: {num_items}\")\n",
    "    print(f\"Total ratings: {len(ratings)}\")\n",
    "\n",
    "    return ratings, num_users, num_items, user2idx, movie2idx\n",
    "\n",
    "ratings_df, num_users, num_items, user2idx, movie2idx = preprocess_data(\"data/ml-1M/ratings.dat\")\n",
    "display(ratings_df)"
   ]
  },
  {
   "cell_type": "code",
   "execution_count": null,
   "id": "0a34ba35-822f-40b6-9e24-c96b155493d6",
   "metadata": {},
   "outputs": [],
   "source": []
  },
  {
   "cell_type": "markdown",
   "id": "694cf2d0-5bc3-4221-9007-489fbc5c8a41",
   "metadata": {},
   "source": [
    "## EDA"
   ]
  },
  {
   "cell_type": "markdown",
   "id": "b447e57c-8dc8-476c-9209-1e8ea038dd81",
   "metadata": {},
   "source": [
    "### 1) Are there any duplicate ratings?"
   ]
  },
  {
   "cell_type": "code",
   "execution_count": 3,
   "id": "e151d7b8-cc98-41b9-b622-6d39d100d05a",
   "metadata": {},
   "outputs": [
    {
     "data": {
      "text/html": [
       "<div>\n",
       "<style scoped>\n",
       "    .dataframe tbody tr th:only-of-type {\n",
       "        vertical-align: middle;\n",
       "    }\n",
       "\n",
       "    .dataframe tbody tr th {\n",
       "        vertical-align: top;\n",
       "    }\n",
       "\n",
       "    .dataframe thead th {\n",
       "        text-align: right;\n",
       "    }\n",
       "</style>\n",
       "<table border=\"1\" class=\"dataframe\">\n",
       "  <thead>\n",
       "    <tr style=\"text-align: right;\">\n",
       "      <th></th>\n",
       "      <th>user_id</th>\n",
       "      <th>movie_id</th>\n",
       "      <th>rating</th>\n",
       "      <th>timestamp</th>\n",
       "      <th>user_idx</th>\n",
       "      <th>movie_idx</th>\n",
       "    </tr>\n",
       "  </thead>\n",
       "  <tbody>\n",
       "  </tbody>\n",
       "</table>\n",
       "</div>"
      ],
      "text/plain": [
       "Empty DataFrame\n",
       "Columns: [user_id, movie_id, rating, timestamp, user_idx, movie_idx]\n",
       "Index: []"
      ]
     },
     "execution_count": 3,
     "metadata": {},
     "output_type": "execute_result"
    }
   ],
   "source": [
    "ratings_df[ratings_df.duplicated(subset = ['user_idx', 'movie_idx'])]"
   ]
  },
  {
   "cell_type": "markdown",
   "id": "8f5c2c91-0b5b-49b2-8465-470e8cd1054e",
   "metadata": {},
   "source": [
    "There are **no duplicate entries** found. For example, there is no case where the same user has logged 2 different rating entries for the same movie"
   ]
  },
  {
   "cell_type": "code",
   "execution_count": null,
   "id": "e6f480aa-977c-44d8-a9b6-5ad3a881a476",
   "metadata": {},
   "outputs": [],
   "source": []
  },
  {
   "cell_type": "markdown",
   "id": "dbe70400-5099-40a4-acc9-80d4f8569c09",
   "metadata": {},
   "source": [
    "### 2) What is the distribution of number of ratings logged per user"
   ]
  },
  {
   "cell_type": "code",
   "execution_count": 4,
   "id": "d004785e-74c6-4fc5-9cb9-7c777e46f307",
   "metadata": {},
   "outputs": [
    {
     "data": {
      "text/html": [
       "<div>\n",
       "<style scoped>\n",
       "    .dataframe tbody tr th:only-of-type {\n",
       "        vertical-align: middle;\n",
       "    }\n",
       "\n",
       "    .dataframe tbody tr th {\n",
       "        vertical-align: top;\n",
       "    }\n",
       "\n",
       "    .dataframe thead th {\n",
       "        text-align: right;\n",
       "    }\n",
       "</style>\n",
       "<table border=\"1\" class=\"dataframe\">\n",
       "  <thead>\n",
       "    <tr style=\"text-align: right;\">\n",
       "      <th></th>\n",
       "      <th>user_idx</th>\n",
       "      <th>count</th>\n",
       "    </tr>\n",
       "  </thead>\n",
       "  <tbody>\n",
       "    <tr>\n",
       "      <th>0</th>\n",
       "      <td>4168</td>\n",
       "      <td>2314</td>\n",
       "    </tr>\n",
       "    <tr>\n",
       "      <th>1</th>\n",
       "      <td>1679</td>\n",
       "      <td>1850</td>\n",
       "    </tr>\n",
       "    <tr>\n",
       "      <th>2</th>\n",
       "      <td>4276</td>\n",
       "      <td>1743</td>\n",
       "    </tr>\n",
       "  </tbody>\n",
       "</table>\n",
       "</div>"
      ],
      "text/plain": [
       "   user_idx  count\n",
       "0      4168   2314\n",
       "1      1679   1850\n",
       "2      4276   1743"
      ]
     },
     "execution_count": 4,
     "metadata": {},
     "output_type": "execute_result"
    }
   ],
   "source": [
    "user_counts = ratings_df['user_idx'].value_counts().reset_index()\n",
    "user_counts.head(3)"
   ]
  },
  {
   "cell_type": "code",
   "execution_count": 5,
   "id": "872e9d2b-752a-4eb3-81c9-2455d0d560dc",
   "metadata": {},
   "outputs": [
    {
     "data": {
      "image/png": "[encoded data removed]",
      "text/plain": [
       "<Figure size 1000x800 with 2 Axes>"
      ]
     },
     "metadata": {},
     "output_type": "display_data"
    }
   ],
   "source": [
    "fig, ax = plt.subplots(2, 1, figsize=(10, 8))\n",
    "sns.histplot(data=user_counts['count'], bins=20, kde=True, ax=ax[0])\n",
    "ax[0].set_title('Distribution of Number of Interactions per User')\n",
    "ax[0].set_xlabel('Ratings Count')\n",
    "ax[0].set_ylabel('Count')\n",
    "\n",
    "# Plot the boxenplot on the second subplot (ax[1])\n",
    "sns.boxplot(x=user_counts['count'], ax=ax[1])\n",
    "median_val = user_counts['count'].median()\n",
    "std_val = user_counts['count'].std()\n",
    "# ax[1].axvline(median_val, color='black', linestyle='--')\n",
    "ax[1].text(x=median_val + 25, y=-0.425, s=f\"Median = {median_val:.2f}, STD = {std_val:.2f}\")\n",
    "ax[1].set_title('Boxenplot of User Interactions')\n",
    "ax[1].set_xlabel('Ratings Count')\n",
    "ax[1].set_ylabel('')\n",
    "\n",
    "plt.tight_layout()\n",
    "\n",
    "# Display the plot\n",
    "plt.show()\n"
   ]
  },
  {
   "cell_type": "markdown",
   "id": "5d922fbd-6d2f-4c77-945a-0594ee8e01a9",
   "metadata": {},
   "source": [
    "- A long right tail in the kdeplot\n",
    "- A standard deviation (~193) being double of Median (96) for a value (count) which is always positive resulting in outliers beyond the right whisker\n",
    "\n",
    "There are very few users who have a high number of interactions (e.g., over 500 interactions)."
   ]
  },
  {
   "cell_type": "code",
   "execution_count": null,
   "id": "8956417a-5ab8-4acb-abc4-dd5f8700ec9b",
   "metadata": {},
   "outputs": [],
   "source": []
  },
  {
   "cell_type": "markdown",
   "id": "fb73da2b-86e3-444d-8fea-152491317e42",
   "metadata": {},
   "source": [
    "### 2) What is the distribution of number of ratings logged per movie"
   ]
  },
  {
   "cell_type": "code",
   "execution_count": 6,
   "id": "03614dee-bdfb-4f1a-996b-5988d70bd05d",
   "metadata": {},
   "outputs": [
    {
     "data": {
      "text/html": [
       "<div>\n",
       "<style scoped>\n",
       "    .dataframe tbody tr th:only-of-type {\n",
       "        vertical-align: middle;\n",
       "    }\n",
       "\n",
       "    .dataframe tbody tr th {\n",
       "        vertical-align: top;\n",
       "    }\n",
       "\n",
       "    .dataframe thead th {\n",
       "        text-align: right;\n",
       "    }\n",
       "</style>\n",
       "<table border=\"1\" class=\"dataframe\">\n",
       "  <thead>\n",
       "    <tr style=\"text-align: right;\">\n",
       "      <th></th>\n",
       "      <th>movie_idx</th>\n",
       "      <th>count</th>\n",
       "    </tr>\n",
       "  </thead>\n",
       "  <tbody>\n",
       "    <tr>\n",
       "      <th>0</th>\n",
       "      <td>104</td>\n",
       "      <td>3428</td>\n",
       "    </tr>\n",
       "    <tr>\n",
       "      <th>1</th>\n",
       "      <td>44</td>\n",
       "      <td>2991</td>\n",
       "    </tr>\n",
       "    <tr>\n",
       "      <th>2</th>\n",
       "      <td>124</td>\n",
       "      <td>2990</td>\n",
       "    </tr>\n",
       "  </tbody>\n",
       "</table>\n",
       "</div>"
      ],
      "text/plain": [
       "   movie_idx  count\n",
       "0        104   3428\n",
       "1         44   2991\n",
       "2        124   2990"
      ]
     },
     "execution_count": 6,
     "metadata": {},
     "output_type": "execute_result"
    }
   ],
   "source": [
    "movie_counts = ratings_df['movie_idx'].value_counts().reset_index()\n",
    "movie_counts.head(3)"
   ]
  },
  {
   "cell_type": "code",
   "execution_count": 7,
   "id": "820056a6-b0ab-48d9-a76a-2b3510bf662f",
   "metadata": {},
   "outputs": [
    {
     "data": {
      "image/png": "[encoded data removed]",
      "text/plain": [
       "<Figure size 1000x800 with 2 Axes>"
      ]
     },
     "metadata": {},
     "output_type": "display_data"
    }
   ],
   "source": [
    "fig, ax = plt.subplots(2, 1, figsize=(10, 8))\n",
    "sns.histplot(data=movie_counts['count'], bins=20, kde=True, ax=ax[0])\n",
    "ax[0].set_title('Distribution of Number of Interactions per Item')\n",
    "ax[0].set_xlabel('Ratings Count')\n",
    "ax[0].set_ylabel('Count')\n",
    "\n",
    "# Plot the boxenplot on the second subplot (ax[1])\n",
    "sns.boxplot(x=movie_counts['count'], ax=ax[1])\n",
    "median_val = movie_counts['count'].median()\n",
    "std_val = movie_counts['count'].std()\n",
    "# ax[1].axvline(median_val, color='black', linestyle='--')\n",
    "ax[1].text(x=median_val + 25, y=-0.425, s=f\"Median = {median_val:.2f}, STD = {std_val:.2f}\")\n",
    "ax[1].set_title('Boxenplot of Item Interactions')\n",
    "ax[1].set_xlabel('Ratings Count')\n",
    "ax[1].set_ylabel('')\n",
    "\n",
    "plt.tight_layout()\n",
    "\n",
    "# Display the plot\n",
    "plt.show()\n"
   ]
  },
  {
   "cell_type": "markdown",
   "id": "5d128fbd-0b55-42ea-92f0-2f44c472d893",
   "metadata": {},
   "source": [
    "- Number of interactions per item has a longer right tail suggesting that some movies were more frequently watched (hence rated) by more users\n",
    "\n",
    "- Hypothesis: The number of ratings recieved for each movie could be suggestive of the popularity of the movie. Lets test this in the following section"
   ]
  },
  {
   "cell_type": "code",
   "execution_count": null,
   "id": "69a48982-0114-461f-880d-d4ae00ec99d9",
   "metadata": {},
   "outputs": [],
   "source": []
  },
  {
   "cell_type": "markdown",
   "id": "a81c0507-c00a-4abb-8fd8-864fe9ab31f1",
   "metadata": {},
   "source": [
    "### 3. Average Rating per movie Distribution"
   ]
  },
  {
   "cell_type": "code",
   "execution_count": 8,
   "id": "7af37a46-5d93-4ce4-ba70-0c51431d7217",
   "metadata": {},
   "outputs": [
    {
     "data": {
      "text/html": [
       "<div>\n",
       "<style scoped>\n",
       "    .dataframe tbody tr th:only-of-type {\n",
       "        vertical-align: middle;\n",
       "    }\n",
       "\n",
       "    .dataframe tbody tr th {\n",
       "        vertical-align: top;\n",
       "    }\n",
       "\n",
       "    .dataframe thead th {\n",
       "        text-align: right;\n",
       "    }\n",
       "</style>\n",
       "<table border=\"1\" class=\"dataframe\">\n",
       "  <thead>\n",
       "    <tr style=\"text-align: right;\">\n",
       "      <th></th>\n",
       "      <th>movie_idx</th>\n",
       "      <th>rating</th>\n",
       "      <th>count</th>\n",
       "      <th>rating_bin</th>\n",
       "      <th>counts_bin</th>\n",
       "    </tr>\n",
       "  </thead>\n",
       "  <tbody>\n",
       "    <tr>\n",
       "      <th>0</th>\n",
       "      <td>0</td>\n",
       "      <td>4.390725</td>\n",
       "      <td>1725</td>\n",
       "      <td>4.0-4.5</td>\n",
       "      <td>1600-1800</td>\n",
       "    </tr>\n",
       "    <tr>\n",
       "      <th>1</th>\n",
       "      <td>1</td>\n",
       "      <td>3.464762</td>\n",
       "      <td>525</td>\n",
       "      <td>3.0-3.5</td>\n",
       "      <td>400-600</td>\n",
       "    </tr>\n",
       "    <tr>\n",
       "      <th>2</th>\n",
       "      <td>2</td>\n",
       "      <td>4.154088</td>\n",
       "      <td>636</td>\n",
       "      <td>4.0-4.5</td>\n",
       "      <td>600-800</td>\n",
       "    </tr>\n",
       "    <tr>\n",
       "      <th>3</th>\n",
       "      <td>3</td>\n",
       "      <td>3.863878</td>\n",
       "      <td>1315</td>\n",
       "      <td>3.5-4.0</td>\n",
       "      <td>1200-1400</td>\n",
       "    </tr>\n",
       "    <tr>\n",
       "      <th>4</th>\n",
       "      <td>4</td>\n",
       "      <td>3.854375</td>\n",
       "      <td>1703</td>\n",
       "      <td>3.5-4.0</td>\n",
       "      <td>1600-1800</td>\n",
       "    </tr>\n",
       "    <tr>\n",
       "      <th>...</th>\n",
       "      <td>...</td>\n",
       "      <td>...</td>\n",
       "      <td>...</td>\n",
       "      <td>...</td>\n",
       "      <td>...</td>\n",
       "    </tr>\n",
       "    <tr>\n",
       "      <th>3701</th>\n",
       "      <td>3701</td>\n",
       "      <td>4.000000</td>\n",
       "      <td>2</td>\n",
       "      <td>3.5-4.0</td>\n",
       "      <td>0-200</td>\n",
       "    </tr>\n",
       "    <tr>\n",
       "      <th>3702</th>\n",
       "      <td>3702</td>\n",
       "      <td>3.000000</td>\n",
       "      <td>1</td>\n",
       "      <td>2.5-3.0</td>\n",
       "      <td>0-200</td>\n",
       "    </tr>\n",
       "    <tr>\n",
       "      <th>3703</th>\n",
       "      <td>3703</td>\n",
       "      <td>1.000000</td>\n",
       "      <td>1</td>\n",
       "      <td>1.0-1.5</td>\n",
       "      <td>0-200</td>\n",
       "    </tr>\n",
       "    <tr>\n",
       "      <th>3704</th>\n",
       "      <td>3704</td>\n",
       "      <td>5.000000</td>\n",
       "      <td>1</td>\n",
       "      <td>4.5-5.0</td>\n",
       "      <td>0-200</td>\n",
       "    </tr>\n",
       "    <tr>\n",
       "      <th>3705</th>\n",
       "      <td>3705</td>\n",
       "      <td>4.000000</td>\n",
       "      <td>1</td>\n",
       "      <td>3.5-4.0</td>\n",
       "      <td>0-200</td>\n",
       "    </tr>\n",
       "  </tbody>\n",
       "</table>\n",
       "<p>3706 rows × 5 columns</p>\n",
       "</div>"
      ],
      "text/plain": [
       "      movie_idx    rating  count rating_bin counts_bin\n",
       "0             0  4.390725   1725    4.0-4.5  1600-1800\n",
       "1             1  3.464762    525    3.0-3.5    400-600\n",
       "2             2  4.154088    636    4.0-4.5    600-800\n",
       "3             3  3.863878   1315    3.5-4.0  1200-1400\n",
       "4             4  3.854375   1703    3.5-4.0  1600-1800\n",
       "...         ...       ...    ...        ...        ...\n",
       "3701       3701  4.000000      2    3.5-4.0      0-200\n",
       "3702       3702  3.000000      1    2.5-3.0      0-200\n",
       "3703       3703  1.000000      1    1.0-1.5      0-200\n",
       "3704       3704  5.000000      1    4.5-5.0      0-200\n",
       "3705       3705  4.000000      1    3.5-4.0      0-200\n",
       "\n",
       "[3706 rows x 5 columns]"
      ]
     },
     "execution_count": 8,
     "metadata": {},
     "output_type": "execute_result"
    }
   ],
   "source": [
    "avg_movie_rating = ratings_df.groupby('movie_idx')['rating'].mean().reset_index()\n",
    "avg_movie_rating_count = pd.merge(avg_movie_rating, movie_counts, on='movie_idx')\n",
    "\n",
    "rating_bins = np.arange(1,5.5,0.5)\n",
    "rating_bins_string = [f'{rating_bins[i]:.1f}-{rating_bins[i+1]:.1f}' for i in range(len(rating_bins) -1)]\n",
    "\n",
    "def binify_rating(x):\n",
    "    for i in range(len(rating_bins)-1):\n",
    "        if x >= rating_bins[i] and x <= rating_bins[i+1]:\n",
    "            return rating_bins_string[i]\n",
    "\n",
    "count_bins = np.arange(0,movie_counts['count'].max()+200,200)\n",
    "count_bins_string = [f'{count_bins[i]}-{count_bins[i+1]}' for i in range(len(count_bins) -1)]\n",
    "\n",
    "def binify_counts(x):\n",
    "    for i in range(len(count_bins)-1):\n",
    "        if x >= count_bins[i] and x <= count_bins[i+1]:\n",
    "            return count_bins_string[i]\n",
    "\n",
    "\n",
    "avg_movie_rating_count['rating_bin'] = avg_movie_rating_count['rating'].apply(binify_rating)\n",
    "avg_movie_rating_count['counts_bin'] = avg_movie_rating_count['count'].apply(binify_counts)\n",
    "\n",
    "avg_movie_rating_count"
   ]
  },
  {
   "cell_type": "code",
   "execution_count": 9,
   "id": "e0b0479f-d230-4d3b-a905-3c62a58f55c7",
   "metadata": {},
   "outputs": [
    {
     "data": {
      "image/png": "[encoded data removed]",
      "text/plain": [
       "<Figure size 1500x1000 with 1 Axes>"
      ]
     },
     "metadata": {},
     "output_type": "display_data"
    }
   ],
   "source": [
    "plt.figure(figsize=(15,10))\n",
    "sns.boxplot(data=avg_movie_rating_count, x='count', hue='rating_bin', fill=True, hue_order=rating_bins_string, gap = 0.2)\n",
    "plt.tight_layout()\n",
    "plt.show()"
   ]
  },
  {
   "cell_type": "markdown",
   "id": "46b111d8-ad3f-4ed9-8f4b-f7173b608b8b",
   "metadata": {},
   "source": [
    "#### There definitely seems a correlation between the number of ratings a movie recieved with the average movie rating. Due to this, we will be using the average rating of a movie as proxy for popularity."
   ]
  },
  {
   "cell_type": "code",
   "execution_count": null,
   "id": "f30655ad-1b9b-48c5-87d7-1ef07e148fd3",
   "metadata": {},
   "outputs": [],
   "source": []
  },
  {
   "cell_type": "code",
   "execution_count": null,
   "id": "b586ad8e-7f59-4e98-bcca-f3be83467abc",
   "metadata": {},
   "outputs": [],
   "source": []
  },
  {
   "cell_type": "markdown",
   "id": "6ae86aad-5f3c-40a4-a504-468c0a1e62e6",
   "metadata": {},
   "source": [
    "### Approach 1: Implicit ALS with confidence\n",
    "\n",
    "We consider ratings to be implicit in nature. Following this for resources and implementing the algorith mentioned [here](https://activisiongamescience.github.io/2016/01/11/Implicit-Recommender-Systems-Biased-Matrix-Factorization/#Implicit-ALS)"
   ]
  },
  {
   "cell_type": "code",
   "execution_count": 10,
   "id": "69906895-d2f8-4b90-af36-898659f405bb",
   "metadata": {},
   "outputs": [],
   "source": [
    "class ImplicitALS:\n",
    "    def __init__(self, d_model, regularisation=0.1, alpha=40):\n",
    "        self.d_model = d_model\n",
    "        self.regularisation = regularisation\n",
    "        self.alpha = alpha\n",
    "\n",
    "    def fit(self, users, items, ratings, iterations=20):\n",
    "        self.interaction_matrix = csr_matrix((ratings, (users, items)))\n",
    "        self.num_users, self.num_items = self.interaction_matrix.shape\n",
    "        \n",
    "        self.pui = (self.interaction_matrix > 0).astype(float)        # pui = 1 if rui > 0 else 0\n",
    "        self.cui = self.interaction_matrix.copy()\n",
    "        self.cui.data = 1 + self.alpha * self.cui.data           # cui = 1 + alpha*rui\n",
    "        \n",
    "        ### Initialise representation matrix\n",
    "        self.X = np.random.normal(0, 0.01, (self.num_users, self.d_model))   # user_representation\n",
    "        self.Y = np.random.normal(0, 0.01, (self.num_items, self.d_model))   # item_representation\n",
    "        \n",
    "        for iteration in range(iterations):\n",
    "            print(f\"Iteration {iteration + 1}/{iterations}\")\n",
    "            self.X = self._least_squares(self.X, self.Y, user=True)\n",
    "            self.Y = self._least_squares(self.Y, self.X, user=False)\n",
    "\n",
    "    def _least_squares(self, X, Y, user):\n",
    "        YtY = Y.T @ Y\n",
    "        lambda_I = np.eye(self.d_model) * self.regularisation\n",
    "        new_X = np.zeros_like(X)\n",
    "        \n",
    "        if user:\n",
    "            for u in tqdm(range(self.num_users)):\n",
    "                Cu = np.diag(self.cui[u].toarray()[0])\n",
    "                Pu = self.pui[u].toarray()[0]\n",
    "                A = YtY + Y.T @ (Cu - np.eye(self.num_items)) @ Y + lambda_I\n",
    "                b = Y.T @ Cu @ Pu\n",
    "                new_X[u] = np.linalg.solve(A, b)\n",
    "        else:\n",
    "            for i in tqdm(range(self.num_items)):\n",
    "                Ci = np.diag(self.cui[:, i].toarray().reshape(-1))\n",
    "                Pi = self.pui[:, i].toarray().reshape(-1)\n",
    "                A = YtY + Y.T @ (Ci - np.eye(num_users)) @ Y + lambda_I\n",
    "                b = Y.T @ Ci @ Pi\n",
    "                new_X[i] = np.linalg.solve(A, b)\n",
    "        return new_X"
   ]
  },
  {
   "cell_type": "code",
   "execution_count": 11,
   "id": "e4a7818e-06af-4706-a0fb-e635887f9391",
   "metadata": {},
   "outputs": [],
   "source": [
    "implicitAls = ImplicitALS(10, regularisation=0.1, alpha=40)"
   ]
  },
  {
   "cell_type": "code",
   "execution_count": 12,
   "id": "ebe811d8-7571-457c-95ef-d1c90c52eb94",
   "metadata": {},
   "outputs": [],
   "source": [
    "users, items, ratings = ratings_df['user_idx'].to_list(), ratings_df['movie_idx'].to_list(), ratings_df['rating'].to_list()"
   ]
  },
  {
   "cell_type": "code",
   "execution_count": 13,
   "id": "aa4283e8-e5fd-45d4-9b1b-06aa55dbcada",
   "metadata": {
    "scrolled": true
   },
   "outputs": [
    {
     "name": "stdout",
     "output_type": "stream",
     "text": [
      "Iteration 1/20\n"
     ]
    },
    {
     "name": "stderr",
     "output_type": "stream",
     "text": [
      "100%|███████████████████████████████████████████████████████████████████████████████████████████████████████████████████████████████████████████████████| 6040/6040 [11:31<00:00,  8.74it/s]\n",
      "100%|███████████████████████████████████████████████████████████████████████████████████████████████████████████████████████████████████████████████████| 3706/3706 [21:10<00:00,  2.92it/s]\n"
     ]
    },
    {
     "name": "stdout",
     "output_type": "stream",
     "text": [
      "Iteration 2/20\n"
     ]
    },
    {
     "name": "stderr",
     "output_type": "stream",
     "text": [
      "100%|███████████████████████████████████████████████████████████████████████████████████████████████████████████████████████████████████████████████████| 6040/6040 [11:25<00:00,  8.81it/s]\n",
      "100%|███████████████████████████████████████████████████████████████████████████████████████████████████████████████████████████████████████████████████| 3706/3706 [21:16<00:00,  2.90it/s]\n"
     ]
    },
    {
     "name": "stdout",
     "output_type": "stream",
     "text": [
      "Iteration 3/20\n"
     ]
    },
    {
     "name": "stderr",
     "output_type": "stream",
     "text": [
      "100%|███████████████████████████████████████████████████████████████████████████████████████████████████████████████████████████████████████████████████| 6040/6040 [11:29<00:00,  8.76it/s]\n",
      "100%|███████████████████████████████████████████████████████████████████████████████████████████████████████████████████████████████████████████████████| 3706/3706 [21:06<00:00,  2.93it/s]\n"
     ]
    },
    {
     "name": "stdout",
     "output_type": "stream",
     "text": [
      "Iteration 4/20\n"
     ]
    },
    {
     "name": "stderr",
     "output_type": "stream",
     "text": [
      "100%|███████████████████████████████████████████████████████████████████████████████████████████████████████████████████████████████████████████████████| 6040/6040 [11:34<00:00,  8.69it/s]\n",
      "100%|███████████████████████████████████████████████████████████████████████████████████████████████████████████████████████████████████████████████████| 3706/3706 [21:07<00:00,  2.92it/s]\n"
     ]
    },
    {
     "name": "stdout",
     "output_type": "stream",
     "text": [
      "Iteration 5/20\n"
     ]
    },
    {
     "name": "stderr",
     "output_type": "stream",
     "text": [
      "100%|███████████████████████████████████████████████████████████████████████████████████████████████████████████████████████████████████████████████████| 6040/6040 [11:23<00:00,  8.84it/s]\n",
      "100%|███████████████████████████████████████████████████████████████████████████████████████████████████████████████████████████████████████████████████| 3706/3706 [21:12<00:00,  2.91it/s]\n"
     ]
    },
    {
     "name": "stdout",
     "output_type": "stream",
     "text": [
      "Iteration 6/20\n"
     ]
    },
    {
     "name": "stderr",
     "output_type": "stream",
     "text": [
      "100%|███████████████████████████████████████████████████████████████████████████████████████████████████████████████████████████████████████████████████| 6040/6040 [11:18<00:00,  8.90it/s]\n",
      "100%|███████████████████████████████████████████████████████████████████████████████████████████████████████████████████████████████████████████████████| 3706/3706 [21:12<00:00,  2.91it/s]\n"
     ]
    },
    {
     "name": "stdout",
     "output_type": "stream",
     "text": [
      "Iteration 7/20\n"
     ]
    },
    {
     "name": "stderr",
     "output_type": "stream",
     "text": [
      "100%|███████████████████████████████████████████████████████████████████████████████████████████████████████████████████████████████████████████████████| 6040/6040 [11:24<00:00,  8.82it/s]\n",
      "100%|███████████████████████████████████████████████████████████████████████████████████████████████████████████████████████████████████████████████████| 3706/3706 [21:00<00:00,  2.94it/s]\n"
     ]
    },
    {
     "name": "stdout",
     "output_type": "stream",
     "text": [
      "Iteration 8/20\n"
     ]
    },
    {
     "name": "stderr",
     "output_type": "stream",
     "text": [
      "100%|███████████████████████████████████████████████████████████████████████████████████████████████████████████████████████████████████████████████████| 6040/6040 [11:13<00:00,  8.97it/s]\n",
      "100%|███████████████████████████████████████████████████████████████████████████████████████████████████████████████████████████████████████████████████| 3706/3706 [21:10<00:00,  2.92it/s]\n"
     ]
    },
    {
     "name": "stdout",
     "output_type": "stream",
     "text": [
      "Iteration 9/20\n"
     ]
    },
    {
     "name": "stderr",
     "output_type": "stream",
     "text": [
      "100%|███████████████████████████████████████████████████████████████████████████████████████████████████████████████████████████████████████████████████| 6040/6040 [11:26<00:00,  8.80it/s]\n",
      "100%|███████████████████████████████████████████████████████████████████████████████████████████████████████████████████████████████████████████████████| 3706/3706 [20:56<00:00,  2.95it/s]\n"
     ]
    },
    {
     "name": "stdout",
     "output_type": "stream",
     "text": [
      "Iteration 10/20\n"
     ]
    },
    {
     "name": "stderr",
     "output_type": "stream",
     "text": [
      "100%|███████████████████████████████████████████████████████████████████████████████████████████████████████████████████████████████████████████████████| 6040/6040 [11:27<00:00,  8.78it/s]\n",
      "100%|███████████████████████████████████████████████████████████████████████████████████████████████████████████████████████████████████████████████████| 3706/3706 [21:13<00:00,  2.91it/s]\n"
     ]
    },
    {
     "name": "stdout",
     "output_type": "stream",
     "text": [
      "Iteration 11/20\n"
     ]
    },
    {
     "name": "stderr",
     "output_type": "stream",
     "text": [
      "100%|███████████████████████████████████████████████████████████████████████████████████████████████████████████████████████████████████████████████████| 6040/6040 [11:28<00:00,  8.77it/s]\n",
      "100%|███████████████████████████████████████████████████████████████████████████████████████████████████████████████████████████████████████████████████| 3706/3706 [21:14<00:00,  2.91it/s]\n"
     ]
    },
    {
     "name": "stdout",
     "output_type": "stream",
     "text": [
      "Iteration 12/20\n"
     ]
    },
    {
     "name": "stderr",
     "output_type": "stream",
     "text": [
      "100%|███████████████████████████████████████████████████████████████████████████████████████████████████████████████████████████████████████████████████| 6040/6040 [11:29<00:00,  8.76it/s]\n",
      "100%|███████████████████████████████████████████████████████████████████████████████████████████████████████████████████████████████████████████████████| 3706/3706 [21:06<00:00,  2.93it/s]\n"
     ]
    },
    {
     "name": "stdout",
     "output_type": "stream",
     "text": [
      "Iteration 13/20\n"
     ]
    },
    {
     "name": "stderr",
     "output_type": "stream",
     "text": [
      "100%|███████████████████████████████████████████████████████████████████████████████████████████████████████████████████████████████████████████████████| 6040/6040 [11:22<00:00,  8.85it/s]\n",
      "100%|███████████████████████████████████████████████████████████████████████████████████████████████████████████████████████████████████████████████████| 3706/3706 [21:02<00:00,  2.93it/s]\n"
     ]
    },
    {
     "name": "stdout",
     "output_type": "stream",
     "text": [
      "Iteration 14/20\n"
     ]
    },
    {
     "name": "stderr",
     "output_type": "stream",
     "text": [
      "100%|███████████████████████████████████████████████████████████████████████████████████████████████████████████████████████████████████████████████████| 6040/6040 [11:30<00:00,  8.74it/s]\n",
      "100%|███████████████████████████████████████████████████████████████████████████████████████████████████████████████████████████████████████████████████| 3706/3706 [21:13<00:00,  2.91it/s]\n"
     ]
    },
    {
     "name": "stdout",
     "output_type": "stream",
     "text": [
      "Iteration 15/20\n"
     ]
    },
    {
     "name": "stderr",
     "output_type": "stream",
     "text": [
      "100%|███████████████████████████████████████████████████████████████████████████████████████████████████████████████████████████████████████████████████| 6040/6040 [11:27<00:00,  8.79it/s]\n",
      "100%|███████████████████████████████████████████████████████████████████████████████████████████████████████████████████████████████████████████████████| 3706/3706 [21:07<00:00,  2.92it/s]\n"
     ]
    },
    {
     "name": "stdout",
     "output_type": "stream",
     "text": [
      "Iteration 16/20\n"
     ]
    },
    {
     "name": "stderr",
     "output_type": "stream",
     "text": [
      "100%|███████████████████████████████████████████████████████████████████████████████████████████████████████████████████████████████████████████████████| 6040/6040 [11:29<00:00,  8.75it/s]\n",
      " 74%|████████████████████████████████████████████████████████████████████████████████████████████████████████████▍                                      | 2735/3706 [15:30<05:33,  2.91it/s]IOPub message rate exceeded.\n",
      "The Jupyter server will temporarily stop sending output\n",
      "to the client in order to avoid crashing it.\n",
      "To change this limit, set the config variable\n",
      "`--ServerApp.iopub_msg_rate_limit`.\n",
      "\n",
      "Current values:\n",
      "ServerApp.iopub_msg_rate_limit=1000.0 (msgs/sec)\n",
      "ServerApp.rate_limit_window=3.0 (secs)\n",
      "\n",
      "100%|███████████████████████████████████████████████████████████████████████████████████████████████████████████████████████████████████████████████████| 3706/3706 [21:10<00:00,  2.92it/s]\n"
     ]
    },
    {
     "name": "stdout",
     "output_type": "stream",
     "text": [
      "Iteration 19/20\n"
     ]
    },
    {
     "name": "stderr",
     "output_type": "stream",
     "text": [
      "100%|███████████████████████████████████████████████████████████████████████████████████████████████████████████████████████████████████████████████████| 6040/6040 [11:16<00:00,  8.93it/s]\n",
      "100%|███████████████████████████████████████████████████████████████████████████████████████████████████████████████████████████████████████████████████| 3706/3706 [21:11<00:00,  2.92it/s]\n"
     ]
    },
    {
     "name": "stdout",
     "output_type": "stream",
     "text": [
      "Iteration 20/20\n"
     ]
    },
    {
     "name": "stderr",
     "output_type": "stream",
     "text": [
      "100%|███████████████████████████████████████████████████████████████████████████████████████████████████████████████████████████████████████████████████| 6040/6040 [11:30<00:00,  8.75it/s]\n",
      "100%|███████████████████████████████████████████████████████████████████████████████████████████████████████████████████████████████████████████████████| 3706/3706 [21:11<00:00,  2.91it/s]\n"
     ]
    }
   ],
   "source": [
    "implicitAls.fit(users, items, ratings)"
   ]
  },
  {
   "cell_type": "code",
   "execution_count": null,
   "id": "c9c7ebc6-17cd-4648-b5b5-8bdf7b18aa34",
   "metadata": {},
   "outputs": [],
   "source": []
  },
  {
   "cell_type": "code",
   "execution_count": null,
   "id": "3c0b71a9-b5c9-4550-b585-9b719728351e",
   "metadata": {},
   "outputs": [],
   "source": [
    "import pickle"
   ]
  },
  {
   "cell_type": "code",
   "execution_count": null,
   "id": "7d5c5f43-560e-45fc-949d-25298ae89712",
   "metadata": {},
   "outputs": [],
   "source": []
  },
  {
   "cell_type": "code",
   "execution_count": null,
   "id": "c771d988-5106-4d60-b4e2-ba1319df7eab",
   "metadata": {},
   "outputs": [],
   "source": []
  },
  {
   "cell_type": "code",
   "execution_count": null,
   "id": "8f3500f2-97a6-4c2f-a89d-4a826c75a41d",
   "metadata": {},
   "outputs": [],
   "source": []
  },
  {
   "cell_type": "code",
   "execution_count": null,
   "id": "129d3675-7e98-4285-9cc6-4dea0f79702a",
   "metadata": {},
   "outputs": [],
   "source": []
  },
  {
   "cell_type": "code",
   "execution_count": null,
   "id": "d7ac74d8-ed10-45e5-8b57-178648fdd6e5",
   "metadata": {},
   "outputs": [],
   "source": []
  },
  {
   "cell_type": "code",
   "execution_count": null,
   "id": "37a8f57c-b132-4586-a017-adc91c7694f8",
   "metadata": {},
   "outputs": [],
   "source": []
  },
  {
   "cell_type": "code",
   "execution_count": null,
   "id": "b805180e-c826-4bc8-bf64-42909ea67235",
   "metadata": {},
   "outputs": [],
   "source": []
  }
 ],
 "metadata": {
  "kernelspec": {
   "display_name": "cf",
   "language": "python",
   "name": "cf"
  },
  "language_info": {
   "codemirror_mode": {
    "name": "ipython",
    "version": 3
   },
   "file_extension": ".py",
   "mimetype": "text/x-python",
   "name": "python",
   "nbconvert_exporter": "python",
   "pygments_lexer": "ipython3",
   "version": "3.11.0"
  }
 },
 "nbformat": 4,
 "nbformat_minor": 5
}
