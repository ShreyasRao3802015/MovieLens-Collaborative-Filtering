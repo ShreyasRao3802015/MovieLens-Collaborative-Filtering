{
 "cells": [
  {
   "cell_type": "code",
   "execution_count": 1,
   "id": "3606fc9a-3605-4ed3-a56a-7200915f0c98",
   "metadata": {},
   "outputs": [],
   "source": [
    "import numpy as np\n",
    "import pandas as pd\n",
    "import matplotlib.pyplot as plt\n",
    "import seaborn as sns\n",
    "sns.set(style=\"whitegrid\", palette=\"Set2\")\n",
    "from scipy.sparse import csr_matrix, coo_matrix\n",
    "from sklearn.metrics import ndcg_score\n",
    "from tqdm import tqdm\n",
    "\n",
    "import torch\n",
    "import torch.nn as nn\n",
    "import torch.optim as optim\n",
    "from torch.utils.data import Dataset, DataLoader"
   ]
  },
  {
   "cell_type": "code",
   "execution_count": null,
   "id": "9d833816-5e4f-4d94-bba7-0b0d97cc8e1a",
   "metadata": {},
   "outputs": [],
   "source": []
  },
  {
   "cell_type": "markdown",
   "id": "751e6eb8-92fc-49b6-a10b-6721d1bee586",
   "metadata": {},
   "source": [
    "### Preprcoess Data and DataSplit"
   ]
  },
  {
   "cell_type": "code",
   "execution_count": 2,
   "id": "f7147c25-57e2-4409-8def-5c4c24db0f45",
   "metadata": {},
   "outputs": [
    {
     "name": "stdout",
     "output_type": "stream",
     "text": [
      "Preprocessing data...\n"
     ]
    },
    {
     "name": "stderr",
     "output_type": "stream",
     "text": [
      "100%|█████████████████████████████████████████████████████████████████████████████████████████████████████████████████████████████████████████████████| 6040/6040 [00:02<00:00, 2829.94it/s]\n"
     ]
    },
    {
     "name": "stdout",
     "output_type": "stream",
     "text": [
      "Number of unique users: 6040\n",
      "Number of unique items: 3706\n",
      "Total ratings: 1000209\n"
     ]
    },
    {
     "data": {
      "text/html": [
       "<div>\n",
       "<style scoped>\n",
       "    .dataframe tbody tr th:only-of-type {\n",
       "        vertical-align: middle;\n",
       "    }\n",
       "\n",
       "    .dataframe tbody tr th {\n",
       "        vertical-align: top;\n",
       "    }\n",
       "\n",
       "    .dataframe thead th {\n",
       "        text-align: right;\n",
       "    }\n",
       "</style>\n",
       "<table border=\"1\" class=\"dataframe\">\n",
       "  <thead>\n",
       "    <tr style=\"text-align: right;\">\n",
       "      <th></th>\n",
       "      <th>user_id</th>\n",
       "      <th>movie_id</th>\n",
       "      <th>rating</th>\n",
       "      <th>timestamp</th>\n",
       "      <th>user_idx</th>\n",
       "      <th>movie_idx</th>\n",
       "    </tr>\n",
       "  </thead>\n",
       "  <tbody>\n",
       "    <tr>\n",
       "      <th>0</th>\n",
       "      <td>1</td>\n",
       "      <td>1193</td>\n",
       "      <td>5</td>\n",
       "      <td>978300760</td>\n",
       "      <td>0</td>\n",
       "      <td>0</td>\n",
       "    </tr>\n",
       "    <tr>\n",
       "      <th>1</th>\n",
       "      <td>1</td>\n",
       "      <td>661</td>\n",
       "      <td>3</td>\n",
       "      <td>978302109</td>\n",
       "      <td>0</td>\n",
       "      <td>1</td>\n",
       "    </tr>\n",
       "    <tr>\n",
       "      <th>2</th>\n",
       "      <td>1</td>\n",
       "      <td>914</td>\n",
       "      <td>3</td>\n",
       "      <td>978301968</td>\n",
       "      <td>0</td>\n",
       "      <td>2</td>\n",
       "    </tr>\n",
       "    <tr>\n",
       "      <th>3</th>\n",
       "      <td>1</td>\n",
       "      <td>3408</td>\n",
       "      <td>4</td>\n",
       "      <td>978300275</td>\n",
       "      <td>0</td>\n",
       "      <td>3</td>\n",
       "    </tr>\n",
       "    <tr>\n",
       "      <th>4</th>\n",
       "      <td>1</td>\n",
       "      <td>2355</td>\n",
       "      <td>5</td>\n",
       "      <td>978824291</td>\n",
       "      <td>0</td>\n",
       "      <td>4</td>\n",
       "    </tr>\n",
       "    <tr>\n",
       "      <th>...</th>\n",
       "      <td>...</td>\n",
       "      <td>...</td>\n",
       "      <td>...</td>\n",
       "      <td>...</td>\n",
       "      <td>...</td>\n",
       "      <td>...</td>\n",
       "    </tr>\n",
       "    <tr>\n",
       "      <th>1000204</th>\n",
       "      <td>6040</td>\n",
       "      <td>1091</td>\n",
       "      <td>1</td>\n",
       "      <td>956716541</td>\n",
       "      <td>6039</td>\n",
       "      <td>772</td>\n",
       "    </tr>\n",
       "    <tr>\n",
       "      <th>1000205</th>\n",
       "      <td>6040</td>\n",
       "      <td>1094</td>\n",
       "      <td>5</td>\n",
       "      <td>956704887</td>\n",
       "      <td>6039</td>\n",
       "      <td>1106</td>\n",
       "    </tr>\n",
       "    <tr>\n",
       "      <th>1000206</th>\n",
       "      <td>6040</td>\n",
       "      <td>562</td>\n",
       "      <td>5</td>\n",
       "      <td>956704746</td>\n",
       "      <td>6039</td>\n",
       "      <td>365</td>\n",
       "    </tr>\n",
       "    <tr>\n",
       "      <th>1000207</th>\n",
       "      <td>6040</td>\n",
       "      <td>1096</td>\n",
       "      <td>4</td>\n",
       "      <td>956715648</td>\n",
       "      <td>6039</td>\n",
       "      <td>152</td>\n",
       "    </tr>\n",
       "    <tr>\n",
       "      <th>1000208</th>\n",
       "      <td>6040</td>\n",
       "      <td>1097</td>\n",
       "      <td>4</td>\n",
       "      <td>956715569</td>\n",
       "      <td>6039</td>\n",
       "      <td>26</td>\n",
       "    </tr>\n",
       "  </tbody>\n",
       "</table>\n",
       "<p>1000209 rows × 6 columns</p>\n",
       "</div>"
      ],
      "text/plain": [
       "         user_id  movie_id  rating  timestamp  user_idx  movie_idx\n",
       "0              1      1193       5  978300760         0          0\n",
       "1              1       661       3  978302109         0          1\n",
       "2              1       914       3  978301968         0          2\n",
       "3              1      3408       4  978300275         0          3\n",
       "4              1      2355       5  978824291         0          4\n",
       "...          ...       ...     ...        ...       ...        ...\n",
       "1000204     6040      1091       1  956716541      6039        772\n",
       "1000205     6040      1094       5  956704887      6039       1106\n",
       "1000206     6040       562       5  956704746      6039        365\n",
       "1000207     6040      1096       4  956715648      6039        152\n",
       "1000208     6040      1097       4  956715569      6039         26\n",
       "\n",
       "[1000209 rows x 6 columns]"
      ]
     },
     "metadata": {},
     "output_type": "display_data"
    }
   ],
   "source": [
    "def train_test_split(ratings_df, test_ratio=0.2):\n",
    "    train_list = []\n",
    "    test_list = []\n",
    "\n",
    "    for user, group in tqdm(ratings_df.groupby('user_idx')):\n",
    "        test_size = int(len(group) * test_ratio)\n",
    "        test_sample = group.sample(n=test_size, random_state=42)\n",
    "        train_sample = group.drop(test_sample.index)\n",
    "\n",
    "        train_list.append(train_sample)\n",
    "        test_list.append(test_sample)\n",
    "\n",
    "    train_df = pd.concat(train_list).reset_index(drop=True)\n",
    "    test_df = pd.concat(test_list).reset_index(drop=True)\n",
    "    return train_df, test_df\n",
    "\n",
    "\n",
    "def preprocess_data(data_path):\n",
    "    print(\"Preprocessing data...\")\n",
    "    r_cols = ['user_id', 'movie_id', 'rating', 'timestamp']\n",
    "    ratings = pd.read_csv(data_path, sep='::', names=r_cols, engine='python', encoding='latin-1')\n",
    "\n",
    "    user_ids = ratings['user_id'].unique().tolist()\n",
    "    user2idx = {user_id: i for i, user_id in enumerate(user_ids)}\n",
    "    ratings['user_idx'] = ratings['user_id'].apply(lambda x: user2idx[x])\n",
    "\n",
    "    movie_ids = ratings['movie_id'].unique().tolist()\n",
    "    movie2idx = {movie_id: i for i, movie_id in enumerate(movie_ids)}\n",
    "    ratings['movie_idx'] = ratings['movie_id'].apply(lambda x: movie2idx[x])\n",
    "\n",
    "    train_df, test_df = train_test_split(ratings, 0.2)\n",
    "    \n",
    "    num_users = len(user2idx)\n",
    "    num_items = len(movie2idx)\n",
    "\n",
    "    print(f\"Number of unique users: {num_users}\")\n",
    "    print(f\"Number of unique items: {num_items}\")\n",
    "    print(f\"Total ratings: {len(ratings)}\")\n",
    "\n",
    "    \n",
    "    return ratings, num_users, num_items, user2idx, movie2idx, train_df, test_df\n",
    "\n",
    "ratings_df, num_users, num_items, user2idx, movie2idx, train_df, test_df = preprocess_data(\"data/ml-1M/ratings.dat\")\n",
    "display(ratings_df)"
   ]
  },
  {
   "cell_type": "code",
   "execution_count": null,
   "id": "85a0d8c7-8ff1-4d56-a4e1-7abb7f406892",
   "metadata": {},
   "outputs": [],
   "source": []
  },
  {
   "cell_type": "code",
   "execution_count": null,
   "id": "0a34ba35-822f-40b6-9e24-c96b155493d6",
   "metadata": {},
   "outputs": [],
   "source": []
  },
  {
   "cell_type": "markdown",
   "id": "694cf2d0-5bc3-4221-9007-489fbc5c8a41",
   "metadata": {},
   "source": [
    "## EDA"
   ]
  },
  {
   "cell_type": "markdown",
   "id": "b447e57c-8dc8-476c-9209-1e8ea038dd81",
   "metadata": {},
   "source": [
    "### 1) Are there any duplicate ratings?"
   ]
  },
  {
   "cell_type": "code",
   "execution_count": 3,
   "id": "e151d7b8-cc98-41b9-b622-6d39d100d05a",
   "metadata": {},
   "outputs": [
    {
     "data": {
      "text/html": [
       "<div>\n",
       "<style scoped>\n",
       "    .dataframe tbody tr th:only-of-type {\n",
       "        vertical-align: middle;\n",
       "    }\n",
       "\n",
       "    .dataframe tbody tr th {\n",
       "        vertical-align: top;\n",
       "    }\n",
       "\n",
       "    .dataframe thead th {\n",
       "        text-align: right;\n",
       "    }\n",
       "</style>\n",
       "<table border=\"1\" class=\"dataframe\">\n",
       "  <thead>\n",
       "    <tr style=\"text-align: right;\">\n",
       "      <th></th>\n",
       "      <th>user_id</th>\n",
       "      <th>movie_id</th>\n",
       "      <th>rating</th>\n",
       "      <th>timestamp</th>\n",
       "      <th>user_idx</th>\n",
       "      <th>movie_idx</th>\n",
       "    </tr>\n",
       "  </thead>\n",
       "  <tbody>\n",
       "  </tbody>\n",
       "</table>\n",
       "</div>"
      ],
      "text/plain": [
       "Empty DataFrame\n",
       "Columns: [user_id, movie_id, rating, timestamp, user_idx, movie_idx]\n",
       "Index: []"
      ]
     },
     "execution_count": 3,
     "metadata": {},
     "output_type": "execute_result"
    }
   ],
   "source": [
    "ratings_df[ratings_df.duplicated(subset = ['user_idx', 'movie_idx'])]"
   ]
  },
  {
   "cell_type": "markdown",
   "id": "8f5c2c91-0b5b-49b2-8465-470e8cd1054e",
   "metadata": {},
   "source": [
    "There are **no duplicate entries** found. For example, there is no case where the same user has logged 2 different rating entries for the same movie"
   ]
  },
  {
   "cell_type": "code",
   "execution_count": null,
   "id": "e6f480aa-977c-44d8-a9b6-5ad3a881a476",
   "metadata": {},
   "outputs": [],
   "source": []
  },
  {
   "cell_type": "markdown",
   "id": "dbe70400-5099-40a4-acc9-80d4f8569c09",
   "metadata": {},
   "source": [
    "### 2) What is the distribution of number of ratings logged per user"
   ]
  },
  {
   "cell_type": "code",
   "execution_count": 4,
   "id": "d004785e-74c6-4fc5-9cb9-7c777e46f307",
   "metadata": {},
   "outputs": [
    {
     "data": {
      "text/html": [
       "<div>\n",
       "<style scoped>\n",
       "    .dataframe tbody tr th:only-of-type {\n",
       "        vertical-align: middle;\n",
       "    }\n",
       "\n",
       "    .dataframe tbody tr th {\n",
       "        vertical-align: top;\n",
       "    }\n",
       "\n",
       "    .dataframe thead th {\n",
       "        text-align: right;\n",
       "    }\n",
       "</style>\n",
       "<table border=\"1\" class=\"dataframe\">\n",
       "  <thead>\n",
       "    <tr style=\"text-align: right;\">\n",
       "      <th></th>\n",
       "      <th>user_idx</th>\n",
       "      <th>count</th>\n",
       "    </tr>\n",
       "  </thead>\n",
       "  <tbody>\n",
       "    <tr>\n",
       "      <th>0</th>\n",
       "      <td>4168</td>\n",
       "      <td>2314</td>\n",
       "    </tr>\n",
       "    <tr>\n",
       "      <th>1</th>\n",
       "      <td>1679</td>\n",
       "      <td>1850</td>\n",
       "    </tr>\n",
       "    <tr>\n",
       "      <th>2</th>\n",
       "      <td>4276</td>\n",
       "      <td>1743</td>\n",
       "    </tr>\n",
       "  </tbody>\n",
       "</table>\n",
       "</div>"
      ],
      "text/plain": [
       "   user_idx  count\n",
       "0      4168   2314\n",
       "1      1679   1850\n",
       "2      4276   1743"
      ]
     },
     "execution_count": 4,
     "metadata": {},
     "output_type": "execute_result"
    }
   ],
   "source": [
    "user_counts = ratings_df['user_idx'].value_counts().reset_index()\n",
    "user_counts.head(3)"
   ]
  },
  {
   "cell_type": "code",
   "execution_count": 5,
   "id": "872e9d2b-752a-4eb3-81c9-2455d0d560dc",
   "metadata": {},
   "outputs": [
    {
     "data": {
      "image/png": "[encoded data removed]",
      "text/plain": [
       "<Figure size 1000x800 with 2 Axes>"
      ]
     },
     "metadata": {},
     "output_type": "display_data"
    }
   ],
   "source": [
    "fig, ax = plt.subplots(2, 1, figsize=(10, 8))\n",
    "sns.histplot(data=user_counts['count'], bins=20, kde=True, ax=ax[0])\n",
    "ax[0].set_title('Distribution of Number of Interactions per User')\n",
    "ax[0].set_xlabel('Ratings Count')\n",
    "ax[0].set_ylabel('Count')\n",
    "\n",
    "# Plot the boxenplot on the second subplot (ax[1])\n",
    "sns.boxplot(x=user_counts['count'], ax=ax[1])\n",
    "median_val = user_counts['count'].median()\n",
    "std_val = user_counts['count'].std()\n",
    "# ax[1].axvline(median_val, color='black', linestyle='--')\n",
    "ax[1].text(x=median_val + 25, y=-0.425, s=f\"Median = {median_val:.2f}, STD = {std_val:.2f}\")\n",
    "ax[1].set_title('Boxenplot of User Interactions')\n",
    "ax[1].set_xlabel('Ratings Count')\n",
    "ax[1].set_ylabel('')\n",
    "\n",
    "plt.tight_layout()\n",
    "\n",
    "# Display the plot\n",
    "plt.show()\n"
   ]
  },
  {
   "cell_type": "markdown",
   "id": "5d922fbd-6d2f-4c77-945a-0594ee8e01a9",
   "metadata": {},
   "source": [
    "- A long right tail in the kdeplot\n",
    "- A standard deviation (~193) being double of Median (96) for a value (count) which is always positive resulting in outliers beyond the right whisker\n",
    "\n",
    "There are very few users who have a high number of interactions (e.g., over 500 interactions)."
   ]
  },
  {
   "cell_type": "code",
   "execution_count": null,
   "id": "8956417a-5ab8-4acb-abc4-dd5f8700ec9b",
   "metadata": {},
   "outputs": [],
   "source": []
  },
  {
   "cell_type": "markdown",
   "id": "fb73da2b-86e3-444d-8fea-152491317e42",
   "metadata": {},
   "source": [
    "### 2) What is the distribution of number of ratings logged per movie"
   ]
  },
  {
   "cell_type": "code",
   "execution_count": 6,
   "id": "03614dee-bdfb-4f1a-996b-5988d70bd05d",
   "metadata": {},
   "outputs": [
    {
     "data": {
      "text/html": [
       "<div>\n",
       "<style scoped>\n",
       "    .dataframe tbody tr th:only-of-type {\n",
       "        vertical-align: middle;\n",
       "    }\n",
       "\n",
       "    .dataframe tbody tr th {\n",
       "        vertical-align: top;\n",
       "    }\n",
       "\n",
       "    .dataframe thead th {\n",
       "        text-align: right;\n",
       "    }\n",
       "</style>\n",
       "<table border=\"1\" class=\"dataframe\">\n",
       "  <thead>\n",
       "    <tr style=\"text-align: right;\">\n",
       "      <th></th>\n",
       "      <th>movie_idx</th>\n",
       "      <th>count</th>\n",
       "    </tr>\n",
       "  </thead>\n",
       "  <tbody>\n",
       "    <tr>\n",
       "      <th>0</th>\n",
       "      <td>104</td>\n",
       "      <td>3428</td>\n",
       "    </tr>\n",
       "    <tr>\n",
       "      <th>1</th>\n",
       "      <td>44</td>\n",
       "      <td>2991</td>\n",
       "    </tr>\n",
       "    <tr>\n",
       "      <th>2</th>\n",
       "      <td>124</td>\n",
       "      <td>2990</td>\n",
       "    </tr>\n",
       "  </tbody>\n",
       "</table>\n",
       "</div>"
      ],
      "text/plain": [
       "   movie_idx  count\n",
       "0        104   3428\n",
       "1         44   2991\n",
       "2        124   2990"
      ]
     },
     "execution_count": 6,
     "metadata": {},
     "output_type": "execute_result"
    }
   ],
   "source": [
    "movie_counts = ratings_df['movie_idx'].value_counts().reset_index()\n",
    "movie_counts.head(3)"
   ]
  },
  {
   "cell_type": "code",
   "execution_count": 7,
   "id": "820056a6-b0ab-48d9-a76a-2b3510bf662f",
   "metadata": {},
   "outputs": [
    {
     "data": {
      "image/png": "[encoded data removed]",
      "text/plain": [
       "<Figure size 1000x800 with 2 Axes>"
      ]
     },
     "metadata": {},
     "output_type": "display_data"
    }
   ],
   "source": [
    "fig, ax = plt.subplots(2, 1, figsize=(10, 8))\n",
    "sns.histplot(data=movie_counts['count'], bins=20, kde=True, ax=ax[0])\n",
    "ax[0].set_title('Distribution of Number of Interactions per Item')\n",
    "ax[0].set_xlabel('Ratings Count')\n",
    "ax[0].set_ylabel('Count')\n",
    "\n",
    "# Plot the boxenplot on the second subplot (ax[1])\n",
    "sns.boxplot(x=movie_counts['count'], ax=ax[1])\n",
    "median_val = movie_counts['count'].median()\n",
    "std_val = movie_counts['count'].std()\n",
    "# ax[1].axvline(median_val, color='black', linestyle='--')\n",
    "ax[1].text(x=median_val + 25, y=-0.425, s=f\"Median = {median_val:.2f}, STD = {std_val:.2f}\")\n",
    "ax[1].set_title('Boxenplot of Item Interactions')\n",
    "ax[1].set_xlabel('Ratings Count')\n",
    "ax[1].set_ylabel('')\n",
    "\n",
    "plt.tight_layout()\n",
    "\n",
    "# Display the plot\n",
    "plt.show()\n"
   ]
  },
  {
   "cell_type": "markdown",
   "id": "5d128fbd-0b55-42ea-92f0-2f44c472d893",
   "metadata": {},
   "source": [
    "- Number of interactions per item has a longer right tail suggesting that some movies were more frequently watched (hence rated) by more users\n",
    "\n",
    "- Hypothesis: The number of ratings recieved for each movie could be suggestive of the popularity of the movie. Lets test this in the following section"
   ]
  },
  {
   "cell_type": "code",
   "execution_count": null,
   "id": "69a48982-0114-461f-880d-d4ae00ec99d9",
   "metadata": {},
   "outputs": [],
   "source": []
  },
  {
   "cell_type": "markdown",
   "id": "a81c0507-c00a-4abb-8fd8-864fe9ab31f1",
   "metadata": {},
   "source": [
    "### 3. Average Rating per movie Distribution"
   ]
  },
  {
   "cell_type": "code",
   "execution_count": 8,
   "id": "7af37a46-5d93-4ce4-ba70-0c51431d7217",
   "metadata": {},
   "outputs": [
    {
     "data": {
      "text/html": [
       "<div>\n",
       "<style scoped>\n",
       "    .dataframe tbody tr th:only-of-type {\n",
       "        vertical-align: middle;\n",
       "    }\n",
       "\n",
       "    .dataframe tbody tr th {\n",
       "        vertical-align: top;\n",
       "    }\n",
       "\n",
       "    .dataframe thead th {\n",
       "        text-align: right;\n",
       "    }\n",
       "</style>\n",
       "<table border=\"1\" class=\"dataframe\">\n",
       "  <thead>\n",
       "    <tr style=\"text-align: right;\">\n",
       "      <th></th>\n",
       "      <th>movie_idx</th>\n",
       "      <th>rating</th>\n",
       "      <th>count</th>\n",
       "      <th>rating_bin</th>\n",
       "      <th>counts_bin</th>\n",
       "    </tr>\n",
       "  </thead>\n",
       "  <tbody>\n",
       "    <tr>\n",
       "      <th>0</th>\n",
       "      <td>0</td>\n",
       "      <td>4.390725</td>\n",
       "      <td>1725</td>\n",
       "      <td>4.0-4.5</td>\n",
       "      <td>1600-1800</td>\n",
       "    </tr>\n",
       "    <tr>\n",
       "      <th>1</th>\n",
       "      <td>1</td>\n",
       "      <td>3.464762</td>\n",
       "      <td>525</td>\n",
       "      <td>3.0-3.5</td>\n",
       "      <td>400-600</td>\n",
       "    </tr>\n",
       "    <tr>\n",
       "      <th>2</th>\n",
       "      <td>2</td>\n",
       "      <td>4.154088</td>\n",
       "      <td>636</td>\n",
       "      <td>4.0-4.5</td>\n",
       "      <td>600-800</td>\n",
       "    </tr>\n",
       "    <tr>\n",
       "      <th>3</th>\n",
       "      <td>3</td>\n",
       "      <td>3.863878</td>\n",
       "      <td>1315</td>\n",
       "      <td>3.5-4.0</td>\n",
       "      <td>1200-1400</td>\n",
       "    </tr>\n",
       "    <tr>\n",
       "      <th>4</th>\n",
       "      <td>4</td>\n",
       "      <td>3.854375</td>\n",
       "      <td>1703</td>\n",
       "      <td>3.5-4.0</td>\n",
       "      <td>1600-1800</td>\n",
       "    </tr>\n",
       "    <tr>\n",
       "      <th>...</th>\n",
       "      <td>...</td>\n",
       "      <td>...</td>\n",
       "      <td>...</td>\n",
       "      <td>...</td>\n",
       "      <td>...</td>\n",
       "    </tr>\n",
       "    <tr>\n",
       "      <th>3701</th>\n",
       "      <td>3701</td>\n",
       "      <td>4.000000</td>\n",
       "      <td>2</td>\n",
       "      <td>3.5-4.0</td>\n",
       "      <td>0-200</td>\n",
       "    </tr>\n",
       "    <tr>\n",
       "      <th>3702</th>\n",
       "      <td>3702</td>\n",
       "      <td>3.000000</td>\n",
       "      <td>1</td>\n",
       "      <td>2.5-3.0</td>\n",
       "      <td>0-200</td>\n",
       "    </tr>\n",
       "    <tr>\n",
       "      <th>3703</th>\n",
       "      <td>3703</td>\n",
       "      <td>1.000000</td>\n",
       "      <td>1</td>\n",
       "      <td>1.0-1.5</td>\n",
       "      <td>0-200</td>\n",
       "    </tr>\n",
       "    <tr>\n",
       "      <th>3704</th>\n",
       "      <td>3704</td>\n",
       "      <td>5.000000</td>\n",
       "      <td>1</td>\n",
       "      <td>4.5-5.0</td>\n",
       "      <td>0-200</td>\n",
       "    </tr>\n",
       "    <tr>\n",
       "      <th>3705</th>\n",
       "      <td>3705</td>\n",
       "      <td>4.000000</td>\n",
       "      <td>1</td>\n",
       "      <td>3.5-4.0</td>\n",
       "      <td>0-200</td>\n",
       "    </tr>\n",
       "  </tbody>\n",
       "</table>\n",
       "<p>3706 rows × 5 columns</p>\n",
       "</div>"
      ],
      "text/plain": [
       "      movie_idx    rating  count rating_bin counts_bin\n",
       "0             0  4.390725   1725    4.0-4.5  1600-1800\n",
       "1             1  3.464762    525    3.0-3.5    400-600\n",
       "2             2  4.154088    636    4.0-4.5    600-800\n",
       "3             3  3.863878   1315    3.5-4.0  1200-1400\n",
       "4             4  3.854375   1703    3.5-4.0  1600-1800\n",
       "...         ...       ...    ...        ...        ...\n",
       "3701       3701  4.000000      2    3.5-4.0      0-200\n",
       "3702       3702  3.000000      1    2.5-3.0      0-200\n",
       "3703       3703  1.000000      1    1.0-1.5      0-200\n",
       "3704       3704  5.000000      1    4.5-5.0      0-200\n",
       "3705       3705  4.000000      1    3.5-4.0      0-200\n",
       "\n",
       "[3706 rows x 5 columns]"
      ]
     },
     "execution_count": 8,
     "metadata": {},
     "output_type": "execute_result"
    }
   ],
   "source": [
    "avg_movie_rating = ratings_df.groupby('movie_idx')['rating'].mean().reset_index()\n",
    "avg_movie_rating_count = pd.merge(avg_movie_rating, movie_counts, on='movie_idx')\n",
    "\n",
    "rating_bins = np.arange(1,5.5,0.5)\n",
    "rating_bins_string = [f'{rating_bins[i]:.1f}-{rating_bins[i+1]:.1f}' for i in range(len(rating_bins) -1)]\n",
    "\n",
    "def binify_rating(x):\n",
    "    for i in range(len(rating_bins)-1):\n",
    "        if x >= rating_bins[i] and x <= rating_bins[i+1]:\n",
    "            return rating_bins_string[i]\n",
    "\n",
    "count_bins = np.arange(0,movie_counts['count'].max()+200,200)\n",
    "count_bins_string = [f'{count_bins[i]}-{count_bins[i+1]}' for i in range(len(count_bins) -1)]\n",
    "\n",
    "def binify_counts(x):\n",
    "    for i in range(len(count_bins)-1):\n",
    "        if x >= count_bins[i] and x <= count_bins[i+1]:\n",
    "            return count_bins_string[i]\n",
    "\n",
    "\n",
    "avg_movie_rating_count['rating_bin'] = avg_movie_rating_count['rating'].apply(binify_rating)\n",
    "avg_movie_rating_count['counts_bin'] = avg_movie_rating_count['count'].apply(binify_counts)\n",
    "\n",
    "avg_movie_rating_count"
   ]
  },
  {
   "cell_type": "code",
   "execution_count": 9,
   "id": "e0b0479f-d230-4d3b-a905-3c62a58f55c7",
   "metadata": {},
   "outputs": [
    {
     "data": {
      "image/png": "[encoded data removed]",
      "text/plain": [
       "<Figure size 1500x1000 with 1 Axes>"
      ]
     },
     "metadata": {},
     "output_type": "display_data"
    }
   ],
   "source": [
    "plt.figure(figsize=(15,10))\n",
    "sns.boxplot(data=avg_movie_rating_count, x='count', hue='rating_bin', fill=True, hue_order=rating_bins_string, gap = 0.2)\n",
    "plt.tight_layout()\n",
    "plt.show()"
   ]
  },
  {
   "cell_type": "markdown",
   "id": "46b111d8-ad3f-4ed9-8f4b-f7173b608b8b",
   "metadata": {},
   "source": [
    "#### There definitely seems a correlation between the number of ratings a movie recieved with the average movie rating. Due to this, we will be using the average rating of a movie as proxy for popularity."
   ]
  },
  {
   "cell_type": "code",
   "execution_count": null,
   "id": "f30655ad-1b9b-48c5-87d7-1ef07e148fd3",
   "metadata": {},
   "outputs": [],
   "source": []
  },
  {
   "cell_type": "code",
   "execution_count": null,
   "id": "b586ad8e-7f59-4e98-bcca-f3be83467abc",
   "metadata": {},
   "outputs": [],
   "source": []
  },
  {
   "cell_type": "markdown",
   "id": "0a0646bd-91ec-471b-be3f-8e8e75b133ea",
   "metadata": {},
   "source": [
    "## Modelling"
   ]
  },
  {
   "cell_type": "markdown",
   "id": "849e0c70-08da-41d8-9e05-30ff3136eb56",
   "metadata": {},
   "source": [
    "### DataLoader"
   ]
  },
  {
   "cell_type": "code",
   "execution_count": 10,
   "id": "3e2a5836-807c-469d-ba4a-e9f6635098bd",
   "metadata": {},
   "outputs": [],
   "source": [
    "### Configs\n",
    "\n",
    "alpha = 40      # used in the paper\n",
    "batch_size = 8192\n",
    "d_model = 128    \n",
    "device = \"cuda:0\"\n",
    "lr = 3e-4       # andrej karpathy magic number :)"
   ]
  },
  {
   "cell_type": "code",
   "execution_count": 11,
   "id": "3c0b71a9-b5c9-4550-b585-9b719728351e",
   "metadata": {},
   "outputs": [],
   "source": [
    "class ImplicitALSDataSet(Dataset):\n",
    "    def __init__(self, users, items, ratings, alpha):\n",
    "        self.users = np.array(users)\n",
    "        self.items = np.array(items)\n",
    "        self.ratings = np.array(ratings)\n",
    "        self.confidences = 1 + alpha * self.ratings\n",
    "        self.positives = (self.ratings > 0).astype(float)\n",
    "\n",
    "    def __len__(self):\n",
    "        return len(self.ratings)\n",
    "\n",
    "    def __getitem__(self, idx):\n",
    "        return {'user' : self.users[idx], 'item' : self.items[idx], 'confidence' : self.confidences[idx], 'preference' : self.positives[idx]}\n",
    "\n",
    "train_users, train_items, train_ratings = train_df['user_idx'].to_list(), train_df['movie_idx'].to_list(), train_df['rating'].to_list()\n",
    "test_users, test_items, test_ratings = test_df['user_idx'].to_list(), test_df['movie_idx'].to_list(), test_df['rating'].to_list()\n",
    "\n",
    "train_ds = ImplicitALSDataSet(train_users, train_items, train_ratings, alpha=alpha)\n",
    "test_ds = ImplicitALSDataSet(test_users, test_items, test_ratings, alpha=alpha)\n",
    "\n",
    "train_loader = DataLoader(train_ds, batch_size=batch_size, shuffle=True,num_workers=32)\n",
    "test_loader = DataLoader(test_ds, batch_size=batch_size, shuffle=True, num_workers=32)"
   ]
  },
  {
   "cell_type": "code",
   "execution_count": null,
   "id": "1f0488b7-432d-4d3f-82a6-d8be4cf8436f",
   "metadata": {},
   "outputs": [],
   "source": []
  },
  {
   "cell_type": "markdown",
   "id": "6ae86aad-5f3c-40a4-a504-468c0a1e62e6",
   "metadata": {},
   "source": [
    "## Approach 1: Implicit ALS with confidence\n",
    "\n",
    "We consider ratings to be implicit in nature. Following this for resources and implementing the algorith mentioned [here](https://activisiongamescience.github.io/2016/01/11/Implicit-Recommender-Systems-Biased-Matrix-Factorization/#Implicit-ALS). \n",
    "\n",
    "**I have implemeted this with deep learning so as to speed up the training process.**"
   ]
  },
  {
   "cell_type": "markdown",
   "id": "c902a2e0-4de4-41e5-bd52-90c2b2f0950a",
   "metadata": {},
   "source": [
    "#### Model"
   ]
  },
  {
   "cell_type": "code",
   "execution_count": 12,
   "id": "c771d988-5106-4d60-b4e2-ba1319df7eab",
   "metadata": {},
   "outputs": [],
   "source": [
    "class ImplicitMF(nn.Module):\n",
    "    def __init__(self, num_users, num_items, d_model):\n",
    "        super().__init__()\n",
    "        self.num_users = num_users\n",
    "        self.num_items = num_items\n",
    "        self.d_model = d_model\n",
    "        self.user_embeddings = nn.Embedding(self.num_users, d_model)\n",
    "        self.item_embeddings = nn.Embedding(self.num_items, d_model)\n",
    "\n",
    "    def forward(self, user, item):\n",
    "        u = self.user_embeddings(user)\n",
    "        v = self.item_embeddings(item)\n",
    "        return (u * v).sum(dim=1)"
   ]
  },
  {
   "cell_type": "markdown",
   "id": "5a0a1e07-fe3a-427f-a3f7-ccac8bb668b6",
   "metadata": {},
   "source": [
    "#### Train Loop"
   ]
  },
  {
   "cell_type": "code",
   "execution_count": 13,
   "id": "96a1052e-509a-468d-b29a-71b73cad3bb7",
   "metadata": {},
   "outputs": [],
   "source": [
    "def loop(model, optimiser, dataloader, reg_lambda, device, epoch, verbose=True, train=True):\n",
    "    model = model.to(device)    \n",
    "    total_loss = []\n",
    "    iterator = tqdm(dataloader) if verbose else dataloader\n",
    "    for batch in iterator:\n",
    "        iterator.set_description(f\"Epoch {epoch}  ||  Total Loss : {np.array(total_loss).mean():.4f}\")\n",
    "        user = batch['user'].to(device)\n",
    "        item = batch['item'].to(device)\n",
    "        confidence = batch['confidence'].to(device)\n",
    "        preference = batch['preference'].to(device)\n",
    "\n",
    "        if train:\n",
    "            pred = model(user, item)\n",
    "            loss = (confidence * ((preference - pred) ** 2)).mean()\n",
    "            reg = reg_lambda * (model.user_embeddings(user.unique()).norm(2).pow(2) + model.item_embeddings(item.unique()).norm(2).pow(2))\n",
    "            loss += reg\n",
    "            optimiser.zero_grad()\n",
    "            loss.backward()\n",
    "            optimiser.step()\n",
    "            total_loss.append(loss.item())\n",
    "        else:\n",
    "            with torch.no_grad():\n",
    "                pred = model(user, item)\n",
    "                loss = (confidence * ((preference - pred) ** 2)).mean()\n",
    "                reg = reg_lambda * (model.user_embeddings(user.unique()).norm(2).pow(2) + model.item_embeddings(item.unique()).norm(2).pow(2))\n",
    "                loss += reg\n",
    "                total_loss.append(loss.item())\n",
    "    return np.array(total_loss).mean()\n",
    "\n",
    "\n",
    "def run(model, optimiser, train_dataloader, test_dataloader, reg_lambda, device, ckpt_path, epochs=20, verbose=True, patience=5):\n",
    "    best_test_loss = 1e6\n",
    "    train_losses = []\n",
    "    test_losses = []\n",
    "\n",
    "    counter = patience\n",
    "    for epoch in range(epochs):\n",
    "        if counter == 0:\n",
    "            print(\"ENDING TRAINING LOOP DUE TO PATIENCE!!\")\n",
    "            break\n",
    "        train_loss = loop(model, optimiser, train_dataloader, reg_lambda, device, epoch, verbose=True, train=True)\n",
    "        test_loss = loop(model, optimiser, test_dataloader, reg_lambda, device, epoch, verbose=True, train=False)\n",
    "        train_losses.append(train_loss)\n",
    "        test_losses.append(test_loss)\n",
    "        \n",
    "        if test_loss < best_test_loss:\n",
    "            counter = patience\n",
    "            torch.save({\n",
    "                        'epoch' : epoch,\n",
    "                        'val_loss' : test_loss,\n",
    "                        'state_dict' : model.state_dict()\n",
    "                    }, ckpt_path)\n",
    "            best_test_loss = test_loss\n",
    "            print(\"Saving CKPT\")\n",
    "        else:\n",
    "            counter -= 1\n",
    "        print(\"\\n\")\n",
    "    return train_losses, test_losses"
   ]
  },
  {
   "cell_type": "code",
   "execution_count": 14,
   "id": "0c5e9eef-ba98-49fd-a222-a57dd43e261e",
   "metadata": {
    "scrolled": true
   },
   "outputs": [
    {
     "name": "stderr",
     "output_type": "stream",
     "text": [
      "  0%|                                                                                                                                                                | 0/98 [00:00<?, ?it/s]/tmp/ipykernel_2793586/395189826.py:6: RuntimeWarning: Mean of empty slice.\n",
      "  iterator.set_description(f\"Epoch {epoch}  ||  Total Loss : {np.array(total_loss).mean():.4f}\")\n",
      "/opt2/shreyas/miniconda3/envs/cf/lib/python3.11/site-packages/numpy/_core/_methods.py:144: RuntimeWarning: invalid value encountered in scalar divide\n",
      "  ret = ret.dtype.type(ret / rcount)\n",
      "Epoch 0  ||  Total Loss : 88752.1312: 100%|█████████████████████████████████████████████████████████████████████████████████████████████████████████████████| 98/98 [00:01<00:00, 82.42it/s]\n",
      "Epoch 0  ||  Total Loss : 87521.8449: 100%|█████████████████████████████████████████████████████████████████████████████████████████████████████████████████| 25/25 [00:00<00:00, 45.83it/s]\n"
     ]
    },
    {
     "name": "stdout",
     "output_type": "stream",
     "text": [
      "Saving CKPT\n",
      "\n",
      "\n"
     ]
    },
    {
     "name": "stderr",
     "output_type": "stream",
     "text": [
      "Epoch 1  ||  Total Loss : 86700.5306: 100%|█████████████████████████████████████████████████████████████████████████████████████████████████████████████████| 98/98 [00:00<00:00, 98.45it/s]\n",
      "Epoch 1  ||  Total Loss : 85684.4070: 100%|█████████████████████████████████████████████████████████████████████████████████████████████████████████████████| 25/25 [00:00<00:00, 47.13it/s]\n"
     ]
    },
    {
     "name": "stdout",
     "output_type": "stream",
     "text": [
      "Saving CKPT\n",
      "\n",
      "\n"
     ]
    },
    {
     "name": "stderr",
     "output_type": "stream",
     "text": [
      "Epoch 2  ||  Total Loss : 84642.8904: 100%|████████████████████████████████████████████████████████████████████████████████████████████████████████████████| 98/98 [00:00<00:00, 109.86it/s]\n",
      "Epoch 2  ||  Total Loss : 83748.8051: 100%|█████████████████████████████████████████████████████████████████████████████████████████████████████████████████| 25/25 [00:00<00:00, 48.56it/s]\n"
     ]
    },
    {
     "name": "stdout",
     "output_type": "stream",
     "text": [
      "Saving CKPT\n",
      "\n",
      "\n"
     ]
    },
    {
     "name": "stderr",
     "output_type": "stream",
     "text": [
      "Epoch 3  ||  Total Loss : 82670.5434: 100%|████████████████████████████████████████████████████████████████████████████████████████████████████████████████| 98/98 [00:00<00:00, 100.74it/s]\n",
      "Epoch 3  ||  Total Loss : 81914.7420: 100%|█████████████████████████████████████████████████████████████████████████████████████████████████████████████████| 25/25 [00:00<00:00, 47.43it/s]\n"
     ]
    },
    {
     "name": "stdout",
     "output_type": "stream",
     "text": [
      "Saving CKPT\n",
      "\n",
      "\n"
     ]
    },
    {
     "name": "stderr",
     "output_type": "stream",
     "text": [
      "Epoch 4  ||  Total Loss : 80703.7909: 100%|████████████████████████████████████████████████████████████████████████████████████████████████████████████████| 98/98 [00:00<00:00, 109.92it/s]\n",
      "Epoch 4  ||  Total Loss : 80015.9217: 100%|█████████████████████████████████████████████████████████████████████████████████████████████████████████████████| 25/25 [00:00<00:00, 47.31it/s]\n"
     ]
    },
    {
     "name": "stdout",
     "output_type": "stream",
     "text": [
      "Saving CKPT\n",
      "\n",
      "\n"
     ]
    },
    {
     "name": "stderr",
     "output_type": "stream",
     "text": [
      "Epoch 5  ||  Total Loss : 78821.2610: 100%|████████████████████████████████████████████████████████████████████████████████████████████████████████████████| 98/98 [00:00<00:00, 110.50it/s]\n",
      "Epoch 5  ||  Total Loss : 78329.0106: 100%|█████████████████████████████████████████████████████████████████████████████████████████████████████████████████| 25/25 [00:00<00:00, 48.72it/s]\n"
     ]
    },
    {
     "name": "stdout",
     "output_type": "stream",
     "text": [
      "Saving CKPT\n",
      "\n",
      "\n"
     ]
    },
    {
     "name": "stderr",
     "output_type": "stream",
     "text": [
      "Epoch 6  ||  Total Loss : 77002.8924: 100%|████████████████████████████████████████████████████████████████████████████████████████████████████████████████| 98/98 [00:00<00:00, 109.69it/s]\n",
      "Epoch 6  ||  Total Loss : 76482.4802: 100%|█████████████████████████████████████████████████████████████████████████████████████████████████████████████████| 25/25 [00:00<00:00, 48.41it/s]\n"
     ]
    },
    {
     "name": "stdout",
     "output_type": "stream",
     "text": [
      "Saving CKPT\n",
      "\n",
      "\n"
     ]
    },
    {
     "name": "stderr",
     "output_type": "stream",
     "text": [
      "Epoch 7  ||  Total Loss : 75155.0992: 100%|████████████████████████████████████████████████████████████████████████████████████████████████████████████████| 98/98 [00:00<00:00, 109.70it/s]\n",
      "Epoch 7  ||  Total Loss : 74904.6763: 100%|█████████████████████████████████████████████████████████████████████████████████████████████████████████████████| 25/25 [00:00<00:00, 47.02it/s]\n"
     ]
    },
    {
     "name": "stdout",
     "output_type": "stream",
     "text": [
      "Saving CKPT\n",
      "\n",
      "\n"
     ]
    },
    {
     "name": "stderr",
     "output_type": "stream",
     "text": [
      "Epoch 8  ||  Total Loss : 73373.7574: 100%|████████████████████████████████████████████████████████████████████████████████████████████████████████████████| 98/98 [00:00<00:00, 109.40it/s]\n",
      "Epoch 8  ||  Total Loss : 73091.1766: 100%|█████████████████████████████████████████████████████████████████████████████████████████████████████████████████| 25/25 [00:00<00:00, 46.94it/s]\n"
     ]
    },
    {
     "name": "stdout",
     "output_type": "stream",
     "text": [
      "Saving CKPT\n",
      "\n",
      "\n"
     ]
    },
    {
     "name": "stderr",
     "output_type": "stream",
     "text": [
      "Epoch 9  ||  Total Loss : 71667.4981: 100%|████████████████████████████████████████████████████████████████████████████████████████████████████████████████| 98/98 [00:00<00:00, 110.62it/s]\n",
      "Epoch 9  ||  Total Loss : 71310.8909: 100%|█████████████████████████████████████████████████████████████████████████████████████████████████████████████████| 25/25 [00:00<00:00, 48.73it/s]\n"
     ]
    },
    {
     "name": "stdout",
     "output_type": "stream",
     "text": [
      "Saving CKPT\n",
      "\n",
      "\n"
     ]
    },
    {
     "name": "stderr",
     "output_type": "stream",
     "text": [
      "Epoch 10  ||  Total Loss : 69930.5136: 100%|███████████████████████████████████████████████████████████████████████████████████████████████████████████████| 98/98 [00:00<00:00, 108.77it/s]\n",
      "Epoch 10  ||  Total Loss : 69723.5183: 100%|████████████████████████████████████████████████████████████████████████████████████████████████████████████████| 25/25 [00:00<00:00, 47.97it/s]\n"
     ]
    },
    {
     "name": "stdout",
     "output_type": "stream",
     "text": [
      "Saving CKPT\n",
      "\n",
      "\n"
     ]
    },
    {
     "name": "stderr",
     "output_type": "stream",
     "text": [
      "Epoch 11  ||  Total Loss : 68273.4186: 100%|███████████████████████████████████████████████████████████████████████████████████████████████████████████████| 98/98 [00:00<00:00, 109.24it/s]\n",
      "Epoch 11  ||  Total Loss : 68166.4501: 100%|████████████████████████████████████████████████████████████████████████████████████████████████████████████████| 25/25 [00:00<00:00, 47.30it/s]\n"
     ]
    },
    {
     "name": "stdout",
     "output_type": "stream",
     "text": [
      "Saving CKPT\n",
      "\n",
      "\n"
     ]
    },
    {
     "name": "stderr",
     "output_type": "stream",
     "text": [
      "Epoch 12  ||  Total Loss : 66643.6010: 100%|███████████████████████████████████████████████████████████████████████████████████████████████████████████████| 98/98 [00:00<00:00, 103.78it/s]\n",
      "Epoch 12  ||  Total Loss : 66668.1116: 100%|████████████████████████████████████████████████████████████████████████████████████████████████████████████████| 25/25 [00:00<00:00, 47.92it/s]\n"
     ]
    },
    {
     "name": "stdout",
     "output_type": "stream",
     "text": [
      "Saving CKPT\n",
      "\n",
      "\n"
     ]
    },
    {
     "name": "stderr",
     "output_type": "stream",
     "text": [
      "Epoch 13  ||  Total Loss : 65022.6178: 100%|███████████████████████████████████████████████████████████████████████████████████████████████████████████████| 98/98 [00:00<00:00, 108.96it/s]\n",
      "Epoch 13  ||  Total Loss : 64975.9162: 100%|████████████████████████████████████████████████████████████████████████████████████████████████████████████████| 25/25 [00:00<00:00, 48.42it/s]\n"
     ]
    },
    {
     "name": "stdout",
     "output_type": "stream",
     "text": [
      "Saving CKPT\n",
      "\n",
      "\n"
     ]
    },
    {
     "name": "stderr",
     "output_type": "stream",
     "text": [
      "Epoch 14  ||  Total Loss : 63509.7742: 100%|████████████████████████████████████████████████████████████████████████████████████████████████████████████████| 98/98 [00:00<00:00, 99.89it/s]\n",
      "Epoch 14  ||  Total Loss : 63469.0929: 100%|████████████████████████████████████████████████████████████████████████████████████████████████████████████████| 25/25 [00:00<00:00, 46.80it/s]\n"
     ]
    },
    {
     "name": "stdout",
     "output_type": "stream",
     "text": [
      "Saving CKPT\n",
      "\n",
      "\n"
     ]
    },
    {
     "name": "stderr",
     "output_type": "stream",
     "text": [
      "Epoch 15  ||  Total Loss : 61951.7993: 100%|███████████████████████████████████████████████████████████████████████████████████████████████████████████████| 98/98 [00:00<00:00, 104.71it/s]\n",
      "Epoch 15  ||  Total Loss : 61988.0947: 100%|████████████████████████████████████████████████████████████████████████████████████████████████████████████████| 25/25 [00:00<00:00, 44.66it/s]\n"
     ]
    },
    {
     "name": "stdout",
     "output_type": "stream",
     "text": [
      "Saving CKPT\n",
      "\n",
      "\n"
     ]
    },
    {
     "name": "stderr",
     "output_type": "stream",
     "text": [
      "Epoch 16  ||  Total Loss : 60437.9474: 100%|███████████████████████████████████████████████████████████████████████████████████████████████████████████████| 98/98 [00:00<00:00, 104.99it/s]\n",
      "Epoch 16  ||  Total Loss : 60527.7914: 100%|████████████████████████████████████████████████████████████████████████████████████████████████████████████████| 25/25 [00:00<00:00, 48.18it/s]\n"
     ]
    },
    {
     "name": "stdout",
     "output_type": "stream",
     "text": [
      "Saving CKPT\n",
      "\n",
      "\n"
     ]
    },
    {
     "name": "stderr",
     "output_type": "stream",
     "text": [
      "Epoch 17  ||  Total Loss : 58938.3405: 100%|███████████████████████████████████████████████████████████████████████████████████████████████████████████████| 98/98 [00:00<00:00, 107.04it/s]\n",
      "Epoch 17  ||  Total Loss : 59081.7878: 100%|████████████████████████████████████████████████████████████████████████████████████████████████████████████████| 25/25 [00:00<00:00, 48.89it/s]\n"
     ]
    },
    {
     "name": "stdout",
     "output_type": "stream",
     "text": [
      "Saving CKPT\n",
      "\n",
      "\n"
     ]
    },
    {
     "name": "stderr",
     "output_type": "stream",
     "text": [
      "Epoch 18  ||  Total Loss : 57503.2211: 100%|███████████████████████████████████████████████████████████████████████████████████████████████████████████████| 98/98 [00:00<00:00, 107.17it/s]\n",
      "Epoch 18  ||  Total Loss : 57642.8066: 100%|████████████████████████████████████████████████████████████████████████████████████████████████████████████████| 25/25 [00:00<00:00, 46.90it/s]\n"
     ]
    },
    {
     "name": "stdout",
     "output_type": "stream",
     "text": [
      "Saving CKPT\n",
      "\n",
      "\n"
     ]
    },
    {
     "name": "stderr",
     "output_type": "stream",
     "text": [
      "Epoch 19  ||  Total Loss : 56069.6592: 100%|███████████████████████████████████████████████████████████████████████████████████████████████████████████████| 98/98 [00:00<00:00, 103.68it/s]\n",
      "Epoch 19  ||  Total Loss : 56281.8776: 100%|████████████████████████████████████████████████████████████████████████████████████████████████████████████████| 25/25 [00:00<00:00, 47.28it/s]\n"
     ]
    },
    {
     "name": "stdout",
     "output_type": "stream",
     "text": [
      "Saving CKPT\n",
      "\n",
      "\n"
     ]
    },
    {
     "name": "stderr",
     "output_type": "stream",
     "text": [
      "Epoch 20  ||  Total Loss : 54658.4764: 100%|███████████████████████████████████████████████████████████████████████████████████████████████████████████████| 98/98 [00:00<00:00, 108.42it/s]\n",
      "Epoch 20  ||  Total Loss : 54802.3819: 100%|████████████████████████████████████████████████████████████████████████████████████████████████████████████████| 25/25 [00:00<00:00, 48.18it/s]\n"
     ]
    },
    {
     "name": "stdout",
     "output_type": "stream",
     "text": [
      "Saving CKPT\n",
      "\n",
      "\n"
     ]
    },
    {
     "name": "stderr",
     "output_type": "stream",
     "text": [
      "Epoch 21  ||  Total Loss : 53296.1493: 100%|███████████████████████████████████████████████████████████████████████████████████████████████████████████████| 98/98 [00:00<00:00, 104.90it/s]\n",
      "Epoch 21  ||  Total Loss : 53485.1702: 100%|████████████████████████████████████████████████████████████████████████████████████████████████████████████████| 25/25 [00:00<00:00, 48.22it/s]\n"
     ]
    },
    {
     "name": "stdout",
     "output_type": "stream",
     "text": [
      "Saving CKPT\n",
      "\n",
      "\n"
     ]
    },
    {
     "name": "stderr",
     "output_type": "stream",
     "text": [
      "Epoch 22  ||  Total Loss : 51976.0939: 100%|███████████████████████████████████████████████████████████████████████████████████████████████████████████████| 98/98 [00:00<00:00, 104.37it/s]\n",
      "Epoch 22  ||  Total Loss : 52191.9249: 100%|████████████████████████████████████████████████████████████████████████████████████████████████████████████████| 25/25 [00:00<00:00, 48.82it/s]\n"
     ]
    },
    {
     "name": "stdout",
     "output_type": "stream",
     "text": [
      "Saving CKPT\n",
      "\n",
      "\n"
     ]
    },
    {
     "name": "stderr",
     "output_type": "stream",
     "text": [
      "Epoch 23  ||  Total Loss : 50669.5612: 100%|███████████████████████████████████████████████████████████████████████████████████████████████████████████████| 98/98 [00:00<00:00, 107.95it/s]\n",
      "Epoch 23  ||  Total Loss : 50781.2733: 100%|████████████████████████████████████████████████████████████████████████████████████████████████████████████████| 25/25 [00:00<00:00, 48.15it/s]\n"
     ]
    },
    {
     "name": "stdout",
     "output_type": "stream",
     "text": [
      "Saving CKPT\n",
      "\n",
      "\n"
     ]
    },
    {
     "name": "stderr",
     "output_type": "stream",
     "text": [
      "Epoch 24  ||  Total Loss : 49334.0933: 100%|███████████████████████████████████████████████████████████████████████████████████████████████████████████████| 98/98 [00:00<00:00, 108.07it/s]\n",
      "Epoch 24  ||  Total Loss : 49557.7080: 100%|████████████████████████████████████████████████████████████████████████████████████████████████████████████████| 25/25 [00:00<00:00, 48.20it/s]\n"
     ]
    },
    {
     "name": "stdout",
     "output_type": "stream",
     "text": [
      "Saving CKPT\n",
      "\n",
      "\n"
     ]
    },
    {
     "name": "stderr",
     "output_type": "stream",
     "text": [
      "Epoch 25  ||  Total Loss : 48047.7548: 100%|███████████████████████████████████████████████████████████████████████████████████████████████████████████████| 98/98 [00:00<00:00, 108.70it/s]\n",
      "Epoch 25  ||  Total Loss : 48188.0594: 100%|████████████████████████████████████████████████████████████████████████████████████████████████████████████████| 25/25 [00:00<00:00, 47.65it/s]\n"
     ]
    },
    {
     "name": "stdout",
     "output_type": "stream",
     "text": [
      "Saving CKPT\n",
      "\n",
      "\n"
     ]
    },
    {
     "name": "stderr",
     "output_type": "stream",
     "text": [
      "Epoch 26  ||  Total Loss : 46812.4894: 100%|███████████████████████████████████████████████████████████████████████████████████████████████████████████████| 98/98 [00:00<00:00, 106.95it/s]\n",
      "Epoch 26  ||  Total Loss : 46972.8934: 100%|████████████████████████████████████████████████████████████████████████████████████████████████████████████████| 25/25 [00:00<00:00, 49.10it/s]\n"
     ]
    },
    {
     "name": "stdout",
     "output_type": "stream",
     "text": [
      "Saving CKPT\n",
      "\n",
      "\n"
     ]
    },
    {
     "name": "stderr",
     "output_type": "stream",
     "text": [
      "Epoch 27  ||  Total Loss : 45549.6536: 100%|███████████████████████████████████████████████████████████████████████████████████████████████████████████████| 98/98 [00:00<00:00, 110.49it/s]\n",
      "Epoch 27  ||  Total Loss : 45680.8178: 100%|████████████████████████████████████████████████████████████████████████████████████████████████████████████████| 25/25 [00:00<00:00, 48.30it/s]\n"
     ]
    },
    {
     "name": "stdout",
     "output_type": "stream",
     "text": [
      "Saving CKPT\n",
      "\n",
      "\n"
     ]
    },
    {
     "name": "stderr",
     "output_type": "stream",
     "text": [
      "Epoch 28  ||  Total Loss : 44313.0673: 100%|███████████████████████████████████████████████████████████████████████████████████████████████████████████████| 98/98 [00:00<00:00, 109.08it/s]\n",
      "Epoch 28  ||  Total Loss : 44466.2905: 100%|████████████████████████████████████████████████████████████████████████████████████████████████████████████████| 25/25 [00:00<00:00, 50.14it/s]\n"
     ]
    },
    {
     "name": "stdout",
     "output_type": "stream",
     "text": [
      "Saving CKPT\n",
      "\n",
      "\n"
     ]
    },
    {
     "name": "stderr",
     "output_type": "stream",
     "text": [
      "Epoch 29  ||  Total Loss : 43105.0704: 100%|███████████████████████████████████████████████████████████████████████████████████████████████████████████████| 98/98 [00:00<00:00, 110.70it/s]\n",
      "Epoch 29  ||  Total Loss : 43337.9845: 100%|████████████████████████████████████████████████████████████████████████████████████████████████████████████████| 25/25 [00:00<00:00, 49.02it/s]\n"
     ]
    },
    {
     "name": "stdout",
     "output_type": "stream",
     "text": [
      "Saving CKPT\n",
      "\n",
      "\n"
     ]
    },
    {
     "name": "stderr",
     "output_type": "stream",
     "text": [
      "Epoch 30  ||  Total Loss : 41946.4796: 100%|███████████████████████████████████████████████████████████████████████████████████████████████████████████████| 98/98 [00:00<00:00, 111.17it/s]\n",
      "Epoch 30  ||  Total Loss : 42179.5244: 100%|████████████████████████████████████████████████████████████████████████████████████████████████████████████████| 25/25 [00:00<00:00, 47.95it/s]\n"
     ]
    },
    {
     "name": "stdout",
     "output_type": "stream",
     "text": [
      "Saving CKPT\n",
      "\n",
      "\n"
     ]
    },
    {
     "name": "stderr",
     "output_type": "stream",
     "text": [
      "Epoch 31  ||  Total Loss : 40813.0599: 100%|███████████████████████████████████████████████████████████████████████████████████████████████████████████████| 98/98 [00:00<00:00, 108.76it/s]\n",
      "Epoch 31  ||  Total Loss : 40904.2332: 100%|████████████████████████████████████████████████████████████████████████████████████████████████████████████████| 25/25 [00:00<00:00, 48.06it/s]\n"
     ]
    },
    {
     "name": "stdout",
     "output_type": "stream",
     "text": [
      "Saving CKPT\n",
      "\n",
      "\n"
     ]
    },
    {
     "name": "stderr",
     "output_type": "stream",
     "text": [
      "Epoch 32  ||  Total Loss : 39683.3036: 100%|███████████████████████████████████████████████████████████████████████████████████████████████████████████████| 98/98 [00:00<00:00, 107.36it/s]\n",
      "Epoch 32  ||  Total Loss : 39840.0483: 100%|████████████████████████████████████████████████████████████████████████████████████████████████████████████████| 25/25 [00:00<00:00, 48.68it/s]\n"
     ]
    },
    {
     "name": "stdout",
     "output_type": "stream",
     "text": [
      "Saving CKPT\n",
      "\n",
      "\n"
     ]
    },
    {
     "name": "stderr",
     "output_type": "stream",
     "text": [
      "Epoch 33  ||  Total Loss : 38557.8411: 100%|████████████████████████████████████████████████████████████████████████████████████████████████████████████████| 98/98 [00:00<00:00, 98.86it/s]\n",
      "Epoch 33  ||  Total Loss : 38670.2060: 100%|████████████████████████████████████████████████████████████████████████████████████████████████████████████████| 25/25 [00:00<00:00, 44.88it/s]\n"
     ]
    },
    {
     "name": "stdout",
     "output_type": "stream",
     "text": [
      "Saving CKPT\n",
      "\n",
      "\n"
     ]
    },
    {
     "name": "stderr",
     "output_type": "stream",
     "text": [
      "Epoch 34  ||  Total Loss : 37453.8279: 100%|███████████████████████████████████████████████████████████████████████████████████████████████████████████████| 98/98 [00:00<00:00, 101.49it/s]\n",
      "Epoch 34  ||  Total Loss : 37590.3381: 100%|████████████████████████████████████████████████████████████████████████████████████████████████████████████████| 25/25 [00:00<00:00, 44.83it/s]\n"
     ]
    },
    {
     "name": "stdout",
     "output_type": "stream",
     "text": [
      "Saving CKPT\n",
      "\n",
      "\n"
     ]
    },
    {
     "name": "stderr",
     "output_type": "stream",
     "text": [
      "Epoch 35  ||  Total Loss : 36347.8440: 100%|███████████████████████████████████████████████████████████████████████████████████████████████████████████████| 98/98 [00:00<00:00, 105.56it/s]\n",
      "Epoch 35  ||  Total Loss : 36490.8768: 100%|████████████████████████████████████████████████████████████████████████████████████████████████████████████████| 25/25 [00:00<00:00, 48.52it/s]\n"
     ]
    },
    {
     "name": "stdout",
     "output_type": "stream",
     "text": [
      "Saving CKPT\n",
      "\n",
      "\n"
     ]
    },
    {
     "name": "stderr",
     "output_type": "stream",
     "text": [
      "Epoch 36  ||  Total Loss : 35306.0500: 100%|███████████████████████████████████████████████████████████████████████████████████████████████████████████████| 98/98 [00:00<00:00, 107.81it/s]\n",
      "Epoch 36  ||  Total Loss : 35401.3746: 100%|████████████████████████████████████████████████████████████████████████████████████████████████████████████████| 25/25 [00:00<00:00, 48.92it/s]\n"
     ]
    },
    {
     "name": "stdout",
     "output_type": "stream",
     "text": [
      "Saving CKPT\n",
      "\n",
      "\n"
     ]
    },
    {
     "name": "stderr",
     "output_type": "stream",
     "text": [
      "Epoch 37  ||  Total Loss : 34264.9717: 100%|███████████████████████████████████████████████████████████████████████████████████████████████████████████████| 98/98 [00:00<00:00, 106.72it/s]\n",
      "Epoch 37  ||  Total Loss : 34368.5372: 100%|████████████████████████████████████████████████████████████████████████████████████████████████████████████████| 25/25 [00:00<00:00, 48.51it/s]\n"
     ]
    },
    {
     "name": "stdout",
     "output_type": "stream",
     "text": [
      "Saving CKPT\n",
      "\n",
      "\n"
     ]
    },
    {
     "name": "stderr",
     "output_type": "stream",
     "text": [
      "Epoch 38  ||  Total Loss : 33257.9516: 100%|████████████████████████████████████████████████████████████████████████████████████████████████████████████████| 98/98 [00:01<00:00, 67.20it/s]\n",
      "Epoch 38  ||  Total Loss : 33313.3870: 100%|████████████████████████████████████████████████████████████████████████████████████████████████████████████████| 25/25 [00:00<00:00, 48.18it/s]\n"
     ]
    },
    {
     "name": "stdout",
     "output_type": "stream",
     "text": [
      "Saving CKPT\n",
      "\n",
      "\n"
     ]
    },
    {
     "name": "stderr",
     "output_type": "stream",
     "text": [
      "Epoch 39  ||  Total Loss : 32237.3022: 100%|███████████████████████████████████████████████████████████████████████████████████████████████████████████████| 98/98 [00:00<00:00, 107.64it/s]\n",
      "Epoch 39  ||  Total Loss : 32317.3248: 100%|████████████████████████████████████████████████████████████████████████████████████████████████████████████████| 25/25 [00:00<00:00, 46.67it/s]\n"
     ]
    },
    {
     "name": "stdout",
     "output_type": "stream",
     "text": [
      "Saving CKPT\n",
      "\n",
      "\n"
     ]
    },
    {
     "name": "stderr",
     "output_type": "stream",
     "text": [
      "Epoch 40  ||  Total Loss : 31253.7951: 100%|███████████████████████████████████████████████████████████████████████████████████████████████████████████████| 98/98 [00:00<00:00, 106.18it/s]\n",
      "Epoch 40  ||  Total Loss : 31320.2953: 100%|████████████████████████████████████████████████████████████████████████████████████████████████████████████████| 25/25 [00:00<00:00, 46.96it/s]\n"
     ]
    },
    {
     "name": "stdout",
     "output_type": "stream",
     "text": [
      "Saving CKPT\n",
      "\n",
      "\n"
     ]
    },
    {
     "name": "stderr",
     "output_type": "stream",
     "text": [
      "Epoch 41  ||  Total Loss : 30279.2454: 100%|███████████████████████████████████████████████████████████████████████████████████████████████████████████████| 98/98 [00:00<00:00, 103.34it/s]\n",
      "Epoch 41  ||  Total Loss : 30289.1952: 100%|████████████████████████████████████████████████████████████████████████████████████████████████████████████████| 25/25 [00:00<00:00, 47.52it/s]\n"
     ]
    },
    {
     "name": "stdout",
     "output_type": "stream",
     "text": [
      "Saving CKPT\n",
      "\n",
      "\n"
     ]
    },
    {
     "name": "stderr",
     "output_type": "stream",
     "text": [
      "Epoch 42  ||  Total Loss : 29337.2255: 100%|███████████████████████████████████████████████████████████████████████████████████████████████████████████████| 98/98 [00:00<00:00, 104.99it/s]\n",
      "Epoch 42  ||  Total Loss : 29367.1178: 100%|████████████████████████████████████████████████████████████████████████████████████████████████████████████████| 25/25 [00:00<00:00, 46.85it/s]\n"
     ]
    },
    {
     "name": "stdout",
     "output_type": "stream",
     "text": [
      "Saving CKPT\n",
      "\n",
      "\n"
     ]
    },
    {
     "name": "stderr",
     "output_type": "stream",
     "text": [
      "Epoch 43  ||  Total Loss : 28428.1184: 100%|███████████████████████████████████████████████████████████████████████████████████████████████████████████████| 98/98 [00:00<00:00, 103.71it/s]\n",
      "Epoch 43  ||  Total Loss : 28418.6369: 100%|████████████████████████████████████████████████████████████████████████████████████████████████████████████████| 25/25 [00:00<00:00, 46.48it/s]\n"
     ]
    },
    {
     "name": "stdout",
     "output_type": "stream",
     "text": [
      "Saving CKPT\n",
      "\n",
      "\n"
     ]
    },
    {
     "name": "stderr",
     "output_type": "stream",
     "text": [
      "Epoch 44  ||  Total Loss : 27492.4298: 100%|███████████████████████████████████████████████████████████████████████████████████████████████████████████████| 98/98 [00:00<00:00, 106.26it/s]\n",
      "Epoch 44  ||  Total Loss : 27439.3793: 100%|████████████████████████████████████████████████████████████████████████████████████████████████████████████████| 25/25 [00:00<00:00, 45.74it/s]\n"
     ]
    },
    {
     "name": "stdout",
     "output_type": "stream",
     "text": [
      "Saving CKPT\n",
      "\n",
      "\n"
     ]
    },
    {
     "name": "stderr",
     "output_type": "stream",
     "text": [
      "Epoch 45  ||  Total Loss : 26599.8991: 100%|███████████████████████████████████████████████████████████████████████████████████████████████████████████████| 98/98 [00:00<00:00, 107.67it/s]\n",
      "Epoch 45  ||  Total Loss : 26575.7333: 100%|████████████████████████████████████████████████████████████████████████████████████████████████████████████████| 25/25 [00:00<00:00, 48.43it/s]\n"
     ]
    },
    {
     "name": "stdout",
     "output_type": "stream",
     "text": [
      "Saving CKPT\n",
      "\n",
      "\n"
     ]
    },
    {
     "name": "stderr",
     "output_type": "stream",
     "text": [
      "Epoch 46  ||  Total Loss : 25722.6182: 100%|███████████████████████████████████████████████████████████████████████████████████████████████████████████████| 98/98 [00:00<00:00, 107.57it/s]\n",
      "Epoch 46  ||  Total Loss : 25678.0637: 100%|████████████████████████████████████████████████████████████████████████████████████████████████████████████████| 25/25 [00:00<00:00, 47.18it/s]\n"
     ]
    },
    {
     "name": "stdout",
     "output_type": "stream",
     "text": [
      "Saving CKPT\n",
      "\n",
      "\n"
     ]
    },
    {
     "name": "stderr",
     "output_type": "stream",
     "text": [
      "Epoch 47  ||  Total Loss : 24865.9544: 100%|███████████████████████████████████████████████████████████████████████████████████████████████████████████████| 98/98 [00:00<00:00, 106.54it/s]\n",
      "Epoch 47  ||  Total Loss : 24837.3940: 100%|████████████████████████████████████████████████████████████████████████████████████████████████████████████████| 25/25 [00:00<00:00, 48.41it/s]\n"
     ]
    },
    {
     "name": "stdout",
     "output_type": "stream",
     "text": [
      "Saving CKPT\n",
      "\n",
      "\n"
     ]
    },
    {
     "name": "stderr",
     "output_type": "stream",
     "text": [
      "Epoch 48  ||  Total Loss : 24033.7326: 100%|███████████████████████████████████████████████████████████████████████████████████████████████████████████████| 98/98 [00:00<00:00, 107.39it/s]\n",
      "Epoch 48  ||  Total Loss : 23966.5040: 100%|████████████████████████████████████████████████████████████████████████████████████████████████████████████████| 25/25 [00:00<00:00, 48.96it/s]\n"
     ]
    },
    {
     "name": "stdout",
     "output_type": "stream",
     "text": [
      "Saving CKPT\n",
      "\n",
      "\n"
     ]
    },
    {
     "name": "stderr",
     "output_type": "stream",
     "text": [
      "Epoch 49  ||  Total Loss : 23184.9886: 100%|███████████████████████████████████████████████████████████████████████████████████████████████████████████████| 98/98 [00:00<00:00, 107.22it/s]\n",
      "Epoch 49  ||  Total Loss : 23136.7933: 100%|████████████████████████████████████████████████████████████████████████████████████████████████████████████████| 25/25 [00:00<00:00, 47.56it/s]\n"
     ]
    },
    {
     "name": "stdout",
     "output_type": "stream",
     "text": [
      "Saving CKPT\n",
      "\n",
      "\n"
     ]
    },
    {
     "name": "stderr",
     "output_type": "stream",
     "text": [
      "Epoch 50  ||  Total Loss : 22409.2515: 100%|███████████████████████████████████████████████████████████████████████████████████████████████████████████████| 98/98 [00:00<00:00, 105.67it/s]\n",
      "Epoch 50  ||  Total Loss : 22299.4018: 100%|████████████████████████████████████████████████████████████████████████████████████████████████████████████████| 25/25 [00:00<00:00, 47.32it/s]\n"
     ]
    },
    {
     "name": "stdout",
     "output_type": "stream",
     "text": [
      "Saving CKPT\n",
      "\n",
      "\n"
     ]
    },
    {
     "name": "stderr",
     "output_type": "stream",
     "text": [
      "Epoch 51  ||  Total Loss : 21618.5568: 100%|███████████████████████████████████████████████████████████████████████████████████████████████████████████████| 98/98 [00:00<00:00, 105.54it/s]\n",
      "Epoch 51  ||  Total Loss : 21507.2512: 100%|████████████████████████████████████████████████████████████████████████████████████████████████████████████████| 25/25 [00:00<00:00, 48.51it/s]\n"
     ]
    },
    {
     "name": "stdout",
     "output_type": "stream",
     "text": [
      "Saving CKPT\n",
      "\n",
      "\n"
     ]
    },
    {
     "name": "stderr",
     "output_type": "stream",
     "text": [
      "Epoch 52  ||  Total Loss : 20840.6868: 100%|███████████████████████████████████████████████████████████████████████████████████████████████████████████████| 98/98 [00:00<00:00, 106.26it/s]\n",
      "Epoch 52  ||  Total Loss : 20704.8405: 100%|████████████████████████████████████████████████████████████████████████████████████████████████████████████████| 25/25 [00:00<00:00, 48.81it/s]\n"
     ]
    },
    {
     "name": "stdout",
     "output_type": "stream",
     "text": [
      "Saving CKPT\n",
      "\n",
      "\n"
     ]
    },
    {
     "name": "stderr",
     "output_type": "stream",
     "text": [
      "Epoch 53  ||  Total Loss : 20099.3693: 100%|███████████████████████████████████████████████████████████████████████████████████████████████████████████████| 98/98 [00:00<00:00, 105.38it/s]\n",
      "Epoch 53  ||  Total Loss : 19968.8905: 100%|████████████████████████████████████████████████████████████████████████████████████████████████████████████████| 25/25 [00:00<00:00, 48.06it/s]\n"
     ]
    },
    {
     "name": "stdout",
     "output_type": "stream",
     "text": [
      "Saving CKPT\n",
      "\n",
      "\n"
     ]
    },
    {
     "name": "stderr",
     "output_type": "stream",
     "text": [
      "Epoch 54  ||  Total Loss : 19350.9067: 100%|████████████████████████████████████████████████████████████████████████████████████████████████████████████████| 98/98 [00:00<00:00, 98.78it/s]\n",
      "Epoch 54  ||  Total Loss : 19206.9195: 100%|████████████████████████████████████████████████████████████████████████████████████████████████████████████████| 25/25 [00:00<00:00, 47.96it/s]\n"
     ]
    },
    {
     "name": "stdout",
     "output_type": "stream",
     "text": [
      "Saving CKPT\n",
      "\n",
      "\n"
     ]
    },
    {
     "name": "stderr",
     "output_type": "stream",
     "text": [
      "Epoch 55  ||  Total Loss : 18639.2787: 100%|███████████████████████████████████████████████████████████████████████████████████████████████████████████████| 98/98 [00:00<00:00, 107.22it/s]\n",
      "Epoch 55  ||  Total Loss : 18502.2275: 100%|████████████████████████████████████████████████████████████████████████████████████████████████████████████████| 25/25 [00:00<00:00, 47.89it/s]\n"
     ]
    },
    {
     "name": "stdout",
     "output_type": "stream",
     "text": [
      "Saving CKPT\n",
      "\n",
      "\n"
     ]
    },
    {
     "name": "stderr",
     "output_type": "stream",
     "text": [
      "Epoch 56  ||  Total Loss : 17935.4875: 100%|███████████████████████████████████████████████████████████████████████████████████████████████████████████████| 98/98 [00:00<00:00, 106.56it/s]\n",
      "Epoch 56  ||  Total Loss : 17797.3475: 100%|████████████████████████████████████████████████████████████████████████████████████████████████████████████████| 25/25 [00:00<00:00, 47.15it/s]\n"
     ]
    },
    {
     "name": "stdout",
     "output_type": "stream",
     "text": [
      "Saving CKPT\n",
      "\n",
      "\n"
     ]
    },
    {
     "name": "stderr",
     "output_type": "stream",
     "text": [
      "Epoch 57  ||  Total Loss : 17260.1651: 100%|███████████████████████████████████████████████████████████████████████████████████████████████████████████████| 98/98 [00:00<00:00, 107.86it/s]\n",
      "Epoch 57  ||  Total Loss : 17121.4626: 100%|████████████████████████████████████████████████████████████████████████████████████████████████████████████████| 25/25 [00:00<00:00, 47.37it/s]\n"
     ]
    },
    {
     "name": "stdout",
     "output_type": "stream",
     "text": [
      "Saving CKPT\n",
      "\n",
      "\n"
     ]
    },
    {
     "name": "stderr",
     "output_type": "stream",
     "text": [
      "Epoch 58  ||  Total Loss : 16585.9367: 100%|███████████████████████████████████████████████████████████████████████████████████████████████████████████████| 98/98 [00:00<00:00, 106.30it/s]\n",
      "Epoch 58  ||  Total Loss : 16441.3001: 100%|████████████████████████████████████████████████████████████████████████████████████████████████████████████████| 25/25 [00:00<00:00, 47.72it/s]\n"
     ]
    },
    {
     "name": "stdout",
     "output_type": "stream",
     "text": [
      "Saving CKPT\n",
      "\n",
      "\n"
     ]
    },
    {
     "name": "stderr",
     "output_type": "stream",
     "text": [
      "Epoch 59  ||  Total Loss : 15932.6628: 100%|███████████████████████████████████████████████████████████████████████████████████████████████████████████████| 98/98 [00:00<00:00, 107.59it/s]\n",
      "Epoch 59  ||  Total Loss : 15802.9885: 100%|████████████████████████████████████████████████████████████████████████████████████████████████████████████████| 25/25 [00:00<00:00, 47.22it/s]\n"
     ]
    },
    {
     "name": "stdout",
     "output_type": "stream",
     "text": [
      "Saving CKPT\n",
      "\n",
      "\n"
     ]
    },
    {
     "name": "stderr",
     "output_type": "stream",
     "text": [
      "Epoch 60  ||  Total Loss : 15313.8845: 100%|███████████████████████████████████████████████████████████████████████████████████████████████████████████████| 98/98 [00:00<00:00, 103.97it/s]\n",
      "Epoch 60  ||  Total Loss : 15136.6056: 100%|████████████████████████████████████████████████████████████████████████████████████████████████████████████████| 25/25 [00:00<00:00, 46.05it/s]\n"
     ]
    },
    {
     "name": "stdout",
     "output_type": "stream",
     "text": [
      "Saving CKPT\n",
      "\n",
      "\n"
     ]
    },
    {
     "name": "stderr",
     "output_type": "stream",
     "text": [
      "Epoch 61  ||  Total Loss : 14697.1781: 100%|███████████████████████████████████████████████████████████████████████████████████████████████████████████████| 98/98 [00:00<00:00, 110.40it/s]\n",
      "Epoch 61  ||  Total Loss : 14527.7702: 100%|████████████████████████████████████████████████████████████████████████████████████████████████████████████████| 25/25 [00:00<00:00, 47.76it/s]\n"
     ]
    },
    {
     "name": "stdout",
     "output_type": "stream",
     "text": [
      "Saving CKPT\n",
      "\n",
      "\n"
     ]
    },
    {
     "name": "stderr",
     "output_type": "stream",
     "text": [
      "Epoch 62  ||  Total Loss : 14094.6562: 100%|███████████████████████████████████████████████████████████████████████████████████████████████████████████████| 98/98 [00:00<00:00, 107.65it/s]\n",
      "Epoch 62  ||  Total Loss : 13939.3301: 100%|████████████████████████████████████████████████████████████████████████████████████████████████████████████████| 25/25 [00:00<00:00, 48.48it/s]\n"
     ]
    },
    {
     "name": "stdout",
     "output_type": "stream",
     "text": [
      "Saving CKPT\n",
      "\n",
      "\n"
     ]
    },
    {
     "name": "stderr",
     "output_type": "stream",
     "text": [
      "Epoch 63  ||  Total Loss : 13528.8288: 100%|███████████████████████████████████████████████████████████████████████████████████████████████████████████████| 98/98 [00:00<00:00, 109.09it/s]\n",
      "Epoch 63  ||  Total Loss : 13352.3795: 100%|████████████████████████████████████████████████████████████████████████████████████████████████████████████████| 25/25 [00:00<00:00, 47.45it/s]\n"
     ]
    },
    {
     "name": "stdout",
     "output_type": "stream",
     "text": [
      "Saving CKPT\n",
      "\n",
      "\n"
     ]
    },
    {
     "name": "stderr",
     "output_type": "stream",
     "text": [
      "Epoch 64  ||  Total Loss : 12965.0779: 100%|███████████████████████████████████████████████████████████████████████████████████████████████████████████████| 98/98 [00:00<00:00, 108.29it/s]\n",
      "Epoch 64  ||  Total Loss : 12779.8690: 100%|████████████████████████████████████████████████████████████████████████████████████████████████████████████████| 25/25 [00:00<00:00, 47.47it/s]\n"
     ]
    },
    {
     "name": "stdout",
     "output_type": "stream",
     "text": [
      "Saving CKPT\n",
      "\n",
      "\n"
     ]
    },
    {
     "name": "stderr",
     "output_type": "stream",
     "text": [
      "Epoch 65  ||  Total Loss : 12418.8654: 100%|███████████████████████████████████████████████████████████████████████████████████████████████████████████████| 98/98 [00:00<00:00, 108.84it/s]\n",
      "Epoch 65  ||  Total Loss : 12236.5148: 100%|████████████████████████████████████████████████████████████████████████████████████████████████████████████████| 25/25 [00:00<00:00, 48.13it/s]\n"
     ]
    },
    {
     "name": "stdout",
     "output_type": "stream",
     "text": [
      "Saving CKPT\n",
      "\n",
      "\n"
     ]
    },
    {
     "name": "stderr",
     "output_type": "stream",
     "text": [
      "Epoch 66  ||  Total Loss : 11889.8674: 100%|███████████████████████████████████████████████████████████████████████████████████████████████████████████████| 98/98 [00:00<00:00, 108.51it/s]\n",
      "Epoch 66  ||  Total Loss : 11729.6354: 100%|████████████████████████████████████████████████████████████████████████████████████████████████████████████████| 25/25 [00:00<00:00, 49.21it/s]\n"
     ]
    },
    {
     "name": "stdout",
     "output_type": "stream",
     "text": [
      "Saving CKPT\n",
      "\n",
      "\n"
     ]
    },
    {
     "name": "stderr",
     "output_type": "stream",
     "text": [
      "Epoch 67  ||  Total Loss : 11390.7307: 100%|███████████████████████████████████████████████████████████████████████████████████████████████████████████████| 98/98 [00:00<00:00, 104.27it/s]\n",
      "Epoch 67  ||  Total Loss : 11214.9142: 100%|████████████████████████████████████████████████████████████████████████████████████████████████████████████████| 25/25 [00:00<00:00, 47.68it/s]\n"
     ]
    },
    {
     "name": "stdout",
     "output_type": "stream",
     "text": [
      "Saving CKPT\n",
      "\n",
      "\n"
     ]
    },
    {
     "name": "stderr",
     "output_type": "stream",
     "text": [
      "Epoch 68  ||  Total Loss : 10898.3620: 100%|███████████████████████████████████████████████████████████████████████████████████████████████████████████████| 98/98 [00:00<00:00, 109.66it/s]\n",
      "Epoch 68  ||  Total Loss : 10713.9852: 100%|████████████████████████████████████████████████████████████████████████████████████████████████████████████████| 25/25 [00:00<00:00, 46.07it/s]\n"
     ]
    },
    {
     "name": "stdout",
     "output_type": "stream",
     "text": [
      "Saving CKPT\n",
      "\n",
      "\n"
     ]
    },
    {
     "name": "stderr",
     "output_type": "stream",
     "text": [
      "Epoch 69  ||  Total Loss : 10423.1047: 100%|███████████████████████████████████████████████████████████████████████████████████████████████████████████████| 98/98 [00:00<00:00, 107.51it/s]\n",
      "Epoch 69  ||  Total Loss : 10265.9825: 100%|████████████████████████████████████████████████████████████████████████████████████████████████████████████████| 25/25 [00:00<00:00, 47.13it/s]\n"
     ]
    },
    {
     "name": "stdout",
     "output_type": "stream",
     "text": [
      "Saving CKPT\n",
      "\n",
      "\n"
     ]
    },
    {
     "name": "stderr",
     "output_type": "stream",
     "text": [
      "Epoch 70  ||  Total Loss : 9966.1944: 100%|████████████████████████████████████████████████████████████████████████████████████████████████████████████████| 98/98 [00:00<00:00, 107.19it/s]\n",
      "Epoch 70  ||  Total Loss : 9801.7455: 100%|█████████████████████████████████████████████████████████████████████████████████████████████████████████████████| 25/25 [00:00<00:00, 47.03it/s]\n"
     ]
    },
    {
     "name": "stdout",
     "output_type": "stream",
     "text": [
      "Saving CKPT\n",
      "\n",
      "\n"
     ]
    },
    {
     "name": "stderr",
     "output_type": "stream",
     "text": [
      "Epoch 71  ||  Total Loss : 9526.5074: 100%|████████████████████████████████████████████████████████████████████████████████████████████████████████████████| 98/98 [00:00<00:00, 105.35it/s]\n",
      "Epoch 71  ||  Total Loss : 9341.8746: 100%|█████████████████████████████████████████████████████████████████████████████████████████████████████████████████| 25/25 [00:00<00:00, 46.85it/s]\n"
     ]
    },
    {
     "name": "stdout",
     "output_type": "stream",
     "text": [
      "Saving CKPT\n",
      "\n",
      "\n"
     ]
    },
    {
     "name": "stderr",
     "output_type": "stream",
     "text": [
      "Epoch 72  ||  Total Loss : 9087.7728: 100%|████████████████████████████████████████████████████████████████████████████████████████████████████████████████| 98/98 [00:00<00:00, 104.75it/s]\n",
      "Epoch 72  ||  Total Loss : 8921.7994: 100%|█████████████████████████████████████████████████████████████████████████████████████████████████████████████████| 25/25 [00:00<00:00, 47.47it/s]\n"
     ]
    },
    {
     "name": "stdout",
     "output_type": "stream",
     "text": [
      "Saving CKPT\n",
      "\n",
      "\n"
     ]
    },
    {
     "name": "stderr",
     "output_type": "stream",
     "text": [
      "Epoch 73  ||  Total Loss : 8683.2331: 100%|████████████████████████████████████████████████████████████████████████████████████████████████████████████████| 98/98 [00:00<00:00, 104.79it/s]\n",
      "Epoch 73  ||  Total Loss : 8505.5706: 100%|█████████████████████████████████████████████████████████████████████████████████████████████████████████████████| 25/25 [00:00<00:00, 47.77it/s]\n"
     ]
    },
    {
     "name": "stdout",
     "output_type": "stream",
     "text": [
      "Saving CKPT\n",
      "\n",
      "\n"
     ]
    },
    {
     "name": "stderr",
     "output_type": "stream",
     "text": [
      "Epoch 74  ||  Total Loss : 8287.0686: 100%|████████████████████████████████████████████████████████████████████████████████████████████████████████████████| 98/98 [00:00<00:00, 106.05it/s]\n",
      "Epoch 74  ||  Total Loss : 8121.5626: 100%|█████████████████████████████████████████████████████████████████████████████████████████████████████████████████| 25/25 [00:00<00:00, 47.35it/s]\n"
     ]
    },
    {
     "name": "stdout",
     "output_type": "stream",
     "text": [
      "Saving CKPT\n",
      "\n",
      "\n"
     ]
    },
    {
     "name": "stderr",
     "output_type": "stream",
     "text": [
      "Epoch 75  ||  Total Loss : 7908.1749: 100%|████████████████████████████████████████████████████████████████████████████████████████████████████████████████| 98/98 [00:00<00:00, 106.73it/s]\n",
      "Epoch 75  ||  Total Loss : 7747.2680: 100%|█████████████████████████████████████████████████████████████████████████████████████████████████████████████████| 25/25 [00:00<00:00, 47.79it/s]\n"
     ]
    },
    {
     "name": "stdout",
     "output_type": "stream",
     "text": [
      "Saving CKPT\n",
      "\n",
      "\n"
     ]
    },
    {
     "name": "stderr",
     "output_type": "stream",
     "text": [
      "Epoch 76  ||  Total Loss : 7536.8122: 100%|████████████████████████████████████████████████████████████████████████████████████████████████████████████████| 98/98 [00:00<00:00, 108.36it/s]\n",
      "Epoch 76  ||  Total Loss : 7369.7764: 100%|█████████████████████████████████████████████████████████████████████████████████████████████████████████████████| 25/25 [00:00<00:00, 47.05it/s]\n"
     ]
    },
    {
     "name": "stdout",
     "output_type": "stream",
     "text": [
      "Saving CKPT\n",
      "\n",
      "\n"
     ]
    },
    {
     "name": "stderr",
     "output_type": "stream",
     "text": [
      "Epoch 77  ||  Total Loss : 7191.4790: 100%|████████████████████████████████████████████████████████████████████████████████████████████████████████████████| 98/98 [00:00<00:00, 105.23it/s]\n",
      "Epoch 77  ||  Total Loss : 7045.5927: 100%|█████████████████████████████████████████████████████████████████████████████████████████████████████████████████| 25/25 [00:00<00:00, 47.07it/s]\n"
     ]
    },
    {
     "name": "stdout",
     "output_type": "stream",
     "text": [
      "Saving CKPT\n",
      "\n",
      "\n"
     ]
    },
    {
     "name": "stderr",
     "output_type": "stream",
     "text": [
      "Epoch 78  ||  Total Loss : 6844.9609: 100%|████████████████████████████████████████████████████████████████████████████████████████████████████████████████| 98/98 [00:00<00:00, 106.80it/s]\n",
      "Epoch 78  ||  Total Loss : 6704.2508: 100%|█████████████████████████████████████████████████████████████████████████████████████████████████████████████████| 25/25 [00:00<00:00, 47.47it/s]\n"
     ]
    },
    {
     "name": "stdout",
     "output_type": "stream",
     "text": [
      "Saving CKPT\n",
      "\n",
      "\n"
     ]
    },
    {
     "name": "stderr",
     "output_type": "stream",
     "text": [
      "Epoch 79  ||  Total Loss : 6525.1712: 100%|████████████████████████████████████████████████████████████████████████████████████████████████████████████████| 98/98 [00:00<00:00, 107.60it/s]\n",
      "Epoch 79  ||  Total Loss : 6398.9613: 100%|█████████████████████████████████████████████████████████████████████████████████████████████████████████████████| 25/25 [00:00<00:00, 46.63it/s]\n"
     ]
    },
    {
     "name": "stdout",
     "output_type": "stream",
     "text": [
      "Saving CKPT\n",
      "\n",
      "\n"
     ]
    },
    {
     "name": "stderr",
     "output_type": "stream",
     "text": [
      "Epoch 80  ||  Total Loss : 6216.4768: 100%|████████████████████████████████████████████████████████████████████████████████████████████████████████████████| 98/98 [00:00<00:00, 108.07it/s]\n",
      "Epoch 80  ||  Total Loss : 6076.0555: 100%|█████████████████████████████████████████████████████████████████████████████████████████████████████████████████| 25/25 [00:00<00:00, 47.70it/s]\n"
     ]
    },
    {
     "name": "stdout",
     "output_type": "stream",
     "text": [
      "Saving CKPT\n",
      "\n",
      "\n"
     ]
    },
    {
     "name": "stderr",
     "output_type": "stream",
     "text": [
      "Epoch 81  ||  Total Loss : 5923.0115: 100%|████████████████████████████████████████████████████████████████████████████████████████████████████████████████| 98/98 [00:00<00:00, 108.19it/s]\n",
      "Epoch 81  ||  Total Loss : 5792.5105: 100%|█████████████████████████████████████████████████████████████████████████████████████████████████████████████████| 25/25 [00:00<00:00, 47.07it/s]\n"
     ]
    },
    {
     "name": "stdout",
     "output_type": "stream",
     "text": [
      "Saving CKPT\n",
      "\n",
      "\n"
     ]
    },
    {
     "name": "stderr",
     "output_type": "stream",
     "text": [
      "Epoch 82  ||  Total Loss : 5634.9788: 100%|████████████████████████████████████████████████████████████████████████████████████████████████████████████████| 98/98 [00:00<00:00, 105.50it/s]\n",
      "Epoch 82  ||  Total Loss : 5513.2705: 100%|█████████████████████████████████████████████████████████████████████████████████████████████████████████████████| 25/25 [00:00<00:00, 47.91it/s]\n"
     ]
    },
    {
     "name": "stdout",
     "output_type": "stream",
     "text": [
      "Saving CKPT\n",
      "\n",
      "\n"
     ]
    },
    {
     "name": "stderr",
     "output_type": "stream",
     "text": [
      "Epoch 83  ||  Total Loss : 5368.9347: 100%|████████████████████████████████████████████████████████████████████████████████████████████████████████████████| 98/98 [00:00<00:00, 107.58it/s]\n",
      "Epoch 83  ||  Total Loss : 5251.3183: 100%|█████████████████████████████████████████████████████████████████████████████████████████████████████████████████| 25/25 [00:00<00:00, 48.07it/s]\n"
     ]
    },
    {
     "name": "stdout",
     "output_type": "stream",
     "text": [
      "Saving CKPT\n",
      "\n",
      "\n"
     ]
    },
    {
     "name": "stderr",
     "output_type": "stream",
     "text": [
      "Epoch 84  ||  Total Loss : 5114.4417: 100%|████████████████████████████████████████████████████████████████████████████████████████████████████████████████| 98/98 [00:00<00:00, 107.07it/s]\n",
      "Epoch 84  ||  Total Loss : 4995.0050: 100%|█████████████████████████████████████████████████████████████████████████████████████████████████████████████████| 25/25 [00:00<00:00, 46.65it/s]\n"
     ]
    },
    {
     "name": "stdout",
     "output_type": "stream",
     "text": [
      "Saving CKPT\n",
      "\n",
      "\n"
     ]
    },
    {
     "name": "stderr",
     "output_type": "stream",
     "text": [
      "Epoch 85  ||  Total Loss : 4871.6988: 100%|████████████████████████████████████████████████████████████████████████████████████████████████████████████████| 98/98 [00:00<00:00, 105.81it/s]\n",
      "Epoch 85  ||  Total Loss : 4755.2520: 100%|█████████████████████████████████████████████████████████████████████████████████████████████████████████████████| 25/25 [00:00<00:00, 48.09it/s]\n"
     ]
    },
    {
     "name": "stdout",
     "output_type": "stream",
     "text": [
      "Saving CKPT\n",
      "\n",
      "\n"
     ]
    },
    {
     "name": "stderr",
     "output_type": "stream",
     "text": [
      "Epoch 86  ||  Total Loss : 4633.1245: 100%|████████████████████████████████████████████████████████████████████████████████████████████████████████████████| 98/98 [00:00<00:00, 108.75it/s]\n",
      "Epoch 86  ||  Total Loss : 4517.9683: 100%|█████████████████████████████████████████████████████████████████████████████████████████████████████████████████| 25/25 [00:00<00:00, 47.85it/s]\n"
     ]
    },
    {
     "name": "stdout",
     "output_type": "stream",
     "text": [
      "Saving CKPT\n",
      "\n",
      "\n"
     ]
    },
    {
     "name": "stderr",
     "output_type": "stream",
     "text": [
      "Epoch 87  ||  Total Loss : 4410.0274: 100%|████████████████████████████████████████████████████████████████████████████████████████████████████████████████| 98/98 [00:00<00:00, 110.04it/s]\n",
      "Epoch 87  ||  Total Loss : 4303.8964: 100%|█████████████████████████████████████████████████████████████████████████████████████████████████████████████████| 25/25 [00:00<00:00, 46.49it/s]\n"
     ]
    },
    {
     "name": "stdout",
     "output_type": "stream",
     "text": [
      "Saving CKPT\n",
      "\n",
      "\n"
     ]
    },
    {
     "name": "stderr",
     "output_type": "stream",
     "text": [
      "Epoch 88  ||  Total Loss : 4201.2832: 100%|████████████████████████████████████████████████████████████████████████████████████████████████████████████████| 98/98 [00:00<00:00, 104.68it/s]\n",
      "Epoch 88  ||  Total Loss : 4103.2635: 100%|█████████████████████████████████████████████████████████████████████████████████████████████████████████████████| 25/25 [00:00<00:00, 46.92it/s]\n"
     ]
    },
    {
     "name": "stdout",
     "output_type": "stream",
     "text": [
      "Saving CKPT\n",
      "\n",
      "\n"
     ]
    },
    {
     "name": "stderr",
     "output_type": "stream",
     "text": [
      "Epoch 89  ||  Total Loss : 3999.2076: 100%|████████████████████████████████████████████████████████████████████████████████████████████████████████████████| 98/98 [00:00<00:00, 106.05it/s]\n",
      "Epoch 89  ||  Total Loss : 3902.6055: 100%|█████████████████████████████████████████████████████████████████████████████████████████████████████████████████| 25/25 [00:00<00:00, 48.62it/s]\n"
     ]
    },
    {
     "name": "stdout",
     "output_type": "stream",
     "text": [
      "Saving CKPT\n",
      "\n",
      "\n"
     ]
    },
    {
     "name": "stderr",
     "output_type": "stream",
     "text": [
      "Epoch 90  ||  Total Loss : 3806.3884: 100%|████████████████████████████████████████████████████████████████████████████████████████████████████████████████| 98/98 [00:00<00:00, 104.60it/s]\n",
      "Epoch 90  ||  Total Loss : 3716.2080: 100%|█████████████████████████████████████████████████████████████████████████████████████████████████████████████████| 25/25 [00:00<00:00, 47.40it/s]\n"
     ]
    },
    {
     "name": "stdout",
     "output_type": "stream",
     "text": [
      "Saving CKPT\n",
      "\n",
      "\n"
     ]
    },
    {
     "name": "stderr",
     "output_type": "stream",
     "text": [
      "Epoch 91  ||  Total Loss : 3622.1850: 100%|████████████████████████████████████████████████████████████████████████████████████████████████████████████████| 98/98 [00:00<00:00, 105.98it/s]\n",
      "Epoch 91  ||  Total Loss : 3528.0086: 100%|█████████████████████████████████████████████████████████████████████████████████████████████████████████████████| 25/25 [00:00<00:00, 46.72it/s]\n"
     ]
    },
    {
     "name": "stdout",
     "output_type": "stream",
     "text": [
      "Saving CKPT\n",
      "\n",
      "\n"
     ]
    },
    {
     "name": "stderr",
     "output_type": "stream",
     "text": [
      "Epoch 92  ||  Total Loss : 3451.7353: 100%|████████████████████████████████████████████████████████████████████████████████████████████████████████████████| 98/98 [00:00<00:00, 106.57it/s]\n",
      "Epoch 92  ||  Total Loss : 3368.7960: 100%|█████████████████████████████████████████████████████████████████████████████████████████████████████████████████| 25/25 [00:00<00:00, 48.01it/s]\n"
     ]
    },
    {
     "name": "stdout",
     "output_type": "stream",
     "text": [
      "Saving CKPT\n",
      "\n",
      "\n"
     ]
    },
    {
     "name": "stderr",
     "output_type": "stream",
     "text": [
      "Epoch 93  ||  Total Loss : 3283.9909: 100%|████████████████████████████████████████████████████████████████████████████████████████████████████████████████| 98/98 [00:00<00:00, 107.14it/s]\n",
      "Epoch 93  ||  Total Loss : 3205.8290: 100%|█████████████████████████████████████████████████████████████████████████████████████████████████████████████████| 25/25 [00:00<00:00, 47.88it/s]\n"
     ]
    },
    {
     "name": "stdout",
     "output_type": "stream",
     "text": [
      "Saving CKPT\n",
      "\n",
      "\n"
     ]
    },
    {
     "name": "stderr",
     "output_type": "stream",
     "text": [
      "Epoch 94  ||  Total Loss : 3128.6915: 100%|████████████████████████████████████████████████████████████████████████████████████████████████████████████████| 98/98 [00:00<00:00, 105.99it/s]\n",
      "Epoch 94  ||  Total Loss : 3050.1204: 100%|█████████████████████████████████████████████████████████████████████████████████████████████████████████████████| 25/25 [00:00<00:00, 46.63it/s]\n"
     ]
    },
    {
     "name": "stdout",
     "output_type": "stream",
     "text": [
      "Saving CKPT\n",
      "\n",
      "\n"
     ]
    },
    {
     "name": "stderr",
     "output_type": "stream",
     "text": [
      "Epoch 95  ||  Total Loss : 2978.5303: 100%|████████████████████████████████████████████████████████████████████████████████████████████████████████████████| 98/98 [00:00<00:00, 106.52it/s]\n",
      "Epoch 95  ||  Total Loss : 2910.7986: 100%|█████████████████████████████████████████████████████████████████████████████████████████████████████████████████| 25/25 [00:00<00:00, 47.42it/s]\n"
     ]
    },
    {
     "name": "stdout",
     "output_type": "stream",
     "text": [
      "Saving CKPT\n",
      "\n",
      "\n"
     ]
    },
    {
     "name": "stderr",
     "output_type": "stream",
     "text": [
      "Epoch 96  ||  Total Loss : 2838.0485: 100%|████████████████████████████████████████████████████████████████████████████████████████████████████████████████| 98/98 [00:00<00:00, 107.01it/s]\n",
      "Epoch 96  ||  Total Loss : 2767.4299: 100%|█████████████████████████████████████████████████████████████████████████████████████████████████████████████████| 25/25 [00:00<00:00, 47.08it/s]\n"
     ]
    },
    {
     "name": "stdout",
     "output_type": "stream",
     "text": [
      "Saving CKPT\n",
      "\n",
      "\n"
     ]
    },
    {
     "name": "stderr",
     "output_type": "stream",
     "text": [
      "Epoch 97  ||  Total Loss : 2703.5768: 100%|████████████████████████████████████████████████████████████████████████████████████████████████████████████████| 98/98 [00:00<00:00, 104.77it/s]\n",
      "Epoch 97  ||  Total Loss : 2638.0835: 100%|█████████████████████████████████████████████████████████████████████████████████████████████████████████████████| 25/25 [00:00<00:00, 47.38it/s]\n"
     ]
    },
    {
     "name": "stdout",
     "output_type": "stream",
     "text": [
      "Saving CKPT\n",
      "\n",
      "\n"
     ]
    },
    {
     "name": "stderr",
     "output_type": "stream",
     "text": [
      "Epoch 98  ||  Total Loss : 2574.1926: 100%|████████████████████████████████████████████████████████████████████████████████████████████████████████████████| 98/98 [00:00<00:00, 108.76it/s]\n",
      "Epoch 98  ||  Total Loss : 2513.7941: 100%|█████████████████████████████████████████████████████████████████████████████████████████████████████████████████| 25/25 [00:00<00:00, 47.38it/s]\n"
     ]
    },
    {
     "name": "stdout",
     "output_type": "stream",
     "text": [
      "Saving CKPT\n",
      "\n",
      "\n"
     ]
    },
    {
     "name": "stderr",
     "output_type": "stream",
     "text": [
      "Epoch 99  ||  Total Loss : 2454.0130: 100%|████████████████████████████████████████████████████████████████████████████████████████████████████████████████| 98/98 [00:00<00:00, 102.73it/s]\n",
      "Epoch 99  ||  Total Loss : 2403.0184: 100%|█████████████████████████████████████████████████████████████████████████████████████████████████████████████████| 25/25 [00:00<00:00, 46.15it/s]"
     ]
    },
    {
     "name": "stdout",
     "output_type": "stream",
     "text": [
      "Saving CKPT\n",
      "\n",
      "\n"
     ]
    },
    {
     "name": "stderr",
     "output_type": "stream",
     "text": [
      "\n"
     ]
    }
   ],
   "source": [
    "model = ImplicitMF(num_users, num_items, d_model)\n",
    "optimiser = optim.Adam(model.parameters(), lr=lr)\n",
    "ckpt_path = \"models/implicitALSDL.pt\"\n",
    "train_losses, test_losses = run(model, optimiser, train_loader, test_loader, reg_lambda=0.1, device=device, ckpt_path=ckpt_path, epochs=100, verbose=True)"
   ]
  },
  {
   "cell_type": "code",
   "execution_count": 15,
   "id": "18f64bec-b5fa-49d5-b2ac-c1b8d1cdbf09",
   "metadata": {},
   "outputs": [
    {
     "data": {
      "image/png": "[encoded data removed]",
      "text/plain": [
       "<Figure size 640x480 with 1 Axes>"
      ]
     },
     "metadata": {},
     "output_type": "display_data"
    }
   ],
   "source": [
    "plt.plot(np.arange(100), train_losses , label = \"Train Loss\")\n",
    "plt.plot(np.arange(100), test_losses , label = \"Test Loss\")\n",
    "plt.xlabel(\"Epoch\")\n",
    "plt.ylabel(\"Avg Loss\")\n",
    "plt.title(\"Training vs Validation Loss Curve\")\n",
    "plt.legend()\n",
    "plt.tight_layout()\n",
    "plt.show()"
   ]
  },
  {
   "cell_type": "code",
   "execution_count": null,
   "id": "8c0abd06-d1e7-4b5d-829b-f94e965c374e",
   "metadata": {},
   "outputs": [],
   "source": []
  },
  {
   "cell_type": "markdown",
   "id": "30683541-c6b6-4da7-b444-f741a184ae13",
   "metadata": {},
   "source": [
    "#### Evaluation Scripts"
   ]
  },
  {
   "cell_type": "code",
   "execution_count": 16,
   "id": "aed1ae75-dd92-4375-94f0-9396e909b323",
   "metadata": {},
   "outputs": [
    {
     "data": {
      "text/plain": [
       "ImplicitMF(\n",
       "  (user_embeddings): Embedding(6040, 128)\n",
       "  (item_embeddings): Embedding(3706, 128)\n",
       ")"
      ]
     },
     "execution_count": 16,
     "metadata": {},
     "output_type": "execute_result"
    }
   ],
   "source": [
    "model = ImplicitMF(num_users, num_items, d_model)\n",
    "ckpt = torch.load(\"models/implicitALSDL.pt\", weights_only=False)\n",
    "model.load_state_dict(ckpt['state_dict'])\n",
    "model.to(device)"
   ]
  },
  {
   "cell_type": "code",
   "execution_count": 17,
   "id": "a4b89c54-7f63-46cc-b28d-33d5280fe3fb",
   "metadata": {
    "scrolled": true
   },
   "outputs": [
    {
     "name": "stderr",
     "output_type": "stream",
     "text": [
      "100%|██████████████████████████████████████████████████████████████████████████████████████████████████████████████████████████████████████████████████| 6040/6040 [00:23<00:00, 253.20it/s]\n"
     ]
    }
   ],
   "source": [
    "train_ndcgs = {}\n",
    "test_ndcgs = {}\n",
    "\n",
    "k_range = [5,10,20]\n",
    "\n",
    "for user_idx in tqdm(range(num_users)):\n",
    "    train_df_user = train_df[train_df['user_idx'] == user_idx]\n",
    "    gt_train_items = train_df_user['movie_idx'].to_list()\n",
    "    gt_train_ratings = train_df_user['rating'].to_list()\n",
    "\n",
    "    test_df_user = test_df[test_df['user_idx'] == user_idx]\n",
    "    gt_test_items = test_df_user['movie_idx'].to_list()\n",
    "    gt_test_ratings = test_df_user['rating'].to_list()\n",
    "    \n",
    "    user_vec = model.user_embeddings(torch.tensor([user_idx]).to(device))\n",
    "    train_item_vecs = model.item_embeddings(torch.tensor(gt_train_items).to(device))\n",
    "    user_train_item_affinities = (user_vec * train_item_vecs).sum(dim=1).detach().cpu().numpy().tolist()\n",
    "    \n",
    "    test_item_vecs = model.item_embeddings(torch.tensor(gt_test_items).to(device))\n",
    "    user_test_item_affinities = (user_vec * test_item_vecs).sum(dim=1).detach().cpu().numpy().tolist()\n",
    "    \n",
    "    for k in k_range:\n",
    "        if k not in train_ndcgs.keys():\n",
    "            train_ndcgs[k] = []\n",
    "        if k not in test_ndcgs.keys():\n",
    "            test_ndcgs[k] = []\n",
    "        train_ndcgs[k].append(ndcg_score([gt_train_ratings], [user_train_item_affinities], k=k))\n",
    "        test_ndcgs[k].append(ndcg_score([gt_test_ratings], [user_test_item_affinities], k=k))\n",
    "        "
   ]
  },
  {
   "cell_type": "code",
   "execution_count": 18,
   "id": "67a1c0f2-1d10-4f4b-a0bd-b2faf51dbf8d",
   "metadata": {},
   "outputs": [
    {
     "data": {
      "image/png": "[encoded data removed]",
      "text/plain": [
       "<Figure size 1200x500 with 1 Axes>"
      ]
     },
     "metadata": {},
     "output_type": "display_data"
    }
   ],
   "source": [
    "train_ndcgs_mean = [np.array(train_ndcgs[k]).mean() for k in k_range]\n",
    "test_ndcgs_mean = [np.array(test_ndcgs[k]).mean() for k in k_range]\n",
    "\n",
    "ndcg_metric_df = pd.concat([pd.DataFrame({'k' : k_range, 'ndcg_mean' : train_ndcgs_mean, 'train/test' : ['train' for k in k_range]}),\n",
    "           pd.DataFrame({'k' : k_range, 'ndcg_mean' : test_ndcgs_mean, 'train/test' : ['test' for k in k_range]})])\n",
    "\n",
    "plt.figure(figsize=(12,5))\n",
    "\n",
    "ax = sns.barplot(data=ndcg_metric_df, x='k', y='ndcg_mean', hue='train/test', width=0.3)\n",
    "\n",
    "# Add value labels over each bar\n",
    "for p, value in zip(ax.patches, ndcg_metric_df['ndcg_mean']):\n",
    "    ax.annotate(f'{value:.3f}', \n",
    "                (p.get_x() + p.get_width() / 2., p.get_height()), \n",
    "                ha='center', va='center', \n",
    "                xytext=(0, 9), \n",
    "                textcoords='offset points')\n",
    "plt.title(\"Average NDCG for users in train/test interaction splits\")\n",
    "plt.tight_layout()\n",
    "plt.show()"
   ]
  },
  {
   "cell_type": "markdown",
   "id": "9e5c4fdf-f389-4168-a1a3-20bd75a6c408",
   "metadata": {},
   "source": [
    "#### Checking for Diversity and Popularity Bias"
   ]
  },
  {
   "cell_type": "code",
   "execution_count": 19,
   "id": "e656b1d7-88c9-480a-a58e-41552875996e",
   "metadata": {},
   "outputs": [
    {
     "name": "stderr",
     "output_type": "stream",
     "text": [
      "100%|█████████████████████████████████████████████████████████████████████████████████████████████████████████████████████████████████████████████████| 6040/6040 [00:03<00:00, 1753.10it/s]\n"
     ]
    }
   ],
   "source": [
    "k = 20 # Checking diversity and popularity bias in top 20 recommendations\n",
    "user_recommended_items = {}\n",
    "user_recommended_items_popularity = []\n",
    "\n",
    "for user_idx in tqdm(range(num_users)):\n",
    "    user_vec = model.user_embeddings(torch.tensor([user_idx]).to(device))\n",
    "    item_vecs = model.item_embeddings(torch.arange(num_items).to(device))\n",
    "    recommended_items = np.argsort((user_vec * item_vecs).sum(1).detach().cpu().numpy())[:20]\n",
    "    user_recommended_items[user_idx] = recommended_items\n",
    "    \n",
    "    user_recommended_items_popularity.extend(avg_movie_rating_count[avg_movie_rating_count['movie_idx'].isin(recommended_items)]['rating'].to_list())"
   ]
  },
  {
   "cell_type": "code",
   "execution_count": 20,
   "id": "082dcafa-16da-4cde-9bd8-4fb76da396ce",
   "metadata": {},
   "outputs": [
    {
     "data": {
      "image/png": "[encoded data removed]",
      "text/plain": [
       "<Figure size 640x480 with 1 Axes>"
      ]
     },
     "metadata": {},
     "output_type": "display_data"
    }
   ],
   "source": [
    "sns.histplot(user_recommended_items_popularity, kde=True)\n",
    "plt.xlabel(\"Rating\")\n",
    "plt.title(\"Average Rating of Top K movies Recommended Accross all users\")\n",
    "plt.show()"
   ]
  },
  {
   "cell_type": "code",
   "execution_count": 21,
   "id": "f8606acf-71d8-4f38-969f-6ca9bee9514d",
   "metadata": {},
   "outputs": [],
   "source": [
    "unique_items_recommended = []\n",
    "for l in list(user_recommended_items.values()):\n",
    "    unique_items_recommended.extend(l)\n",
    "unique_items_recommended = set(unique_items_recommended)"
   ]
  },
  {
   "cell_type": "code",
   "execution_count": 23,
   "id": "6be4bbd2-1c1a-405e-bbcd-a24685085ae0",
   "metadata": {},
   "outputs": [
    {
     "name": "stdout",
     "output_type": "stream",
     "text": [
      "Diversity Of Movies Recommended across all users - 0.313815434430653\n"
     ]
    }
   ],
   "source": [
    "print(f\"Diversity Of Movies Recommended across all users - {len(unique_items_recommended) / num_items}\")"
   ]
  },
  {
   "cell_type": "code",
   "execution_count": null,
   "id": "f8a7c04d-befe-4930-9119-a3c262e28b1f",
   "metadata": {},
   "outputs": [],
   "source": []
  },
  {
   "cell_type": "markdown",
   "id": "502e8993-1021-4d07-b22c-e276ad6bd4a1",
   "metadata": {},
   "source": [
    "### Approach 2: Implicit ALS with user and item bias"
   ]
  },
  {
   "cell_type": "markdown",
   "id": "f5a9bf0f-4538-4651-bbc3-ccbe2ce4eb81",
   "metadata": {},
   "source": [
    "#### Model"
   ]
  },
  {
   "cell_type": "code",
   "execution_count": 24,
   "id": "416a1589-5182-4544-b3f9-779e102981d2",
   "metadata": {},
   "outputs": [],
   "source": [
    "class ImplicitMF_Bias(nn.Module):\n",
    "    def __init__(self, num_users, num_items, d_model):\n",
    "        super().__init__()\n",
    "        self.num_users = num_users\n",
    "        self.num_items = num_items\n",
    "        self.d_model = d_model\n",
    "        self.user_embeddings = nn.Embedding(self.num_users, d_model)\n",
    "        self.item_embeddings = nn.Embedding(self.num_items, d_model)\n",
    "        self.user_bias = nn.Embedding(self.num_users, 1)\n",
    "        self.item_bias = nn.Embedding(self.num_items, 1)\n",
    "\n",
    "    def forward(self, user, item):\n",
    "        u = self.user_embeddings(user)\n",
    "        v = self.item_embeddings(item)\n",
    "        b_u = self.user_bias(user).squeeze()\n",
    "        b_i = self.item_bias(item).squeeze()\n",
    "        \n",
    "        return (u * v).sum(dim=1) + b_u + b_i"
   ]
  },
  {
   "cell_type": "markdown",
   "id": "be936664-a6df-4d18-8ad4-1c04cfde4914",
   "metadata": {},
   "source": [
    "### Train Loop"
   ]
  },
  {
   "cell_type": "code",
   "execution_count": 25,
   "id": "e36a05d7-b66b-4a68-bf34-6b3b9c234e87",
   "metadata": {},
   "outputs": [],
   "source": [
    "def loop(model, optimiser, dataloader, reg_lambda, device, epoch, verbose=True, train=True):\n",
    "    model = model.to(device)    \n",
    "    total_loss = []\n",
    "    iterator = tqdm(dataloader) if verbose else dataloader\n",
    "    for batch in iterator:\n",
    "        iterator.set_description(f\"Epoch {epoch}  ||  Total Loss : {np.array(total_loss).mean():.4f}\")\n",
    "        user = batch['user'].to(device)\n",
    "        item = batch['item'].to(device)\n",
    "        confidence = batch['confidence'].to(device)\n",
    "        preference = batch['preference'].to(device)\n",
    "\n",
    "        if train:\n",
    "            pred = model(user, item)\n",
    "            loss = (confidence * ((preference - pred) ** 2)).mean()\n",
    "            # reg = reg_lambda * (model.user_embeddings(user).norm(2).pow(2) + model.item_embeddings(item).norm(2).pow(2))\n",
    "            reg = reg_lambda * (model.user_embeddings(user).norm(2).pow(2) + model.user_bias(user).pow(2).sum() + model.item_embeddings(item).norm(2).pow(2) + model.item_bias(item).pow(2).sum())\n",
    "            # print(loss.shape, reg.shape)\n",
    "            loss += reg\n",
    "            optimiser.zero_grad()\n",
    "            loss.backward()\n",
    "            optimiser.step()\n",
    "            total_loss.append(loss.item())\n",
    "        else:\n",
    "            with torch.no_grad():\n",
    "                pred = model(user, item)\n",
    "                loss = (confidence * ((preference - pred) ** 2)).mean()\n",
    "                # print(loss.shape)\n",
    "                reg = reg_lambda * (model.user_embeddings(user).norm(2).pow(2) + model.user_bias(user).pow(2).sum() + model.item_embeddings(item).norm(2).pow(2) + model.item_bias(item).pow(2).sum())\n",
    "                # print(reg.shape)\n",
    "                loss += reg\n",
    "                total_loss.append(loss.item())\n",
    "    return np.array(total_loss).mean()\n",
    "\n",
    "\n",
    "def run(model, optimiser, train_dataloader, test_dataloader, reg_lambda, device, ckpt_path, epochs=20, verbose=True, patience=5):\n",
    "    best_test_loss = 1e6\n",
    "    train_losses = []\n",
    "    test_losses = []\n",
    "\n",
    "    counter = patience\n",
    "    for epoch in range(epochs):\n",
    "        if counter == 0:\n",
    "            print(\"ENDING TRAINING LOOP DUE TO PATIENCE!!\")\n",
    "            break\n",
    "        train_loss = loop(model, optimiser, train_dataloader, reg_lambda, device, epoch, verbose=True, train=True)\n",
    "        test_loss = loop(model, optimiser, test_dataloader, reg_lambda, device, epoch, verbose=True, train=False)\n",
    "        train_losses.append(train_loss)\n",
    "        test_losses.append(test_loss)\n",
    "        \n",
    "        if test_loss < best_test_loss:\n",
    "            counter = patience\n",
    "            torch.save({\n",
    "                        'epoch' : epoch,\n",
    "                        'val_loss' : test_loss,\n",
    "                        'state_dict' : model.state_dict()\n",
    "                    }, ckpt_path)\n",
    "            best_test_loss = test_loss\n",
    "            print(\"Saving CKPT\")\n",
    "        else:\n",
    "            counter -= 1\n",
    "        print(\"\\n\")\n",
    "    return train_losses, test_losses"
   ]
  },
  {
   "cell_type": "code",
   "execution_count": 26,
   "id": "4fab8508-adee-487c-b916-0a59688f5058",
   "metadata": {
    "scrolled": true
   },
   "outputs": [
    {
     "name": "stderr",
     "output_type": "stream",
     "text": [
      "  0%|                                                                                                                                                                | 0/98 [00:00<?, ?it/s]/tmp/ipykernel_2793586/1641483355.py:6: RuntimeWarning: Mean of empty slice.\n",
      "  iterator.set_description(f\"Epoch {epoch}  ||  Total Loss : {np.array(total_loss).mean():.4f}\")\n",
      "/opt2/shreyas/miniconda3/envs/cf/lib/python3.11/site-packages/numpy/_core/_methods.py:144: RuntimeWarning: invalid value encountered in scalar divide\n",
      "  ret = ret.dtype.type(ret / rcount)\n",
      "Epoch 0  ||  Total Loss : 227005.8950: 100%|████████████████████████████████████████████████████████████████████████████████████████████████████████████████| 98/98 [00:01<00:00, 93.53it/s]\n",
      "Epoch 0  ||  Total Loss : 223306.1529: 100%|████████████████████████████████████████████████████████████████████████████████████████████████████████████████| 25/25 [00:00<00:00, 45.36it/s]\n"
     ]
    },
    {
     "name": "stdout",
     "output_type": "stream",
     "text": [
      "Saving CKPT\n",
      "\n",
      "\n"
     ]
    },
    {
     "name": "stderr",
     "output_type": "stream",
     "text": [
      "Epoch 1  ||  Total Loss : 219619.6282: 100%|████████████████████████████████████████████████████████████████████████████████████████████████████████████████| 98/98 [00:01<00:00, 97.90it/s]\n",
      "Epoch 1  ||  Total Loss : 216114.6179: 100%|████████████████████████████████████████████████████████████████████████████████████████████████████████████████| 25/25 [00:00<00:00, 42.02it/s]\n"
     ]
    },
    {
     "name": "stdout",
     "output_type": "stream",
     "text": [
      "Saving CKPT\n",
      "\n",
      "\n"
     ]
    },
    {
     "name": "stderr",
     "output_type": "stream",
     "text": [
      "Epoch 2  ||  Total Loss : 212479.5640: 100%|████████████████████████████████████████████████████████████████████████████████████████████████████████████████| 98/98 [00:01<00:00, 96.77it/s]\n",
      "Epoch 2  ||  Total Loss : 209143.9175: 100%|████████████████████████████████████████████████████████████████████████████████████████████████████████████████| 25/25 [00:00<00:00, 43.89it/s]\n"
     ]
    },
    {
     "name": "stdout",
     "output_type": "stream",
     "text": [
      "Saving CKPT\n",
      "\n",
      "\n"
     ]
    },
    {
     "name": "stderr",
     "output_type": "stream",
     "text": [
      "Epoch 3  ||  Total Loss : 205561.2786: 100%|████████████████████████████████████████████████████████████████████████████████████████████████████████████████| 98/98 [00:01<00:00, 97.69it/s]\n",
      "Epoch 3  ||  Total Loss : 202363.1810: 100%|████████████████████████████████████████████████████████████████████████████████████████████████████████████████| 25/25 [00:00<00:00, 42.36it/s]\n"
     ]
    },
    {
     "name": "stdout",
     "output_type": "stream",
     "text": [
      "Saving CKPT\n",
      "\n",
      "\n"
     ]
    },
    {
     "name": "stderr",
     "output_type": "stream",
     "text": [
      "Epoch 4  ||  Total Loss : 198850.1447: 100%|████████████████████████████████████████████████████████████████████████████████████████████████████████████████| 98/98 [00:01<00:00, 90.55it/s]\n",
      "Epoch 4  ||  Total Loss : 195783.6374: 100%|████████████████████████████████████████████████████████████████████████████████████████████████████████████████| 25/25 [00:00<00:00, 44.25it/s]\n"
     ]
    },
    {
     "name": "stdout",
     "output_type": "stream",
     "text": [
      "Saving CKPT\n",
      "\n",
      "\n"
     ]
    },
    {
     "name": "stderr",
     "output_type": "stream",
     "text": [
      "Epoch 5  ||  Total Loss : 192330.1674: 100%|████████████████████████████████████████████████████████████████████████████████████████████████████████████████| 98/98 [00:01<00:00, 96.42it/s]\n",
      "Epoch 5  ||  Total Loss : 189412.7146: 100%|████████████████████████████████████████████████████████████████████████████████████████████████████████████████| 25/25 [00:00<00:00, 44.28it/s]\n"
     ]
    },
    {
     "name": "stdout",
     "output_type": "stream",
     "text": [
      "Saving CKPT\n",
      "\n",
      "\n"
     ]
    },
    {
     "name": "stderr",
     "output_type": "stream",
     "text": [
      "Epoch 6  ||  Total Loss : 186014.1129: 100%|████████████████████████████████████████████████████████████████████████████████████████████████████████████████| 98/98 [00:01<00:00, 90.79it/s]\n",
      "Epoch 6  ||  Total Loss : 183213.3964: 100%|████████████████████████████████████████████████████████████████████████████████████████████████████████████████| 25/25 [00:00<00:00, 42.83it/s]\n"
     ]
    },
    {
     "name": "stdout",
     "output_type": "stream",
     "text": [
      "Saving CKPT\n",
      "\n",
      "\n"
     ]
    },
    {
     "name": "stderr",
     "output_type": "stream",
     "text": [
      "Epoch 7  ||  Total Loss : 179886.8957: 100%|████████████████████████████████████████████████████████████████████████████████████████████████████████████████| 98/98 [00:01<00:00, 94.95it/s]\n",
      "Epoch 7  ||  Total Loss : 177193.2909: 100%|████████████████████████████████████████████████████████████████████████████████████████████████████████████████| 25/25 [00:00<00:00, 43.03it/s]\n"
     ]
    },
    {
     "name": "stdout",
     "output_type": "stream",
     "text": [
      "Saving CKPT\n",
      "\n",
      "\n"
     ]
    },
    {
     "name": "stderr",
     "output_type": "stream",
     "text": [
      "Epoch 8  ||  Total Loss : 173930.4545: 100%|████████████████████████████████████████████████████████████████████████████████████████████████████████████████| 98/98 [00:01<00:00, 93.28it/s]\n",
      "Epoch 8  ||  Total Loss : 171330.5710: 100%|████████████████████████████████████████████████████████████████████████████████████████████████████████████████| 25/25 [00:00<00:00, 43.70it/s]\n"
     ]
    },
    {
     "name": "stdout",
     "output_type": "stream",
     "text": [
      "Saving CKPT\n",
      "\n",
      "\n"
     ]
    },
    {
     "name": "stderr",
     "output_type": "stream",
     "text": [
      "Epoch 9  ||  Total Loss : 168158.1571: 100%|████████████████████████████████████████████████████████████████████████████████████████████████████████████████| 98/98 [00:01<00:00, 94.71it/s]\n",
      "Epoch 9  ||  Total Loss : 165657.7155: 100%|████████████████████████████████████████████████████████████████████████████████████████████████████████████████| 25/25 [00:00<00:00, 44.89it/s]\n"
     ]
    },
    {
     "name": "stdout",
     "output_type": "stream",
     "text": [
      "Saving CKPT\n",
      "\n",
      "\n"
     ]
    },
    {
     "name": "stderr",
     "output_type": "stream",
     "text": [
      "Epoch 10  ||  Total Loss : 162552.0740: 100%|███████████████████████████████████████████████████████████████████████████████████████████████████████████████| 98/98 [00:01<00:00, 97.66it/s]\n",
      "Epoch 10  ||  Total Loss : 160147.2944: 100%|███████████████████████████████████████████████████████████████████████████████████████████████████████████████| 25/25 [00:00<00:00, 42.62it/s]\n"
     ]
    },
    {
     "name": "stdout",
     "output_type": "stream",
     "text": [
      "Saving CKPT\n",
      "\n",
      "\n"
     ]
    },
    {
     "name": "stderr",
     "output_type": "stream",
     "text": [
      "Epoch 11  ||  Total Loss : 157110.8332: 100%|███████████████████████████████████████████████████████████████████████████████████████████████████████████████| 98/98 [00:01<00:00, 94.80it/s]\n",
      "Epoch 11  ||  Total Loss : 154775.5524: 100%|███████████████████████████████████████████████████████████████████████████████████████████████████████████████| 25/25 [00:00<00:00, 44.25it/s]\n"
     ]
    },
    {
     "name": "stdout",
     "output_type": "stream",
     "text": [
      "Saving CKPT\n",
      "\n",
      "\n"
     ]
    },
    {
     "name": "stderr",
     "output_type": "stream",
     "text": [
      "Epoch 12  ||  Total Loss : 151828.1570: 100%|███████████████████████████████████████████████████████████████████████████████████████████████████████████████| 98/98 [00:01<00:00, 96.38it/s]\n",
      "Epoch 12  ||  Total Loss : 149570.8171: 100%|███████████████████████████████████████████████████████████████████████████████████████████████████████████████| 25/25 [00:00<00:00, 43.68it/s]\n"
     ]
    },
    {
     "name": "stdout",
     "output_type": "stream",
     "text": [
      "Saving CKPT\n",
      "\n",
      "\n"
     ]
    },
    {
     "name": "stderr",
     "output_type": "stream",
     "text": [
      "Epoch 13  ||  Total Loss : 146698.0525: 100%|███████████████████████████████████████████████████████████████████████████████████████████████████████████████| 98/98 [00:01<00:00, 96.30it/s]\n",
      "Epoch 13  ||  Total Loss : 144514.5127: 100%|███████████████████████████████████████████████████████████████████████████████████████████████████████████████| 25/25 [00:00<00:00, 43.74it/s]\n"
     ]
    },
    {
     "name": "stdout",
     "output_type": "stream",
     "text": [
      "Saving CKPT\n",
      "\n",
      "\n"
     ]
    },
    {
     "name": "stderr",
     "output_type": "stream",
     "text": [
      "Epoch 14  ||  Total Loss : 141721.0462: 100%|███████████████████████████████████████████████████████████████████████████████████████████████████████████████| 98/98 [00:01<00:00, 97.04it/s]\n",
      "Epoch 14  ||  Total Loss : 139599.5470: 100%|███████████████████████████████████████████████████████████████████████████████████████████████████████████████| 25/25 [00:00<00:00, 43.00it/s]\n"
     ]
    },
    {
     "name": "stdout",
     "output_type": "stream",
     "text": [
      "Saving CKPT\n",
      "\n",
      "\n"
     ]
    },
    {
     "name": "stderr",
     "output_type": "stream",
     "text": [
      "Epoch 15  ||  Total Loss : 136880.5663: 100%|███████████████████████████████████████████████████████████████████████████████████████████████████████████████| 98/98 [00:01<00:00, 91.62it/s]\n",
      "Epoch 15  ||  Total Loss : 134816.7058: 100%|███████████████████████████████████████████████████████████████████████████████████████████████████████████████| 25/25 [00:00<00:00, 41.66it/s]\n"
     ]
    },
    {
     "name": "stdout",
     "output_type": "stream",
     "text": [
      "Saving CKPT\n",
      "\n",
      "\n"
     ]
    },
    {
     "name": "stderr",
     "output_type": "stream",
     "text": [
      "Epoch 16  ||  Total Loss : 132183.6999: 100%|███████████████████████████████████████████████████████████████████████████████████████████████████████████████| 98/98 [00:01<00:00, 52.28it/s]\n",
      "Epoch 16  ||  Total Loss : 130187.5683: 100%|███████████████████████████████████████████████████████████████████████████████████████████████████████████████| 25/25 [00:00<00:00, 27.37it/s]\n"
     ]
    },
    {
     "name": "stdout",
     "output_type": "stream",
     "text": [
      "Saving CKPT\n",
      "\n",
      "\n"
     ]
    },
    {
     "name": "stderr",
     "output_type": "stream",
     "text": [
      "Epoch 17  ||  Total Loss : 127619.7875: 100%|███████████████████████████████████████████████████████████████████████████████████████████████████████████████| 98/98 [00:01<00:00, 57.28it/s]\n",
      "Epoch 17  ||  Total Loss : 125675.6023: 100%|███████████████████████████████████████████████████████████████████████████████████████████████████████████████| 25/25 [00:01<00:00, 13.71it/s]\n"
     ]
    },
    {
     "name": "stdout",
     "output_type": "stream",
     "text": [
      "Saving CKPT\n",
      "\n",
      "\n"
     ]
    },
    {
     "name": "stderr",
     "output_type": "stream",
     "text": [
      "Epoch 18  ||  Total Loss : 123193.9817: 100%|███████████████████████████████████████████████████████████████████████████████████████████████████████████████| 98/98 [00:01<00:00, 92.51it/s]\n",
      "Epoch 18  ||  Total Loss : 121295.3588: 100%|███████████████████████████████████████████████████████████████████████████████████████████████████████████████| 25/25 [00:00<00:00, 42.68it/s]\n"
     ]
    },
    {
     "name": "stdout",
     "output_type": "stream",
     "text": [
      "Saving CKPT\n",
      "\n",
      "\n"
     ]
    },
    {
     "name": "stderr",
     "output_type": "stream",
     "text": [
      "Epoch 19  ||  Total Loss : 118890.1289: 100%|███████████████████████████████████████████████████████████████████████████████████████████████████████████████| 98/98 [00:01<00:00, 94.52it/s]\n",
      "Epoch 19  ||  Total Loss : 117039.8267: 100%|███████████████████████████████████████████████████████████████████████████████████████████████████████████████| 25/25 [00:00<00:00, 43.30it/s]\n"
     ]
    },
    {
     "name": "stdout",
     "output_type": "stream",
     "text": [
      "Saving CKPT\n",
      "\n",
      "\n"
     ]
    },
    {
     "name": "stderr",
     "output_type": "stream",
     "text": [
      "Epoch 20  ||  Total Loss : 114715.6995: 100%|███████████████████████████████████████████████████████████████████████████████████████████████████████████████| 98/98 [00:01<00:00, 94.80it/s]\n",
      "Epoch 20  ||  Total Loss : 112912.4322: 100%|███████████████████████████████████████████████████████████████████████████████████████████████████████████████| 25/25 [00:00<00:00, 42.12it/s]\n"
     ]
    },
    {
     "name": "stdout",
     "output_type": "stream",
     "text": [
      "Saving CKPT\n",
      "\n",
      "\n"
     ]
    },
    {
     "name": "stderr",
     "output_type": "stream",
     "text": [
      "Epoch 21  ||  Total Loss : 110658.8231: 100%|███████████████████████████████████████████████████████████████████████████████████████████████████████████████| 98/98 [00:01<00:00, 95.01it/s]\n",
      "Epoch 21  ||  Total Loss : 108901.9676: 100%|███████████████████████████████████████████████████████████████████████████████████████████████████████████████| 25/25 [00:00<00:00, 42.15it/s]\n"
     ]
    },
    {
     "name": "stdout",
     "output_type": "stream",
     "text": [
      "Saving CKPT\n",
      "\n",
      "\n"
     ]
    },
    {
     "name": "stderr",
     "output_type": "stream",
     "text": [
      "Epoch 22  ||  Total Loss : 106725.3869: 100%|███████████████████████████████████████████████████████████████████████████████████████████████████████████████| 98/98 [00:01<00:00, 95.95it/s]\n",
      "Epoch 22  ||  Total Loss : 105014.7810: 100%|███████████████████████████████████████████████████████████████████████████████████████████████████████████████| 25/25 [00:00<00:00, 43.17it/s]\n"
     ]
    },
    {
     "name": "stdout",
     "output_type": "stream",
     "text": [
      "Saving CKPT\n",
      "\n",
      "\n"
     ]
    },
    {
     "name": "stderr",
     "output_type": "stream",
     "text": [
      "Epoch 23  ||  Total Loss : 102910.0913: 100%|███████████████████████████████████████████████████████████████████████████████████████████████████████████████| 98/98 [00:01<00:00, 91.90it/s]\n",
      "Epoch 23  ||  Total Loss : 101235.3861: 100%|███████████████████████████████████████████████████████████████████████████████████████████████████████████████| 25/25 [00:00<00:00, 42.49it/s]\n"
     ]
    },
    {
     "name": "stdout",
     "output_type": "stream",
     "text": [
      "Saving CKPT\n",
      "\n",
      "\n"
     ]
    },
    {
     "name": "stderr",
     "output_type": "stream",
     "text": [
      "Epoch 24  ||  Total Loss : 99196.2620: 100%|████████████████████████████████████████████████████████████████████████████████████████████████████████████████| 98/98 [00:01<00:00, 94.00it/s]\n",
      "Epoch 24  ||  Total Loss : 97573.2953: 100%|████████████████████████████████████████████████████████████████████████████████████████████████████████████████| 25/25 [00:00<00:00, 43.16it/s]\n"
     ]
    },
    {
     "name": "stdout",
     "output_type": "stream",
     "text": [
      "Saving CKPT\n",
      "\n",
      "\n"
     ]
    },
    {
     "name": "stderr",
     "output_type": "stream",
     "text": [
      "Epoch 25  ||  Total Loss : 95606.5124: 100%|████████████████████████████████████████████████████████████████████████████████████████████████████████████████| 98/98 [00:01<00:00, 91.95it/s]\n",
      "Epoch 25  ||  Total Loss : 94015.4941: 100%|████████████████████████████████████████████████████████████████████████████████████████████████████████████████| 25/25 [00:00<00:00, 43.98it/s]\n"
     ]
    },
    {
     "name": "stdout",
     "output_type": "stream",
     "text": [
      "Saving CKPT\n",
      "\n",
      "\n"
     ]
    },
    {
     "name": "stderr",
     "output_type": "stream",
     "text": [
      "Epoch 26  ||  Total Loss : 92119.8775: 100%|████████████████████████████████████████████████████████████████████████████████████████████████████████████████| 98/98 [00:01<00:00, 94.16it/s]\n",
      "Epoch 26  ||  Total Loss : 90566.4182: 100%|████████████████████████████████████████████████████████████████████████████████████████████████████████████████| 25/25 [00:00<00:00, 43.38it/s]\n"
     ]
    },
    {
     "name": "stdout",
     "output_type": "stream",
     "text": [
      "Saving CKPT\n",
      "\n",
      "\n"
     ]
    },
    {
     "name": "stderr",
     "output_type": "stream",
     "text": [
      "Epoch 27  ||  Total Loss : 88732.7790: 100%|████████████████████████████████████████████████████████████████████████████████████████████████████████████████| 98/98 [00:01<00:00, 95.72it/s]\n",
      "Epoch 27  ||  Total Loss : 87215.2074: 100%|████████████████████████████████████████████████████████████████████████████████████████████████████████████████| 25/25 [00:00<00:00, 43.84it/s]\n"
     ]
    },
    {
     "name": "stdout",
     "output_type": "stream",
     "text": [
      "Saving CKPT\n",
      "\n",
      "\n"
     ]
    },
    {
     "name": "stderr",
     "output_type": "stream",
     "text": [
      "Epoch 28  ||  Total Loss : 85453.0674: 100%|████████████████████████████████████████████████████████████████████████████████████████████████████████████████| 98/98 [00:01<00:00, 95.12it/s]\n",
      "Epoch 28  ||  Total Loss : 83972.5223: 100%|████████████████████████████████████████████████████████████████████████████████████████████████████████████████| 25/25 [00:00<00:00, 43.23it/s]\n"
     ]
    },
    {
     "name": "stdout",
     "output_type": "stream",
     "text": [
      "Saving CKPT\n",
      "\n",
      "\n"
     ]
    },
    {
     "name": "stderr",
     "output_type": "stream",
     "text": [
      "Epoch 29  ||  Total Loss : 82270.9909: 100%|████████████████████████████████████████████████████████████████████████████████████████████████████████████████| 98/98 [00:01<00:00, 94.87it/s]\n",
      "Epoch 29  ||  Total Loss : 80822.9116: 100%|████████████████████████████████████████████████████████████████████████████████████████████████████████████████| 25/25 [00:00<00:00, 41.54it/s]\n"
     ]
    },
    {
     "name": "stdout",
     "output_type": "stream",
     "text": [
      "Saving CKPT\n",
      "\n",
      "\n"
     ]
    },
    {
     "name": "stderr",
     "output_type": "stream",
     "text": [
      "Epoch 30  ||  Total Loss : 79187.6327: 100%|████████████████████████████████████████████████████████████████████████████████████████████████████████████████| 98/98 [00:01<00:00, 93.92it/s]\n",
      "Epoch 30  ||  Total Loss : 77770.5046: 100%|████████████████████████████████████████████████████████████████████████████████████████████████████████████████| 25/25 [00:00<00:00, 42.37it/s]\n"
     ]
    },
    {
     "name": "stdout",
     "output_type": "stream",
     "text": [
      "Saving CKPT\n",
      "\n",
      "\n"
     ]
    },
    {
     "name": "stderr",
     "output_type": "stream",
     "text": [
      "Epoch 31  ||  Total Loss : 76201.4536: 100%|████████████████████████████████████████████████████████████████████████████████████████████████████████████████| 98/98 [00:01<00:00, 95.02it/s]\n",
      "Epoch 31  ||  Total Loss : 74825.0592: 100%|████████████████████████████████████████████████████████████████████████████████████████████████████████████████| 25/25 [00:00<00:00, 43.75it/s]\n"
     ]
    },
    {
     "name": "stdout",
     "output_type": "stream",
     "text": [
      "Saving CKPT\n",
      "\n",
      "\n"
     ]
    },
    {
     "name": "stderr",
     "output_type": "stream",
     "text": [
      "Epoch 32  ||  Total Loss : 73309.3216: 100%|████████████████████████████████████████████████████████████████████████████████████████████████████████████████| 98/98 [00:01<00:00, 96.18it/s]\n",
      "Epoch 32  ||  Total Loss : 71955.2308: 100%|████████████████████████████████████████████████████████████████████████████████████████████████████████████████| 25/25 [00:00<00:00, 43.20it/s]\n"
     ]
    },
    {
     "name": "stdout",
     "output_type": "stream",
     "text": [
      "Saving CKPT\n",
      "\n",
      "\n"
     ]
    },
    {
     "name": "stderr",
     "output_type": "stream",
     "text": [
      "Epoch 33  ||  Total Loss : 70501.7202: 100%|████████████████████████████████████████████████████████████████████████████████████████████████████████████████| 98/98 [00:01<00:00, 96.11it/s]\n",
      "Epoch 33  ||  Total Loss : 69194.0038: 100%|████████████████████████████████████████████████████████████████████████████████████████████████████████████████| 25/25 [00:00<00:00, 44.26it/s]\n"
     ]
    },
    {
     "name": "stdout",
     "output_type": "stream",
     "text": [
      "Saving CKPT\n",
      "\n",
      "\n"
     ]
    },
    {
     "name": "stderr",
     "output_type": "stream",
     "text": [
      "Epoch 34  ||  Total Loss : 67791.8408: 100%|████████████████████████████████████████████████████████████████████████████████████████████████████████████████| 98/98 [00:01<00:00, 95.54it/s]\n",
      "Epoch 34  ||  Total Loss : 66511.4734: 100%|████████████████████████████████████████████████████████████████████████████████████████████████████████████████| 25/25 [00:00<00:00, 42.80it/s]\n"
     ]
    },
    {
     "name": "stdout",
     "output_type": "stream",
     "text": [
      "Saving CKPT\n",
      "\n",
      "\n"
     ]
    },
    {
     "name": "stderr",
     "output_type": "stream",
     "text": [
      "Epoch 35  ||  Total Loss : 65165.8773: 100%|████████████████████████████████████████████████████████████████████████████████████████████████████████████████| 98/98 [00:01<00:00, 95.81it/s]\n",
      "Epoch 35  ||  Total Loss : 63917.0018: 100%|████████████████████████████████████████████████████████████████████████████████████████████████████████████████| 25/25 [00:00<00:00, 43.81it/s]\n"
     ]
    },
    {
     "name": "stdout",
     "output_type": "stream",
     "text": [
      "Saving CKPT\n",
      "\n",
      "\n"
     ]
    },
    {
     "name": "stderr",
     "output_type": "stream",
     "text": [
      "Epoch 36  ||  Total Loss : 62622.9566: 100%|████████████████████████████████████████████████████████████████████████████████████████████████████████████████| 98/98 [00:01<00:00, 94.45it/s]\n",
      "Epoch 36  ||  Total Loss : 61405.2642: 100%|████████████████████████████████████████████████████████████████████████████████████████████████████████████████| 25/25 [00:00<00:00, 43.01it/s]\n"
     ]
    },
    {
     "name": "stdout",
     "output_type": "stream",
     "text": [
      "Saving CKPT\n",
      "\n",
      "\n"
     ]
    },
    {
     "name": "stderr",
     "output_type": "stream",
     "text": [
      "Epoch 37  ||  Total Loss : 60167.1844: 100%|████████████████████████████████████████████████████████████████████████████████████████████████████████████████| 98/98 [00:01<00:00, 93.61it/s]\n",
      "Epoch 37  ||  Total Loss : 58974.9893: 100%|████████████████████████████████████████████████████████████████████████████████████████████████████████████████| 25/25 [00:00<00:00, 43.10it/s]\n"
     ]
    },
    {
     "name": "stdout",
     "output_type": "stream",
     "text": [
      "Saving CKPT\n",
      "\n",
      "\n"
     ]
    },
    {
     "name": "stderr",
     "output_type": "stream",
     "text": [
      "Epoch 38  ||  Total Loss : 57786.5278: 100%|████████████████████████████████████████████████████████████████████████████████████████████████████████████████| 98/98 [00:01<00:00, 95.56it/s]\n",
      "Epoch 38  ||  Total Loss : 56633.6387: 100%|████████████████████████████████████████████████████████████████████████████████████████████████████████████████| 25/25 [00:00<00:00, 44.40it/s]\n"
     ]
    },
    {
     "name": "stdout",
     "output_type": "stream",
     "text": [
      "Saving CKPT\n",
      "\n",
      "\n"
     ]
    },
    {
     "name": "stderr",
     "output_type": "stream",
     "text": [
      "Epoch 39  ||  Total Loss : 55489.9965: 100%|████████████████████████████████████████████████████████████████████████████████████████████████████████████████| 98/98 [00:01<00:00, 96.79it/s]\n",
      "Epoch 39  ||  Total Loss : 54362.9242: 100%|████████████████████████████████████████████████████████████████████████████████████████████████████████████████| 25/25 [00:00<00:00, 42.56it/s]\n"
     ]
    },
    {
     "name": "stdout",
     "output_type": "stream",
     "text": [
      "Saving CKPT\n",
      "\n",
      "\n"
     ]
    },
    {
     "name": "stderr",
     "output_type": "stream",
     "text": [
      "Epoch 40  ||  Total Loss : 53269.2354: 100%|████████████████████████████████████████████████████████████████████████████████████████████████████████████████| 98/98 [00:01<00:00, 93.45it/s]\n",
      "Epoch 40  ||  Total Loss : 52178.4322: 100%|████████████████████████████████████████████████████████████████████████████████████████████████████████████████| 25/25 [00:00<00:00, 42.93it/s]\n"
     ]
    },
    {
     "name": "stdout",
     "output_type": "stream",
     "text": [
      "Saving CKPT\n",
      "\n",
      "\n"
     ]
    },
    {
     "name": "stderr",
     "output_type": "stream",
     "text": [
      "Epoch 41  ||  Total Loss : 51125.8835: 100%|████████████████████████████████████████████████████████████████████████████████████████████████████████████████| 98/98 [00:01<00:00, 96.57it/s]\n",
      "Epoch 41  ||  Total Loss : 50059.5288: 100%|████████████████████████████████████████████████████████████████████████████████████████████████████████████████| 25/25 [00:00<00:00, 42.86it/s]\n"
     ]
    },
    {
     "name": "stdout",
     "output_type": "stream",
     "text": [
      "Saving CKPT\n",
      "\n",
      "\n"
     ]
    },
    {
     "name": "stderr",
     "output_type": "stream",
     "text": [
      "Epoch 42  ||  Total Loss : 49055.5057: 100%|████████████████████████████████████████████████████████████████████████████████████████████████████████████████| 98/98 [00:01<00:00, 94.28it/s]\n",
      "Epoch 42  ||  Total Loss : 48019.9756: 100%|████████████████████████████████████████████████████████████████████████████████████████████████████████████████| 25/25 [00:00<00:00, 42.80it/s]\n"
     ]
    },
    {
     "name": "stdout",
     "output_type": "stream",
     "text": [
      "Saving CKPT\n",
      "\n",
      "\n"
     ]
    },
    {
     "name": "stderr",
     "output_type": "stream",
     "text": [
      "Epoch 43  ||  Total Loss : 47055.4510: 100%|████████████████████████████████████████████████████████████████████████████████████████████████████████████████| 98/98 [00:01<00:00, 94.26it/s]\n",
      "Epoch 43  ||  Total Loss : 46044.4462: 100%|████████████████████████████████████████████████████████████████████████████████████████████████████████████████| 25/25 [00:00<00:00, 41.17it/s]\n"
     ]
    },
    {
     "name": "stdout",
     "output_type": "stream",
     "text": [
      "Saving CKPT\n",
      "\n",
      "\n"
     ]
    },
    {
     "name": "stderr",
     "output_type": "stream",
     "text": [
      "Epoch 44  ||  Total Loss : 45121.6328: 100%|████████████████████████████████████████████████████████████████████████████████████████████████████████████████| 98/98 [00:01<00:00, 90.46it/s]\n",
      "Epoch 44  ||  Total Loss : 44149.8272: 100%|████████████████████████████████████████████████████████████████████████████████████████████████████████████████| 25/25 [00:00<00:00, 43.48it/s]\n"
     ]
    },
    {
     "name": "stdout",
     "output_type": "stream",
     "text": [
      "Saving CKPT\n",
      "\n",
      "\n"
     ]
    },
    {
     "name": "stderr",
     "output_type": "stream",
     "text": [
      "Epoch 45  ||  Total Loss : 43265.7919: 100%|████████████████████████████████████████████████████████████████████████████████████████████████████████████████| 98/98 [00:01<00:00, 97.27it/s]\n",
      "Epoch 45  ||  Total Loss : 42310.8190: 100%|████████████████████████████████████████████████████████████████████████████████████████████████████████████████| 25/25 [00:00<00:00, 42.50it/s]\n"
     ]
    },
    {
     "name": "stdout",
     "output_type": "stream",
     "text": [
      "Saving CKPT\n",
      "\n",
      "\n"
     ]
    },
    {
     "name": "stderr",
     "output_type": "stream",
     "text": [
      "Epoch 46  ||  Total Loss : 41468.2577: 100%|████████████████████████████████████████████████████████████████████████████████████████████████████████████████| 98/98 [00:01<00:00, 93.44it/s]\n",
      "Epoch 46  ||  Total Loss : 40545.0018: 100%|████████████████████████████████████████████████████████████████████████████████████████████████████████████████| 25/25 [00:00<00:00, 41.47it/s]\n"
     ]
    },
    {
     "name": "stdout",
     "output_type": "stream",
     "text": [
      "Saving CKPT\n",
      "\n",
      "\n"
     ]
    },
    {
     "name": "stderr",
     "output_type": "stream",
     "text": [
      "Epoch 47  ||  Total Loss : 39739.0967: 100%|████████████████████████████████████████████████████████████████████████████████████████████████████████████████| 98/98 [00:01<00:00, 93.42it/s]\n",
      "Epoch 47  ||  Total Loss : 38844.9329: 100%|████████████████████████████████████████████████████████████████████████████████████████████████████████████████| 25/25 [00:00<00:00, 43.97it/s]\n"
     ]
    },
    {
     "name": "stdout",
     "output_type": "stream",
     "text": [
      "Saving CKPT\n",
      "\n",
      "\n"
     ]
    },
    {
     "name": "stderr",
     "output_type": "stream",
     "text": [
      "Epoch 48  ||  Total Loss : 38068.7749: 100%|████████████████████████████████████████████████████████████████████████████████████████████████████████████████| 98/98 [00:01<00:00, 95.10it/s]\n",
      "Epoch 48  ||  Total Loss : 37203.3870: 100%|████████████████████████████████████████████████████████████████████████████████████████████████████████████████| 25/25 [00:00<00:00, 43.31it/s]\n"
     ]
    },
    {
     "name": "stdout",
     "output_type": "stream",
     "text": [
      "Saving CKPT\n",
      "\n",
      "\n"
     ]
    },
    {
     "name": "stderr",
     "output_type": "stream",
     "text": [
      "Epoch 49  ||  Total Loss : 36467.4333: 100%|████████████████████████████████████████████████████████████████████████████████████████████████████████████████| 98/98 [00:01<00:00, 95.29it/s]\n",
      "Epoch 49  ||  Total Loss : 35625.5910: 100%|████████████████████████████████████████████████████████████████████████████████████████████████████████████████| 25/25 [00:00<00:00, 42.90it/s]\n"
     ]
    },
    {
     "name": "stdout",
     "output_type": "stream",
     "text": [
      "Saving CKPT\n",
      "\n",
      "\n"
     ]
    },
    {
     "name": "stderr",
     "output_type": "stream",
     "text": [
      "Epoch 50  ||  Total Loss : 34917.0744: 100%|████████████████████████████████████████████████████████████████████████████████████████████████████████████████| 98/98 [00:01<00:00, 94.69it/s]\n",
      "Epoch 50  ||  Total Loss : 34105.9113: 100%|████████████████████████████████████████████████████████████████████████████████████████████████████████████████| 25/25 [00:00<00:00, 43.40it/s]\n"
     ]
    },
    {
     "name": "stdout",
     "output_type": "stream",
     "text": [
      "Saving CKPT\n",
      "\n",
      "\n"
     ]
    },
    {
     "name": "stderr",
     "output_type": "stream",
     "text": [
      "Epoch 51  ||  Total Loss : 33427.9213: 100%|████████████████████████████████████████████████████████████████████████████████████████████████████████████████| 98/98 [00:01<00:00, 94.82it/s]\n",
      "Epoch 51  ||  Total Loss : 32644.0046: 100%|████████████████████████████████████████████████████████████████████████████████████████████████████████████████| 25/25 [00:00<00:00, 42.58it/s]\n"
     ]
    },
    {
     "name": "stdout",
     "output_type": "stream",
     "text": [
      "Saving CKPT\n",
      "\n",
      "\n"
     ]
    },
    {
     "name": "stderr",
     "output_type": "stream",
     "text": [
      "Epoch 52  ||  Total Loss : 31999.3485: 100%|████████████████████████████████████████████████████████████████████████████████████████████████████████████████| 98/98 [00:01<00:00, 94.12it/s]\n",
      "Epoch 52  ||  Total Loss : 31238.4130: 100%|████████████████████████████████████████████████████████████████████████████████████████████████████████████████| 25/25 [00:00<00:00, 43.09it/s]\n"
     ]
    },
    {
     "name": "stdout",
     "output_type": "stream",
     "text": [
      "Saving CKPT\n",
      "\n",
      "\n"
     ]
    },
    {
     "name": "stderr",
     "output_type": "stream",
     "text": [
      "Epoch 53  ||  Total Loss : 30620.2946: 100%|████████████████████████████████████████████████████████████████████████████████████████████████████████████████| 98/98 [00:01<00:00, 95.87it/s]\n",
      "Epoch 53  ||  Total Loss : 29882.9128: 100%|████████████████████████████████████████████████████████████████████████████████████████████████████████████████| 25/25 [00:00<00:00, 43.00it/s]\n"
     ]
    },
    {
     "name": "stdout",
     "output_type": "stream",
     "text": [
      "Saving CKPT\n",
      "\n",
      "\n"
     ]
    },
    {
     "name": "stderr",
     "output_type": "stream",
     "text": [
      "Epoch 54  ||  Total Loss : 29295.5396: 100%|████████████████████████████████████████████████████████████████████████████████████████████████████████████████| 98/98 [00:01<00:00, 92.79it/s]\n",
      "Epoch 54  ||  Total Loss : 28582.2746: 100%|████████████████████████████████████████████████████████████████████████████████████████████████████████████████| 25/25 [00:00<00:00, 42.76it/s]\n"
     ]
    },
    {
     "name": "stdout",
     "output_type": "stream",
     "text": [
      "Saving CKPT\n",
      "\n",
      "\n"
     ]
    },
    {
     "name": "stderr",
     "output_type": "stream",
     "text": [
      "Epoch 55  ||  Total Loss : 28019.7760: 100%|████████████████████████████████████████████████████████████████████████████████████████████████████████████████| 98/98 [00:01<00:00, 95.13it/s]\n",
      "Epoch 55  ||  Total Loss : 27332.1456: 100%|████████████████████████████████████████████████████████████████████████████████████████████████████████████████| 25/25 [00:00<00:00, 43.15it/s]\n"
     ]
    },
    {
     "name": "stdout",
     "output_type": "stream",
     "text": [
      "Saving CKPT\n",
      "\n",
      "\n"
     ]
    },
    {
     "name": "stderr",
     "output_type": "stream",
     "text": [
      "Epoch 56  ||  Total Loss : 26796.1169: 100%|████████████████████████████████████████████████████████████████████████████████████████████████████████████████| 98/98 [00:01<00:00, 95.45it/s]\n",
      "Epoch 56  ||  Total Loss : 26136.7177: 100%|████████████████████████████████████████████████████████████████████████████████████████████████████████████████| 25/25 [00:00<00:00, 43.94it/s]\n"
     ]
    },
    {
     "name": "stdout",
     "output_type": "stream",
     "text": [
      "Saving CKPT\n",
      "\n",
      "\n"
     ]
    },
    {
     "name": "stderr",
     "output_type": "stream",
     "text": [
      "Epoch 57  ||  Total Loss : 25622.0539: 100%|████████████████████████████████████████████████████████████████████████████████████████████████████████████████| 98/98 [00:01<00:00, 96.11it/s]\n",
      "Epoch 57  ||  Total Loss : 24980.7675: 100%|████████████████████████████████████████████████████████████████████████████████████████████████████████████████| 25/25 [00:00<00:00, 43.82it/s]\n"
     ]
    },
    {
     "name": "stdout",
     "output_type": "stream",
     "text": [
      "Saving CKPT\n",
      "\n",
      "\n"
     ]
    },
    {
     "name": "stderr",
     "output_type": "stream",
     "text": [
      "Epoch 58  ||  Total Loss : 24491.8506: 100%|████████████████████████████████████████████████████████████████████████████████████████████████████████████████| 98/98 [00:01<00:00, 96.32it/s]\n",
      "Epoch 58  ||  Total Loss : 23876.5828: 100%|████████████████████████████████████████████████████████████████████████████████████████████████████████████████| 25/25 [00:00<00:00, 43.56it/s]\n"
     ]
    },
    {
     "name": "stdout",
     "output_type": "stream",
     "text": [
      "Saving CKPT\n",
      "\n",
      "\n"
     ]
    },
    {
     "name": "stderr",
     "output_type": "stream",
     "text": [
      "Epoch 59  ||  Total Loss : 23410.4458: 100%|████████████████████████████████████████████████████████████████████████████████████████████████████████████████| 98/98 [00:01<00:00, 95.62it/s]\n",
      "Epoch 59  ||  Total Loss : 22811.3037: 100%|████████████████████████████████████████████████████████████████████████████████████████████████████████████████| 25/25 [00:00<00:00, 43.34it/s]\n"
     ]
    },
    {
     "name": "stdout",
     "output_type": "stream",
     "text": [
      "Saving CKPT\n",
      "\n",
      "\n"
     ]
    },
    {
     "name": "stderr",
     "output_type": "stream",
     "text": [
      "Epoch 60  ||  Total Loss : 22368.3906: 100%|████████████████████████████████████████████████████████████████████████████████████████████████████████████████| 98/98 [00:01<00:00, 96.04it/s]\n",
      "Epoch 60  ||  Total Loss : 21796.8167: 100%|████████████████████████████████████████████████████████████████████████████████████████████████████████████████| 25/25 [00:00<00:00, 43.49it/s]\n"
     ]
    },
    {
     "name": "stdout",
     "output_type": "stream",
     "text": [
      "Saving CKPT\n",
      "\n",
      "\n"
     ]
    },
    {
     "name": "stderr",
     "output_type": "stream",
     "text": [
      "Epoch 61  ||  Total Loss : 21375.6233: 100%|████████████████████████████████████████████████████████████████████████████████████████████████████████████████| 98/98 [00:01<00:00, 96.32it/s]\n",
      "Epoch 61  ||  Total Loss : 20823.7580: 100%|████████████████████████████████████████████████████████████████████████████████████████████████████████████████| 25/25 [00:00<00:00, 42.80it/s]\n"
     ]
    },
    {
     "name": "stdout",
     "output_type": "stream",
     "text": [
      "Saving CKPT\n",
      "\n",
      "\n"
     ]
    },
    {
     "name": "stderr",
     "output_type": "stream",
     "text": [
      "Epoch 62  ||  Total Loss : 20416.4985: 100%|████████████████████████████████████████████████████████████████████████████████████████████████████████████████| 98/98 [00:01<00:00, 91.62it/s]\n",
      "Epoch 62  ||  Total Loss : 19884.4405: 100%|████████████████████████████████████████████████████████████████████████████████████████████████████████████████| 25/25 [00:00<00:00, 43.97it/s]\n"
     ]
    },
    {
     "name": "stdout",
     "output_type": "stream",
     "text": [
      "Saving CKPT\n",
      "\n",
      "\n"
     ]
    },
    {
     "name": "stderr",
     "output_type": "stream",
     "text": [
      "Epoch 63  ||  Total Loss : 19498.4541: 100%|████████████████████████████████████████████████████████████████████████████████████████████████████████████████| 98/98 [00:01<00:00, 93.57it/s]\n",
      "Epoch 63  ||  Total Loss : 18982.4865: 100%|████████████████████████████████████████████████████████████████████████████████████████████████████████████████| 25/25 [00:00<00:00, 42.12it/s]\n"
     ]
    },
    {
     "name": "stdout",
     "output_type": "stream",
     "text": [
      "Saving CKPT\n",
      "\n",
      "\n"
     ]
    },
    {
     "name": "stderr",
     "output_type": "stream",
     "text": [
      "Epoch 64  ||  Total Loss : 18618.1135: 100%|████████████████████████████████████████████████████████████████████████████████████████████████████████████████| 98/98 [00:01<00:00, 95.74it/s]\n",
      "Epoch 64  ||  Total Loss : 18124.9783: 100%|████████████████████████████████████████████████████████████████████████████████████████████████████████████████| 25/25 [00:00<00:00, 43.87it/s]\n"
     ]
    },
    {
     "name": "stdout",
     "output_type": "stream",
     "text": [
      "Saving CKPT\n",
      "\n",
      "\n"
     ]
    },
    {
     "name": "stderr",
     "output_type": "stream",
     "text": [
      "Epoch 65  ||  Total Loss : 17776.9569: 100%|████████████████████████████████████████████████████████████████████████████████████████████████████████████████| 98/98 [00:01<00:00, 96.48it/s]\n",
      "Epoch 65  ||  Total Loss : 17306.6290: 100%|████████████████████████████████████████████████████████████████████████████████████████████████████████████████| 25/25 [00:00<00:00, 43.91it/s]\n"
     ]
    },
    {
     "name": "stdout",
     "output_type": "stream",
     "text": [
      "Saving CKPT\n",
      "\n",
      "\n"
     ]
    },
    {
     "name": "stderr",
     "output_type": "stream",
     "text": [
      "Epoch 66  ||  Total Loss : 16970.1816: 100%|████████████████████████████████████████████████████████████████████████████████████████████████████████████████| 98/98 [00:01<00:00, 94.84it/s]\n",
      "Epoch 66  ||  Total Loss : 16517.3312: 100%|████████████████████████████████████████████████████████████████████████████████████████████████████████████████| 25/25 [00:00<00:00, 44.21it/s]\n"
     ]
    },
    {
     "name": "stdout",
     "output_type": "stream",
     "text": [
      "Saving CKPT\n",
      "\n",
      "\n"
     ]
    },
    {
     "name": "stderr",
     "output_type": "stream",
     "text": [
      "Epoch 67  ||  Total Loss : 16196.7567: 100%|████████████████████████████████████████████████████████████████████████████████████████████████████████████████| 98/98 [00:01<00:00, 97.65it/s]\n",
      "Epoch 67  ||  Total Loss : 15759.8597: 100%|████████████████████████████████████████████████████████████████████████████████████████████████████████████████| 25/25 [00:00<00:00, 43.78it/s]\n"
     ]
    },
    {
     "name": "stdout",
     "output_type": "stream",
     "text": [
      "Saving CKPT\n",
      "\n",
      "\n"
     ]
    },
    {
     "name": "stderr",
     "output_type": "stream",
     "text": [
      "Epoch 68  ||  Total Loss : 15458.6239: 100%|████████████████████████████████████████████████████████████████████████████████████████████████████████████████| 98/98 [00:01<00:00, 94.91it/s]\n",
      "Epoch 68  ||  Total Loss : 15039.8088: 100%|████████████████████████████████████████████████████████████████████████████████████████████████████████████████| 25/25 [00:00<00:00, 42.12it/s]\n"
     ]
    },
    {
     "name": "stdout",
     "output_type": "stream",
     "text": [
      "Saving CKPT\n",
      "\n",
      "\n"
     ]
    },
    {
     "name": "stderr",
     "output_type": "stream",
     "text": [
      "Epoch 69  ||  Total Loss : 14748.3873: 100%|████████████████████████████████████████████████████████████████████████████████████████████████████████████████| 98/98 [00:01<00:00, 94.24it/s]\n",
      "Epoch 69  ||  Total Loss : 14347.3769: 100%|████████████████████████████████████████████████████████████████████████████████████████████████████████████████| 25/25 [00:00<00:00, 42.64it/s]\n"
     ]
    },
    {
     "name": "stdout",
     "output_type": "stream",
     "text": [
      "Saving CKPT\n",
      "\n",
      "\n"
     ]
    },
    {
     "name": "stderr",
     "output_type": "stream",
     "text": [
      "Epoch 70  ||  Total Loss : 14072.4273: 100%|████████████████████████████████████████████████████████████████████████████████████████████████████████████████| 98/98 [00:01<00:00, 94.98it/s]\n",
      "Epoch 70  ||  Total Loss : 13688.2359: 100%|████████████████████████████████████████████████████████████████████████████████████████████████████████████████| 25/25 [00:00<00:00, 42.54it/s]\n"
     ]
    },
    {
     "name": "stdout",
     "output_type": "stream",
     "text": [
      "Saving CKPT\n",
      "\n",
      "\n"
     ]
    },
    {
     "name": "stderr",
     "output_type": "stream",
     "text": [
      "Epoch 71  ||  Total Loss : 13423.2947: 100%|████████████████████████████████████████████████████████████████████████████████████████████████████████████████| 98/98 [00:01<00:00, 96.25it/s]\n",
      "Epoch 71  ||  Total Loss : 13054.3675: 100%|████████████████████████████████████████████████████████████████████████████████████████████████████████████████| 25/25 [00:00<00:00, 43.74it/s]\n"
     ]
    },
    {
     "name": "stdout",
     "output_type": "stream",
     "text": [
      "Saving CKPT\n",
      "\n",
      "\n"
     ]
    },
    {
     "name": "stderr",
     "output_type": "stream",
     "text": [
      "Epoch 72  ||  Total Loss : 12805.6870: 100%|████████████████████████████████████████████████████████████████████████████████████████████████████████████████| 98/98 [00:01<00:00, 95.00it/s]\n",
      "Epoch 72  ||  Total Loss : 12447.7666: 100%|████████████████████████████████████████████████████████████████████████████████████████████████████████████████| 25/25 [00:00<00:00, 43.22it/s]\n"
     ]
    },
    {
     "name": "stdout",
     "output_type": "stream",
     "text": [
      "Saving CKPT\n",
      "\n",
      "\n"
     ]
    },
    {
     "name": "stderr",
     "output_type": "stream",
     "text": [
      "Epoch 73  ||  Total Loss : 12214.5724: 100%|████████████████████████████████████████████████████████████████████████████████████████████████████████████████| 98/98 [00:01<00:00, 94.55it/s]\n",
      "Epoch 73  ||  Total Loss : 11873.3327: 100%|████████████████████████████████████████████████████████████████████████████████████████████████████████████████| 25/25 [00:00<00:00, 43.35it/s]\n"
     ]
    },
    {
     "name": "stdout",
     "output_type": "stream",
     "text": [
      "Saving CKPT\n",
      "\n",
      "\n"
     ]
    },
    {
     "name": "stderr",
     "output_type": "stream",
     "text": [
      "Epoch 74  ||  Total Loss : 11646.9497: 100%|████████████████████████████████████████████████████████████████████████████████████████████████████████████████| 98/98 [00:01<00:00, 90.86it/s]\n",
      "Epoch 74  ||  Total Loss : 11321.8934: 100%|████████████████████████████████████████████████████████████████████████████████████████████████████████████████| 25/25 [00:00<00:00, 42.43it/s]\n"
     ]
    },
    {
     "name": "stdout",
     "output_type": "stream",
     "text": [
      "Saving CKPT\n",
      "\n",
      "\n"
     ]
    },
    {
     "name": "stderr",
     "output_type": "stream",
     "text": [
      "Epoch 75  ||  Total Loss : 11107.5222: 100%|████████████████████████████████████████████████████████████████████████████████████████████████████████████████| 98/98 [00:01<00:00, 94.11it/s]\n",
      "Epoch 75  ||  Total Loss : 10792.8559: 100%|████████████████████████████████████████████████████████████████████████████████████████████████████████████████| 25/25 [00:00<00:00, 42.23it/s]\n"
     ]
    },
    {
     "name": "stdout",
     "output_type": "stream",
     "text": [
      "Saving CKPT\n",
      "\n",
      "\n"
     ]
    },
    {
     "name": "stderr",
     "output_type": "stream",
     "text": [
      "Epoch 76  ||  Total Loss : 10590.7538: 100%|████████████████████████████████████████████████████████████████████████████████████████████████████████████████| 98/98 [00:01<00:00, 95.68it/s]\n",
      "Epoch 76  ||  Total Loss : 10289.8587: 100%|████████████████████████████████████████████████████████████████████████████████████████████████████████████████| 25/25 [00:00<00:00, 43.00it/s]\n"
     ]
    },
    {
     "name": "stdout",
     "output_type": "stream",
     "text": [
      "Saving CKPT\n",
      "\n",
      "\n"
     ]
    },
    {
     "name": "stderr",
     "output_type": "stream",
     "text": [
      "Epoch 77  ||  Total Loss : 10094.9483: 100%|████████████████████████████████████████████████████████████████████████████████████████████████████████████████| 98/98 [00:01<00:00, 94.22it/s]\n",
      "Epoch 77  ||  Total Loss : 9809.7953: 100%|█████████████████████████████████████████████████████████████████████████████████████████████████████████████████| 25/25 [00:00<00:00, 43.67it/s]\n"
     ]
    },
    {
     "name": "stdout",
     "output_type": "stream",
     "text": [
      "Saving CKPT\n",
      "\n",
      "\n"
     ]
    },
    {
     "name": "stderr",
     "output_type": "stream",
     "text": [
      "Epoch 78  ||  Total Loss : 9626.7663: 100%|█████████████████████████████████████████████████████████████████████████████████████████████████████████████████| 98/98 [00:01<00:00, 95.82it/s]\n",
      "Epoch 78  ||  Total Loss : 9353.1098: 100%|█████████████████████████████████████████████████████████████████████████████████████████████████████████████████| 25/25 [00:00<00:00, 42.41it/s]\n"
     ]
    },
    {
     "name": "stdout",
     "output_type": "stream",
     "text": [
      "Saving CKPT\n",
      "\n",
      "\n"
     ]
    },
    {
     "name": "stderr",
     "output_type": "stream",
     "text": [
      "Epoch 79  ||  Total Loss : 9175.2790: 100%|█████████████████████████████████████████████████████████████████████████████████████████████████████████████████| 98/98 [00:01<00:00, 92.35it/s]\n",
      "Epoch 79  ||  Total Loss : 8914.6936: 100%|█████████████████████████████████████████████████████████████████████████████████████████████████████████████████| 25/25 [00:00<00:00, 43.26it/s]\n"
     ]
    },
    {
     "name": "stdout",
     "output_type": "stream",
     "text": [
      "Saving CKPT\n",
      "\n",
      "\n"
     ]
    },
    {
     "name": "stderr",
     "output_type": "stream",
     "text": [
      "Epoch 80  ||  Total Loss : 8746.9419: 100%|█████████████████████████████████████████████████████████████████████████████████████████████████████████████████| 98/98 [00:01<00:00, 95.04it/s]\n",
      "Epoch 80  ||  Total Loss : 8496.7031: 100%|█████████████████████████████████████████████████████████████████████████████████████████████████████████████████| 25/25 [00:00<00:00, 42.90it/s]\n"
     ]
    },
    {
     "name": "stdout",
     "output_type": "stream",
     "text": [
      "Saving CKPT\n",
      "\n",
      "\n"
     ]
    },
    {
     "name": "stderr",
     "output_type": "stream",
     "text": [
      "Epoch 81  ||  Total Loss : 8337.1752: 100%|█████████████████████████████████████████████████████████████████████████████████████████████████████████████████| 98/98 [00:01<00:00, 95.11it/s]\n",
      "Epoch 81  ||  Total Loss : 8098.8072: 100%|█████████████████████████████████████████████████████████████████████████████████████████████████████████████████| 25/25 [00:00<00:00, 41.74it/s]\n"
     ]
    },
    {
     "name": "stdout",
     "output_type": "stream",
     "text": [
      "Saving CKPT\n",
      "\n",
      "\n"
     ]
    },
    {
     "name": "stderr",
     "output_type": "stream",
     "text": [
      "Epoch 82  ||  Total Loss : 7946.1517: 100%|█████████████████████████████████████████████████████████████████████████████████████████████████████████████████| 98/98 [00:01<00:00, 96.81it/s]\n",
      "Epoch 82  ||  Total Loss : 7718.1832: 100%|█████████████████████████████████████████████████████████████████████████████████████████████████████████████████| 25/25 [00:00<00:00, 43.64it/s]\n"
     ]
    },
    {
     "name": "stdout",
     "output_type": "stream",
     "text": [
      "Saving CKPT\n",
      "\n",
      "\n"
     ]
    },
    {
     "name": "stderr",
     "output_type": "stream",
     "text": [
      "Epoch 83  ||  Total Loss : 7573.8878: 100%|█████████████████████████████████████████████████████████████████████████████████████████████████████████████████| 98/98 [00:01<00:00, 90.59it/s]\n",
      "Epoch 83  ||  Total Loss : 7353.7132: 100%|█████████████████████████████████████████████████████████████████████████████████████████████████████████████████| 25/25 [00:00<00:00, 42.12it/s]\n"
     ]
    },
    {
     "name": "stdout",
     "output_type": "stream",
     "text": [
      "Saving CKPT\n",
      "\n",
      "\n"
     ]
    },
    {
     "name": "stderr",
     "output_type": "stream",
     "text": [
      "Epoch 84  ||  Total Loss : 7218.0651: 100%|█████████████████████████████████████████████████████████████████████████████████████████████████████████████████| 98/98 [00:01<00:00, 94.19it/s]\n",
      "Epoch 84  ||  Total Loss : 7008.6129: 100%|█████████████████████████████████████████████████████████████████████████████████████████████████████████████████| 25/25 [00:00<00:00, 43.00it/s]\n"
     ]
    },
    {
     "name": "stdout",
     "output_type": "stream",
     "text": [
      "Saving CKPT\n",
      "\n",
      "\n"
     ]
    },
    {
     "name": "stderr",
     "output_type": "stream",
     "text": [
      "Epoch 85  ||  Total Loss : 6878.0709: 100%|█████████████████████████████████████████████████████████████████████████████████████████████████████████████████| 98/98 [00:01<00:00, 92.39it/s]\n",
      "Epoch 85  ||  Total Loss : 6679.2051: 100%|█████████████████████████████████████████████████████████████████████████████████████████████████████████████████| 25/25 [00:00<00:00, 42.11it/s]\n"
     ]
    },
    {
     "name": "stdout",
     "output_type": "stream",
     "text": [
      "Saving CKPT\n",
      "\n",
      "\n"
     ]
    },
    {
     "name": "stderr",
     "output_type": "stream",
     "text": [
      "Epoch 86  ||  Total Loss : 6554.2281: 100%|█████████████████████████████████████████████████████████████████████████████████████████████████████████████████| 98/98 [00:01<00:00, 92.59it/s]\n",
      "Epoch 86  ||  Total Loss : 6365.9064: 100%|█████████████████████████████████████████████████████████████████████████████████████████████████████████████████| 25/25 [00:00<00:00, 42.49it/s]\n"
     ]
    },
    {
     "name": "stdout",
     "output_type": "stream",
     "text": [
      "Saving CKPT\n",
      "\n",
      "\n"
     ]
    },
    {
     "name": "stderr",
     "output_type": "stream",
     "text": [
      "Epoch 87  ||  Total Loss : 6246.6694: 100%|█████████████████████████████████████████████████████████████████████████████████████████████████████████████████| 98/98 [00:01<00:00, 93.27it/s]\n",
      "Epoch 87  ||  Total Loss : 6066.3487: 100%|█████████████████████████████████████████████████████████████████████████████████████████████████████████████████| 25/25 [00:00<00:00, 43.15it/s]\n"
     ]
    },
    {
     "name": "stdout",
     "output_type": "stream",
     "text": [
      "Saving CKPT\n",
      "\n",
      "\n"
     ]
    },
    {
     "name": "stderr",
     "output_type": "stream",
     "text": [
      "Epoch 88  ||  Total Loss : 5953.1573: 100%|█████████████████████████████████████████████████████████████████████████████████████████████████████████████████| 98/98 [00:01<00:00, 90.26it/s]\n",
      "Epoch 88  ||  Total Loss : 5780.4025: 100%|█████████████████████████████████████████████████████████████████████████████████████████████████████████████████| 25/25 [00:00<00:00, 43.12it/s]\n"
     ]
    },
    {
     "name": "stdout",
     "output_type": "stream",
     "text": [
      "Saving CKPT\n",
      "\n",
      "\n"
     ]
    },
    {
     "name": "stderr",
     "output_type": "stream",
     "text": [
      "Epoch 89  ||  Total Loss : 5674.6446: 100%|█████████████████████████████████████████████████████████████████████████████████████████████████████████████████| 98/98 [00:01<00:00, 96.28it/s]\n",
      "Epoch 89  ||  Total Loss : 5508.4389: 100%|█████████████████████████████████████████████████████████████████████████████████████████████████████████████████| 25/25 [00:00<00:00, 43.65it/s]\n"
     ]
    },
    {
     "name": "stdout",
     "output_type": "stream",
     "text": [
      "Saving CKPT\n",
      "\n",
      "\n"
     ]
    },
    {
     "name": "stderr",
     "output_type": "stream",
     "text": [
      "Epoch 90  ||  Total Loss : 5406.5196: 100%|█████████████████████████████████████████████████████████████████████████████████████████████████████████████████| 98/98 [00:01<00:00, 88.02it/s]\n",
      "Epoch 90  ||  Total Loss : 5249.6654: 100%|█████████████████████████████████████████████████████████████████████████████████████████████████████████████████| 25/25 [00:00<00:00, 42.97it/s]\n"
     ]
    },
    {
     "name": "stdout",
     "output_type": "stream",
     "text": [
      "Saving CKPT\n",
      "\n",
      "\n"
     ]
    },
    {
     "name": "stderr",
     "output_type": "stream",
     "text": [
      "Epoch 91  ||  Total Loss : 5154.7890: 100%|█████████████████████████████████████████████████████████████████████████████████████████████████████████████████| 98/98 [00:01<00:00, 91.67it/s]\n",
      "Epoch 91  ||  Total Loss : 5003.7596: 100%|█████████████████████████████████████████████████████████████████████████████████████████████████████████████████| 25/25 [00:00<00:00, 42.63it/s]\n"
     ]
    },
    {
     "name": "stdout",
     "output_type": "stream",
     "text": [
      "Saving CKPT\n",
      "\n",
      "\n"
     ]
    },
    {
     "name": "stderr",
     "output_type": "stream",
     "text": [
      "Epoch 92  ||  Total Loss : 4912.6962: 100%|█████████████████████████████████████████████████████████████████████████████████████████████████████████████████| 98/98 [00:01<00:00, 93.02it/s]\n",
      "Epoch 92  ||  Total Loss : 4770.0959: 100%|█████████████████████████████████████████████████████████████████████████████████████████████████████████████████| 25/25 [00:00<00:00, 43.91it/s]\n"
     ]
    },
    {
     "name": "stdout",
     "output_type": "stream",
     "text": [
      "Saving CKPT\n",
      "\n",
      "\n"
     ]
    },
    {
     "name": "stderr",
     "output_type": "stream",
     "text": [
      "Epoch 93  ||  Total Loss : 4682.5815: 100%|█████████████████████████████████████████████████████████████████████████████████████████████████████████████████| 98/98 [00:01<00:00, 95.69it/s]\n",
      "Epoch 93  ||  Total Loss : 4544.9781: 100%|█████████████████████████████████████████████████████████████████████████████████████████████████████████████████| 25/25 [00:00<00:00, 43.84it/s]\n"
     ]
    },
    {
     "name": "stdout",
     "output_type": "stream",
     "text": [
      "Saving CKPT\n",
      "\n",
      "\n"
     ]
    },
    {
     "name": "stderr",
     "output_type": "stream",
     "text": [
      "Epoch 94  ||  Total Loss : 4462.3571: 100%|█████████████████████████████████████████████████████████████████████████████████████████████████████████████████| 98/98 [00:01<00:00, 94.54it/s]\n",
      "Epoch 94  ||  Total Loss : 4335.7322: 100%|█████████████████████████████████████████████████████████████████████████████████████████████████████████████████| 25/25 [00:00<00:00, 44.41it/s]\n"
     ]
    },
    {
     "name": "stdout",
     "output_type": "stream",
     "text": [
      "Saving CKPT\n",
      "\n",
      "\n"
     ]
    },
    {
     "name": "stderr",
     "output_type": "stream",
     "text": [
      "Epoch 95  ||  Total Loss : 4253.7215: 100%|█████████████████████████████████████████████████████████████████████████████████████████████████████████████████| 98/98 [00:01<00:00, 95.83it/s]\n",
      "Epoch 95  ||  Total Loss : 4131.4153: 100%|█████████████████████████████████████████████████████████████████████████████████████████████████████████████████| 25/25 [00:00<00:00, 42.54it/s]\n"
     ]
    },
    {
     "name": "stdout",
     "output_type": "stream",
     "text": [
      "Saving CKPT\n",
      "\n",
      "\n"
     ]
    },
    {
     "name": "stderr",
     "output_type": "stream",
     "text": [
      "Epoch 96  ||  Total Loss : 4055.1175: 100%|█████████████████████████████████████████████████████████████████████████████████████████████████████████████████| 98/98 [00:01<00:00, 94.40it/s]\n",
      "Epoch 96  ||  Total Loss : 3939.6183: 100%|█████████████████████████████████████████████████████████████████████████████████████████████████████████████████| 25/25 [00:00<00:00, 42.66it/s]\n"
     ]
    },
    {
     "name": "stdout",
     "output_type": "stream",
     "text": [
      "Saving CKPT\n",
      "\n",
      "\n"
     ]
    },
    {
     "name": "stderr",
     "output_type": "stream",
     "text": [
      "Epoch 97  ||  Total Loss : 3866.6448: 100%|█████████████████████████████████████████████████████████████████████████████████████████████████████████████████| 98/98 [00:01<00:00, 90.48it/s]\n",
      "Epoch 97  ||  Total Loss : 3757.2178: 100%|█████████████████████████████████████████████████████████████████████████████████████████████████████████████████| 25/25 [00:00<00:00, 42.12it/s]\n"
     ]
    },
    {
     "name": "stdout",
     "output_type": "stream",
     "text": [
      "Saving CKPT\n",
      "\n",
      "\n"
     ]
    },
    {
     "name": "stderr",
     "output_type": "stream",
     "text": [
      "Epoch 98  ||  Total Loss : 3685.8581: 100%|█████████████████████████████████████████████████████████████████████████████████████████████████████████████████| 98/98 [00:01<00:00, 93.44it/s]\n",
      "Epoch 98  ||  Total Loss : 3580.6668: 100%|█████████████████████████████████████████████████████████████████████████████████████████████████████████████████| 25/25 [00:00<00:00, 43.02it/s]\n"
     ]
    },
    {
     "name": "stdout",
     "output_type": "stream",
     "text": [
      "Saving CKPT\n",
      "\n",
      "\n"
     ]
    },
    {
     "name": "stderr",
     "output_type": "stream",
     "text": [
      "Epoch 99  ||  Total Loss : 3514.7561: 100%|█████████████████████████████████████████████████████████████████████████████████████████████████████████████████| 98/98 [00:00<00:00, 98.14it/s]\n",
      "Epoch 99  ||  Total Loss : 3417.6945: 100%|█████████████████████████████████████████████████████████████████████████████████████████████████████████████████| 25/25 [00:00<00:00, 43.43it/s]"
     ]
    },
    {
     "name": "stdout",
     "output_type": "stream",
     "text": [
      "Saving CKPT\n",
      "\n",
      "\n"
     ]
    },
    {
     "name": "stderr",
     "output_type": "stream",
     "text": [
      "\n"
     ]
    }
   ],
   "source": [
    "model = ImplicitMF_Bias(num_users, num_items, d_model)\n",
    "optimiser = optim.Adam(model.parameters(), lr=lr)\n",
    "ckpt_path = \"models/implicitALS_Bias_DL.pt\"\n",
    "train_losses, test_losses = run(model, optimiser, train_loader, test_loader, reg_lambda=0.1, device=device, ckpt_path=ckpt_path, epochs=100, verbose=True)"
   ]
  },
  {
   "cell_type": "code",
   "execution_count": 27,
   "id": "54c33d47-9cc5-4f08-837f-e984ca3c7c29",
   "metadata": {},
   "outputs": [
    {
     "data": {
      "image/png": "[encoded data removed]",
      "text/plain": [
       "<Figure size 640x480 with 1 Axes>"
      ]
     },
     "metadata": {},
     "output_type": "display_data"
    }
   ],
   "source": [
    "plt.plot(np.arange(100), train_losses , label = \"Train Loss\")\n",
    "plt.plot(np.arange(100), test_losses , label = \"Test Loss\")\n",
    "plt.xlabel(\"Epoch\")\n",
    "plt.ylabel(\"Avg Loss\")\n",
    "plt.title(\"Training vs Validation Loss Curve\")\n",
    "plt.legend()\n",
    "plt.tight_layout()\n",
    "plt.show()"
   ]
  },
  {
   "cell_type": "code",
   "execution_count": null,
   "id": "8d3bb2fc-d118-45d6-8422-9e892cd49984",
   "metadata": {},
   "outputs": [],
   "source": []
  },
  {
   "cell_type": "markdown",
   "id": "f9c3db7c-5ed1-429c-a5e1-2f5195d09aba",
   "metadata": {},
   "source": [
    "#### Evaluation Scripts"
   ]
  },
  {
   "cell_type": "code",
   "execution_count": 28,
   "id": "03e65980-a50a-4775-9af4-26be0f1b8e27",
   "metadata": {},
   "outputs": [
    {
     "data": {
      "text/plain": [
       "ImplicitMF_Bias(\n",
       "  (user_embeddings): Embedding(6040, 128)\n",
       "  (item_embeddings): Embedding(3706, 128)\n",
       "  (user_bias): Embedding(6040, 1)\n",
       "  (item_bias): Embedding(3706, 1)\n",
       ")"
      ]
     },
     "execution_count": 28,
     "metadata": {},
     "output_type": "execute_result"
    }
   ],
   "source": [
    "model = ImplicitMF_Bias(num_users, num_items, d_model)\n",
    "ckpt = torch.load(\"models/implicitALS_Bias_DL.pt\", weights_only=False)\n",
    "model.load_state_dict(ckpt['state_dict'])\n",
    "model.to(device)"
   ]
  },
  {
   "cell_type": "code",
   "execution_count": 29,
   "id": "e4d680d5-5c3a-436c-bd4b-4eca43526906",
   "metadata": {},
   "outputs": [
    {
     "name": "stderr",
     "output_type": "stream",
     "text": [
      "100%|██████████████████████████████████████████████████████████████████████████████████████████████████████████████████████████████████████████████████| 6040/6040 [00:24<00:00, 243.75it/s]\n"
     ]
    }
   ],
   "source": [
    "train_ndcgs = {}\n",
    "test_ndcgs = {}\n",
    "\n",
    "k_range = [5,10,20]\n",
    "\n",
    "for user_idx in tqdm(range(num_users)):\n",
    "    train_df_user = train_df[train_df['user_idx'] == user_idx]\n",
    "    gt_train_items = train_df_user['movie_idx'].to_list()\n",
    "    gt_train_ratings = train_df_user['rating'].to_list()\n",
    "\n",
    "    test_df_user = test_df[test_df['user_idx'] == user_idx]\n",
    "    gt_test_items = test_df_user['movie_idx'].to_list()\n",
    "    gt_test_ratings = test_df_user['rating'].to_list()\n",
    "    \n",
    "    user_vec = model.user_embeddings(torch.tensor([user_idx]).to(device))\n",
    "    user_bias = model.user_bias(torch.tensor([user_idx]).to(device)).squeeze().detach().cpu().numpy()\n",
    "    train_item_vecs = model.item_embeddings(torch.tensor(gt_train_items).to(device))\n",
    "    train_item_bias = model.item_bias(torch.tensor(gt_train_items).to(device)).squeeze().detach().cpu().numpy()\n",
    "    user_train_item_affinities = (user_vec * train_item_vecs).sum(dim=1).detach().cpu().numpy() + user_bias + train_item_bias\n",
    "    \n",
    "    test_item_vecs = model.item_embeddings(torch.tensor(gt_test_items).to(device))\n",
    "    test_item_bias = model.item_bias(torch.tensor(gt_test_items).to(device)).squeeze().detach().cpu().numpy()\n",
    "    user_test_item_affinities = (user_vec * test_item_vecs).sum(dim=1).detach().cpu().numpy() + user_bias + test_item_bias\n",
    "    \n",
    "    for k in k_range:\n",
    "        if k not in train_ndcgs.keys():\n",
    "            train_ndcgs[k] = []\n",
    "        if k not in test_ndcgs.keys():\n",
    "            test_ndcgs[k] = []\n",
    "        train_ndcgs[k].append(ndcg_score([gt_train_ratings], [user_train_item_affinities], k=k))\n",
    "        test_ndcgs[k].append(ndcg_score([gt_test_ratings], [user_test_item_affinities], k=k))\n",
    "        "
   ]
  },
  {
   "cell_type": "code",
   "execution_count": null,
   "id": "38acba6e-08e3-422d-adcc-7124b13c9671",
   "metadata": {},
   "outputs": [],
   "source": []
  },
  {
   "cell_type": "code",
   "execution_count": 30,
   "id": "ec165a3a-3f6c-4848-98f4-16c89ed926c7",
   "metadata": {},
   "outputs": [
    {
     "data": {
      "image/png": "[encoded data removed]",
      "text/plain": [
       "<Figure size 1200x500 with 1 Axes>"
      ]
     },
     "metadata": {},
     "output_type": "display_data"
    }
   ],
   "source": [
    "train_ndcgs_mean = [np.array(train_ndcgs[k]).mean() for k in k_range]\n",
    "test_ndcgs_mean = [np.array(test_ndcgs[k]).mean() for k in k_range]\n",
    "\n",
    "ndcg_metric_df = pd.concat([pd.DataFrame({'k' : k_range, 'ndcg_mean' : train_ndcgs_mean, 'train/test' : ['train' for k in k_range]}),\n",
    "           pd.DataFrame({'k' : k_range, 'ndcg_mean' : test_ndcgs_mean, 'train/test' : ['test' for k in k_range]})])\n",
    "\n",
    "plt.figure(figsize=(12,5))\n",
    "\n",
    "ax = sns.barplot(data=ndcg_metric_df, x='k', y='ndcg_mean', hue='train/test', width=0.3)\n",
    "\n",
    "# Add value labels over each bar\n",
    "for p, value in zip(ax.patches, ndcg_metric_df['ndcg_mean']):\n",
    "    ax.annotate(f'{value:.3f}', \n",
    "                (p.get_x() + p.get_width() / 2., p.get_height()), \n",
    "                ha='center', va='center', \n",
    "                xytext=(0, 9), \n",
    "                textcoords='offset points')\n",
    "plt.title(\"Average NDCG for users in train/test interaction splits\")\n",
    "plt.tight_layout()\n",
    "plt.show()"
   ]
  },
  {
   "cell_type": "code",
   "execution_count": null,
   "id": "2a3219c7-114b-44ce-9a02-79ad012e7c51",
   "metadata": {},
   "outputs": [],
   "source": []
  },
  {
   "cell_type": "markdown",
   "id": "6c0be545-672c-4158-af39-b366c4cc14b1",
   "metadata": {},
   "source": [
    "### Checking for Diversity and Popularity Bias"
   ]
  },
  {
   "cell_type": "code",
   "execution_count": 31,
   "id": "41e39236-ee64-48fb-9568-f38ea547468c",
   "metadata": {},
   "outputs": [
    {
     "name": "stderr",
     "output_type": "stream",
     "text": [
      "100%|█████████████████████████████████████████████████████████████████████████████████████████████████████████████████████████████████████████████████| 6040/6040 [00:03<00:00, 1780.32it/s]\n"
     ]
    }
   ],
   "source": [
    "k = 20 # Checking diversity and popularity bias in top 20 recommendations\n",
    "user_recommended_items = {}\n",
    "user_recommended_items_popularity = []\n",
    "\n",
    "for user_idx in tqdm(range(num_users)):\n",
    "    user_vec = model.user_embeddings(torch.tensor([user_idx]).to(device))\n",
    "    item_vecs = model.item_embeddings(torch.arange(num_items).to(device))\n",
    "    recommended_items = np.argsort((user_vec * item_vecs).sum(1).detach().cpu().numpy())[:20]\n",
    "    user_recommended_items[user_idx] = recommended_items\n",
    "    \n",
    "    user_recommended_items_popularity.extend(avg_movie_rating_count[avg_movie_rating_count['movie_idx'].isin(recommended_items)]['rating'].to_list())"
   ]
  },
  {
   "cell_type": "code",
   "execution_count": 32,
   "id": "613ad100-f292-4deb-a000-be6cce98a4b9",
   "metadata": {},
   "outputs": [
    {
     "data": {
      "image/png": "[encoded data removed]",
      "text/plain": [
       "<Figure size 640x480 with 1 Axes>"
      ]
     },
     "metadata": {},
     "output_type": "display_data"
    }
   ],
   "source": [
    "sns.histplot(user_recommended_items_popularity, kde=True)\n",
    "plt.xlabel(\"Rating\")\n",
    "plt.title(\"Average Rating of Top K movies Recommended Accross all users\")\n",
    "plt.show()"
   ]
  },
  {
   "cell_type": "code",
   "execution_count": 33,
   "id": "129da8f3-3560-4a8d-98f1-ed0e8ed66357",
   "metadata": {},
   "outputs": [],
   "source": [
    "unique_items_recommended = []\n",
    "for l in list(user_recommended_items.values()):\n",
    "    unique_items_recommended.extend(l)\n",
    "unique_items_recommended = set(unique_items_recommended)"
   ]
  },
  {
   "cell_type": "code",
   "execution_count": 34,
   "id": "29c20268-b2bd-4ffe-89b1-2163f38a57cf",
   "metadata": {},
   "outputs": [
    {
     "data": {
      "text/plain": [
       "0.35294117647058826"
      ]
     },
     "execution_count": 34,
     "metadata": {},
     "output_type": "execute_result"
    }
   ],
   "source": [
    "len(unique_items_recommended) / num_items"
   ]
  },
  {
   "cell_type": "code",
   "execution_count": null,
   "id": "9dfae10c-c820-453a-a227-64e5ee7db21f",
   "metadata": {},
   "outputs": [],
   "source": []
  },
  {
   "cell_type": "markdown",
   "id": "33ec5eb4-4843-4b29-9c62-7bb02947cf1a",
   "metadata": {},
   "source": [
    "## Observations:\n",
    "\n",
    "1. Models trained with both approaches seem to have learnt the user and item representations decently with NDCG > ~0.8 for test sets.\n",
    "2. While theoretically, representations learnt with Approach 2 should have proven better than Approach 1, Experiments show NDCG scores similar in both approaches - suugesting there could be some overfitting taking place. Corrective measures could be taken with hyperparameter tuning of $\\lambda$ and $\\alpha$\n",
    "3. While there is no popularity bias in both models (refer to **Average Rating of Top K movies Recommended Accross all users** plots from both approaches), unique recommendtaion across all users from approach 2 cover 35% diversity of movies as compared to 31.38% from approach 1"
   ]
  }
 ],
 "metadata": {
  "kernelspec": {
   "display_name": "cf",
   "language": "python",
   "name": "cf"
  },
  "language_info": {
   "codemirror_mode": {
    "name": "ipython",
    "version": 3
   },
   "file_extension": ".py",
   "mimetype": "text/x-python",
   "name": "python",
   "nbconvert_exporter": "python",
   "pygments_lexer": "ipython3",
   "version": "3.11.0"
  }
 },
 "nbformat": 4,
 "nbformat_minor": 5
}
